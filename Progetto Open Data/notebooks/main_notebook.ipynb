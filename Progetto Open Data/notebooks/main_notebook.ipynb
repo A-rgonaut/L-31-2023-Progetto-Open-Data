{
 "cells": [
  {
   "attachments": {},
   "cell_type": "markdown",
   "id": "d4893ee6",
   "metadata": {},
   "source": [
    "# <center> **Tesina di Open Data Management 2022-2023**\n",
    "\n",
    "<br>\n",
    "<div align=\"center\">\n",
    "    <img src=\"op_wallpaper.jpg\" width=\"1200\" height=\"auto\">\n",
    "\n",
    "### <center> _Andrea Spinelli, Raffaele Terracino, Marco Valenti_\n",
    "##### <center> 23 Giugno \n",
    "\n",
    "***\n",
    "***"
   ]
  },
  {
   "attachments": {},
   "cell_type": "markdown",
   "id": "4ed5dffb",
   "metadata": {},
   "source": [
    "# __Indice__"
   ]
  },
  {
   "attachments": {},
   "cell_type": "markdown",
   "id": "f4687743",
   "metadata": {},
   "source": [
    "###  [`1. - Traccia`](#1-traccia)\n",
    "### [`2. - Selezione dei dataset`](#2-selezione-dei-dataset)\n",
    "##### &emsp;&emsp; [`2.1 - Raccolta`](#21-raccolta)\n",
    "##### &emsp;&emsp; [`2.2 - Licenze`](#22-licenze)\n",
    "### [`3. - Elaborazione dei dataset`](#3-elaborazione-dei-dataset)\n",
    "##### &emsp;&emsp; [`3.1 - Pulizia e selezione dei dati rilevanti`](#31-pulizia-e-selezione-dei-dati-rilevanti)\n",
    "##### &emsp;&emsp; [`3.2 - Arricchimento`](#32-arricchimento)\n",
    "### [`4. - Trasformazione dei dataset a 5 stelle`](#4-trasformazione-dei-dataset-a-5-stelle)\n",
    "##### &emsp;&emsp; [`4.1 - Ontologia`](#41-ontologia)\n",
    "##### &emsp;&emsp; [`4.2 - Passaggio a 5 stelle`](#42-passaggio-a-5-stelle)\n",
    "### [`5. - Data visualization`](#5-data-visualization)\n",
    "### [`6. - Creazione di un'applicazione`](#6-creazione-di-unapplicazione)"
   ]
  },
  {
   "attachments": {},
   "cell_type": "markdown",
   "id": "a21597c8",
   "metadata": {},
   "source": [
    "***\n",
    "***\n",
    "# __`1 Traccia`__"
   ]
  },
  {
   "attachments": {},
   "cell_type": "markdown",
   "id": "cb5b2ab5",
   "metadata": {},
   "source": [
    "<u> Utilizzando il linguaggio Python, per lo sviluppo del progetto si devono innanzitutto rispettare i seguenti passi: </u>\n",
    "\n",
    "- _Selezione dati;_\n",
    "- _Elaborazione dati (data cleaning, definizione struttura omogenea);_\n",
    "- _Open Linked Data (creazione di uno strato semantico, ontologie, interlinking)._\n",
    " \n",
    "<u> Dopodiché si può passare allo sviluppo del servizio tramite: </u> \n",
    "- _Creazione di un bot telegram.\n",
    "\n",
    "<u> Si vuole realizzare un servizio in ambito “Salute” che fornisca le posizioni e le disponibilità delle strutture mediche nella regione siciliana. </u>\n",
    "\n",
    "Si suppone che un utente del servizio abbia bisogno di dover andare a fare una visita dermatologica (struttura privata), oppure una visita ad un consultorio (struttura pubblica), tuttavia non conosce la posizione della struttura; quindi, può interrogare il servizio affinché possa trovare in un raggio di 𝑥 metri, data la sua posizione, un elenco (messaggio testuale, posizioni, …) di strutture specializzate nel campo desiderato. \n",
    "\n",
    "È possibile inoltre che l’utente, dopo una visita, abbia la prescrizione di alcuni farmaci; pertanto, avrà bisogno della locazione delle farmacie, o parafarmacie, più vicine. Il servizio di tale richiesta funziona allo stesso modo di quello precedente, inoltre si può fornire anche il recapito telefonico per effettuare la prenotazione dei farmaci. "
   ]
  },
  {
   "attachments": {},
   "cell_type": "markdown",
   "id": "0902fd99",
   "metadata": {},
   "source": [
    "***\n",
    "***\n",
    "# __`2 Selezione dei dataset`__"
   ]
  },
  {
   "attachments": {},
   "cell_type": "markdown",
   "id": "6624065d",
   "metadata": {},
   "source": [
    "\n",
    "### __`2.1 Raccolta`__"
   ]
  },
  {
   "attachments": {},
   "cell_type": "markdown",
   "id": "958660ca",
   "metadata": {},
   "source": [
    "I dataset utilizzati per la realizzazione della base di conoscenza riguardano Farmacie, Parafarmacie, Strutture sanitarie Pubbliche, Strutture Sanitarie Private e la Popolazione residente in Sicilia nell'anno 2023. L'obiettivo della base di conoscenza è racchiudere tutti gli esercizi sanitari presenti in Sicilia.\n",
    "\n",
    "L'ultimo dataset, in particolare, risulta fondamentale per raccontare una storia basandosi sugli altri dataset.\n",
    "\n",
    "Seguono i link da cui sono stati reperiti i dataset\n",
    "\n",
    "`Farmacie:` <br>\n",
    "_https://www.dati.salute.gov.it/dati/dettaglioDataset.jsp?menu=dati&idPag=5_\n",
    "\n",
    "`Parafarmacie:` <br>\n",
    "_https://www.dati.salute.gov.it/dati/dettaglioDataset.jsp?menu=dati&idPag=7_\n",
    "\n",
    "`Strutture Sanitarie Pubbliche:` <br>\n",
    "_https://dati.regione.sicilia.it/catalogo/da5a0f1f-82b4-472f-b3dd-458295983a97_\n",
    "\n",
    "`Strutture Sanitarie Private:` <br>\n",
    "_http://pti.regione.sicilia.it/portal/page/portal/PIR_PORTALE/PIR_LaStrutturaRegionale/PIR_AssessoratoSalute/PIR_DipPianificazioneStrategica/PIR_Infoedocumenti/PIR_8713479.360776903/PIR_Strutturesanitarieprivateaccreditate_\n",
    "\n",
    "`Popolazione Sicilia, 1 Gen 2023:` <br>\n",
    "_http://dati.istat.it/Index.aspx?QueryId=19101_\n",
    "\n",
    "***\n",
    "Per l'ultimo dataset si è scelta una versione personalizzata, realizzata mediante le funzioni di personalizzazione presenti nella pagina web. Il dataset risultante contiene, la denominazione e la popolazione totale residente per ogni comune. <br>\n",
    "I dataset descritti sono contenuti all'interno della cartella `../datasets/csv/original/`"
   ]
  },
  {
   "attachments": {},
   "cell_type": "markdown",
   "id": "ed748f4b",
   "metadata": {},
   "source": [
    "### __`2.2 Licenze`__"
   ]
  },
  {
   "attachments": {},
   "cell_type": "markdown",
   "id": "1a477323",
   "metadata": {},
   "source": [
    "`Farmacie:` Italian Open Data Licence v2.0\n",
    "\n",
    "`Parafarmacie:` Italian Open Data Licence v2.0\n",
    "\n",
    "`Strutture Sanitarie Pubbliche:` Creative Commons BY, versione 4.0\n",
    "\n",
    "`Strutture Sanitarie Private:` Licenza specificata nel decreto legislativo n. 33/2013, che specifica che \"documenti, le informazioni e i dati oggetto di pubblicazione obbligatoria ai sensi della normativa vigente, resi disponibili anche a seguito dell'accesso civico di cui all'articolo 5, sono pubblicati in formato di tipo aperto ai sensi dell'articolo 68 del Codice dell'amministrazione digitale, di cui al decreto legislativo 7 marzo 2005, n. 82, e sono riutilizzabili ai sensi del decreto legislativo 24 gennaio 2006, n. 36, del decreto legislativo 7 marzo 2005, n. 82, e del decreto legislativo 30 giugno 2003, n. 196, senza ulteriori restrizioni diverse dall'obbligo di citare la fonte e di rispettarne l'integrità\"\n",
    "\n",
    "`Popolazione Sicilia, 1 Gen 2023:` Creative Commons BY, versione 3.0 (specificato al link https://www.istat.it/it/note-legali)"
   ]
  },
  {
   "attachments": {},
   "cell_type": "markdown",
   "id": "ab935cc9",
   "metadata": {},
   "source": [
    "***\n",
    "***\n",
    "# __`3 Elaborazione dei dataset`__"
   ]
  },
  {
   "attachments": {},
   "cell_type": "markdown",
   "id": "19c195a9",
   "metadata": {},
   "source": [
    "### __`3.1 Pulizia e selezione dei dati rilevanti`__"
   ]
  },
  {
   "attachments": {},
   "cell_type": "markdown",
   "id": "8eb5aec9",
   "metadata": {},
   "source": [
    "Si è notato innanzitutto che i dataset puri non erano tutti adatti allo stesso modo, infatti, si sono riscontrate due problematiche:\n",
    "1. Encoding dei dataset differenti, a causa delle loro diversi origini;\n",
    "2. Errori vari dovuti a `;` o `,` non correttamente inseriti.\n",
    "\n",
    "Gli strumenti adoperati per la pulizia dei dataset includono `frictionless`, `Open Refine`, l'estensione `Edit csv` di `VS Code` e `Microsoft Excel`.\n",
    "\n",
    "La problematica 1. si è riscontrata a causa degli errori di lettura dei file `CSV` da parte del metodo `read_csv()` di `Pandas`, inoltre se ne è veriificata la veridicità tramite il comando `file` di Unix. Pertanto si è deciso come encoding più adatto ai dataset scelti l'`UTF-8`, per poi passarealla conversione dell'encoding dei file tramite un convertitore. La seconda problematica si è riscontrata durante l'analisi dei dataset in fase di pulizia, ed è stata risolta con gli strumenti citati.\n",
    "\n",
    "I dataset relativi a questa prima elaborazione sono presenti in: `../datasets/csv/cleaned/`. <br>\n",
    "\n",
    "Proseguendo con l'elaborazione dei dataset, sono seguite altre osservazioni:\n",
    "1. una buona parte delle righe dei dataset riguardanti le farmacie e parafarmacie presentavano dati di regioni aggiuntive oltre la Sicilia;\n",
    "2. i datascelt scelti presentavano, per lo stesso motivo, colonne superflue per la base di conoscenza da realizzare;\n",
    "3. i dataset riguardanti parafarmacie, farmacie e strutture pubbliche presentavano dati riguardo esercizi non più attivi, che non sono di interesse per la base di conoscenza da realizzare.\n",
    "\n",
    "Le problematiche descritte sono state risolte mediante lo strumento `Open Refine`, attraverso le funzioni `Text Filter` e `Remove Column`. <br>\n",
    "Per la prima è stato sufficiente selezionare le righe che presentavano `Sicilia` come campo di `Regione`,rimuovendo le altre, per la seconda è stato sufficiente eliminare alcune delle colonne tra i vari dataset, come quelle indicanti codici dell'istat,  mentre per per la terza è bastato prendere le righe per cui fosse vuoto il campo indicante la data di chiusura dell'esercizio. <br>\n",
    "\n",
    "Questa seconda elaborazione dei dataset è stata riportata in: `../datasets/csv/selected/`.\n",
    "\n",
    "***"
   ]
  },
  {
   "attachments": {},
   "cell_type": "markdown",
   "id": "977d6e85",
   "metadata": {},
   "source": [
    "### __`3.2 Arricchimento`__"
   ]
  },
  {
   "attachments": {},
   "cell_type": "markdown",
   "id": "ea9d3123",
   "metadata": {},
   "source": [
    "Successiva alla fase di pulizia e selezione, si è introdotta una fase di arricchimento dei dataset.\n",
    "\n",
    "Tale scelta è stata effettuata dopo varie osservazioni preventive per le fasi successive dei dataset, per facilitare lo sviluppo dell'ontologia e il passaggio dei dataset a 5 stelle. Difatti, dopo tali operazioni di arricchimento, tutti i dataset sugli esercizi sanitari presentano campi comuni, fatto che agevola la realizzazione di una gerarchia di classi OWL.\n",
    "\n",
    "La prima operazione riguarda il dataset dei comuni, a cui vengono aggiunte le provincie tramite un merge con il dataset delle farmacie. Tale operazione restituisce un dataset contenente tutti e soli i comuni in cui vi è almeno una farmacia. Un numero molto piccolo di comuni viene pertanto escluso. Si suppone pertanto che se un comune è tale da non avere nemmeno una farmacia, sicuramente non vi saranno nè parafarmacie nè strutture sanitarie di alcun tipo."
   ]
  },
  {
   "cell_type": "code",
   "execution_count": 4,
   "id": "e15fbd0f",
   "metadata": {},
   "outputs": [],
   "source": [
    "import pandas as pd\n",
    "\n",
    "comuni = pd.read_csv(\"../datasets/csv/selected/popolazione_sicilia.csv\", sep=',', skiprows=[1])\n",
    "farmacie = pd.read_csv('../datasets/csv/cleaned/farmacie.csv', sep=';') #si prende quello cleaned per considerare più comuni possibili\n",
    "\n",
    "#operazioni di replace per consentire la compatibilità tra i due dataset\n",
    "comuni['Territorio'] = comuni['Territorio'].apply(lambda x : x.title().replace('à', 'a\\'').replace('è', 'e\\'').replace('ì', 'i\\'').replace('ò', 'o\\'').replace('ù', 'u\\''))\n",
    "farmacie['DESCRIZIONECOMUNE'] = farmacie['DESCRIZIONECOMUNE'].apply(lambda x : x.title())\n",
    "joined = comuni.merge(farmacie, left_on='Territorio', right_on='DESCRIZIONECOMUNE')\n",
    "\n",
    "df2=joined.drop_duplicates(subset=['Territorio'], keep='first')\n",
    "\n",
    "df3=df2.rename(columns={\"Territorio\": \"Comune\", \"Value\": \"PopolazioneTotale\", \"DESCRIZIONEPROVINCIA\" : \"Provincia\", \"SIGLAPROVINCIA\":\"SiglaProvincia\"})\n",
    "df3.to_csv('../datasets/csv/completed/comuni_sicilia.csv', columns=['Comune', 'PopolazioneTotale', 'Provincia', 'SiglaProvincia'], index=False)"
   ]
  },
  {
   "attachments": {},
   "cell_type": "markdown",
   "id": "d5a8c8f5",
   "metadata": {},
   "source": [
    "I successivi arricchimenti riguardano il resto dei dataset. Si fa in modo che ognuno di essi contenga informazioni sul comune, latitudine, longitudine e cap. In questa fase si è fatto uso della libreria `OSMPythonTools.nominatim`, che offre la possibilità di interrogare OpenStreetMap. Tale libreria fornisce anche un meccanismo di caching molto vantaggioso poichè, fatta una serie di richieste, essa salva i risultati in una cartella a parte che, in caso di medesime richieste successive, riducono il tempo di esecuzione delle query. <br>\n"
   ]
  },
  {
   "attachments": {},
   "cell_type": "markdown",
   "id": "89245350",
   "metadata": {},
   "source": [
    "Lettura dei dataset e creazione dei rispettivi dataframe:"
   ]
  },
  {
   "cell_type": "code",
   "execution_count": 5,
   "id": "0e305354",
   "metadata": {},
   "outputs": [],
   "source": [
    "import pandas as pd\n",
    "\n",
    "df_private = pd.read_csv(\"../datasets/csv/selected/strutture_sanitarie_private.csv\", on_bad_lines=\"skip\", delimiter=\";\", encoding=\"utf-8\")\n",
    "df_pubbliche = pd.read_csv(\"../datasets/csv/selected/strutture_sanitarie_pubbliche.csv\", on_bad_lines=\"skip\", delimiter=\",\", encoding=\"utf-8\")\n",
    "df_farma = pd.read_csv(\"../datasets/csv/selected/farmacie.csv\", on_bad_lines=\"skip\", delimiter=\",\", encoding=\"utf-8\")\n",
    "\n",
    "df_private.columns = df_private.columns.str.strip()\n",
    "df_pubbliche.columns = df_pubbliche.columns.str.strip()\n",
    "df_farma.columns = df_farma.columns.str.strip()"
   ]
  },
  {
   "attachments": {},
   "cell_type": "markdown",
   "id": "f75e2680",
   "metadata": {},
   "source": [
    "Si aggiugono `CAP`, `Latitudine` e `Longitudine` alle strutture private:"
   ]
  },
  {
   "cell_type": "code",
   "execution_count": 6,
   "id": "255ab5b8",
   "metadata": {},
   "outputs": [],
   "source": [
    "from OSMPythonTools.nominatim import Nominatim\n",
    "from pathlib import Path\n",
    "import pandas as pd\n",
    "import re\n",
    "\n",
    "nominatim = Nominatim()\n",
    "results = []\n",
    "\n",
    "LOC = []\n",
    "LAT = []\n",
    "LON = []\n",
    "\n",
    "for via, citta in zip(df_private[\"Indirizzo\"], df_private[\"Citta\\'\"]):\n",
    "    \n",
    "    via = str(via).lower().replace('a\\'', 'a').replace('e\\'', 'e').replace('i\\'', 'i').replace('o\\'', 'o').replace('u\\'', 'u')\n",
    "    citta = str(citta).lower().replace('a\\'', 'a').replace('e\\'', 'e').replace('i\\'', 'i').replace('o\\'', 'o').replace('u\\'', 'u')\n",
    "\n",
    "    res = nominatim.query(via + \" \" + citta)\n",
    "    results.append(res)\n",
    "\n",
    "for item in results:\n",
    "    tmp = item.toJSON()\n",
    "    if len(tmp) != 0:\n",
    "        LAT.append(tmp[0]['lat'])\n",
    "        LON.append(tmp[0]['lon'])\n",
    "        cap = re.search(r'\\d{5}',tmp[0]['display_name'])\n",
    "        if cap is not None:\n",
    "            LOC.append(cap.group())\n",
    "        else:\n",
    "            LOC.append(0)\n",
    "    else:\n",
    "        LAT.append(0.0)\n",
    "        LON.append(0.0)\n",
    "        LOC.append(0)\n",
    "            \n",
    "df_private.insert(loc=0, column='Longitudine', value=pd.Series(LON))\n",
    "df_private.insert(loc=0, column='Latitudine', value=pd.Series(LAT))\n",
    "df_private.insert(loc=0, column='CAP', value=pd.Series(LOC))\n",
    "\n",
    "filepath = Path('../datasets/csv/completed/private.csv')\n",
    "df_private.to_csv(filepath, index=False)"
   ]
  },
  {
   "attachments": {},
   "cell_type": "markdown",
   "id": "4ed39b14",
   "metadata": {},
   "source": [
    "Si aggiugono `Comune`, `Latitudine` e `Longitudine` alle strutture pubbliche:"
   ]
  },
  {
   "cell_type": "code",
   "execution_count": 7,
   "id": "640fd973",
   "metadata": {},
   "outputs": [],
   "source": [
    "from OSMPythonTools.nominatim import Nominatim\n",
    "from pathlib import Path\n",
    "import pandas as pd\n",
    "import re\n",
    "\n",
    "nominatim = Nominatim()\n",
    "results = []\n",
    "\n",
    "COM = []\n",
    "LAT = []\n",
    "LON = []\n",
    "\n",
    "for via, cap in zip(df_pubbliche[\"Indirizzo\"], df_pubbliche[\"CAP\"]):\n",
    "    \n",
    "    via = str(via).lower().replace('a\\'', 'a').replace('e\\'', 'e').replace('i\\'', 'i').replace('o\\'', 'o').replace('u\\'', 'u')\n",
    "    cap = str(cap).lower().replace('a\\'', 'a').replace('e\\'', 'e').replace('i\\'', 'i').replace('o\\'', 'o').replace('u\\'', 'u')\n",
    "\n",
    "    res = nominatim.query(via + \" \" + cap)\n",
    "    results.append(res)\n",
    "    \n",
    "for item in results:\n",
    "    tmp = item.toJSON()\n",
    "    if len(tmp) != 0:\n",
    "        LAT.append(tmp[0]['lat'])\n",
    "        LON.append(tmp[0]['lon'])\n",
    "        com = re.search(r', (\\w*), Sicilia',tmp[0]['display_name'])\n",
    "        if com is not None:\n",
    "            COM.append(com[1])\n",
    "        else:\n",
    "            COM.append(\"\")\n",
    "    else:\n",
    "        LAT.append(0.0)\n",
    "        LON.append(0.0)\n",
    "        COM.append(\"\")\n",
    "            \n",
    "df_pubbliche.insert(loc=0, column='Longitudine', value=pd.Series(LON))\n",
    "df_pubbliche.insert(loc=0, column='Latitudine', value=pd.Series(LAT))\n",
    "df_pubbliche.insert(loc=0, column='Comune', value=pd.Series(COM))\n",
    "\n",
    "filepath = Path('../datasets/csv/completed/pubbliche.csv')\n",
    "df_pubbliche.to_csv(filepath, index=False)"
   ]
  },
  {
   "attachments": {},
   "cell_type": "markdown",
   "id": "eab42d63",
   "metadata": {
    "collapsed": false
   },
   "source": [
    "Si rielaborano i campi `LATITUDINE` e `LONGITUDINE` di `farmacie.csv`, in quanto un insieme di righe del dataset non presenta tali informazioni. <br>\n",
    "Si inseriscono in un csv temporaneo i dati mancanti, elaborandoli allo stesso modo dei due file precedenti, sovracrivendo poi i campi esistenti e concatenandoli con il file originale:"
   ]
  },
  {
   "cell_type": "code",
   "execution_count": 8,
   "id": "c78505fe",
   "metadata": {
    "collapsed": false
   },
   "outputs": [],
   "source": [
    "from OSMPythonTools.nominatim import Nominatim\n",
    "from pathlib import Path\n",
    "import pandas as pd\n",
    "\n",
    "df_farma_tmp = pd.read_csv(\"../datasets/csv/selected/farmacie_tmp.csv\", on_bad_lines=\"skip\", encoding=\"utf-8\")\n",
    "\n",
    "nominatim = Nominatim()\n",
    "results = []\n",
    "\n",
    "LAT = []\n",
    "LON = []\n",
    "\n",
    "for via, citta in zip(df_farma_tmp[\"INDIRIZZO\"], df_farma_tmp[\"DESCRIZIONECOMUNE\"]):\n",
    "\n",
    "    via = str(via).lower().replace('a\\'', 'a').replace('e\\'', 'e').replace('i\\'', 'i').replace('o\\'', 'o').replace('u\\'', 'u')\n",
    "    citta = str(citta).lower().replace('a\\'', 'a').replace('e\\'', 'e').replace('i\\'', 'i').replace('o\\'', 'o').replace('u\\'', 'u')\n",
    "\n",
    "    res = nominatim.query(via + \",\" + citta)\n",
    "    results.append(res)\n",
    "\n",
    "for item in results:\n",
    "    tmp = item.toJSON()\n",
    "    if len(tmp) != 0:\n",
    "        LAT.append(tmp[0]['lat'])\n",
    "        LON.append(tmp[0]['lon'])\n",
    "    else:\n",
    "        LAT.append(0.0)\n",
    "        LON.append(0.0)\n",
    "\n",
    "df_farma_tmp[\"LONGITUDINE\"] = pd.Series(LON)\n",
    "df_farma_tmp[\"LATITUDINE\"] = pd.Series(LAT)\n",
    "\n",
    "###\n",
    "\n",
    "df_farma[\"LATITUDINE\"] = df_farma[\"LATITUDINE\"].apply(lambda x : float(x.replace(',', '.')) if x != '-' else 0.0)\n",
    "df_farma[\"LONGITUDINE\"] = df_farma[\"LONGITUDINE\"].apply(lambda x : float(x.replace(',', '.')) if x != '-' else 0.0)\n",
    "df_farma[\"PARTITAIVA\"] = df_farma[\"PARTITAIVA\"].apply(lambda x : x if x != \"-\" else 0)\n",
    "df_farma[\"INDIRIZZO\"] = df_farma[\"INDIRIZZO\"].apply(lambda x : x.replace('\"', ''))\n",
    "\n",
    "filepath = Path('../datasets/csv/selected/tmp.csv')\n",
    "df_farma_tmp.to_csv(filepath, index=False)\n",
    "df_farma_tmp = pd.read_csv(\"../datasets/csv/selected/tmp.csv\", on_bad_lines=\"skip\", encoding=\"utf-8\")\n",
    "\n",
    "###\n",
    "\n",
    "df_farma = df_farma.convert_dtypes()\n",
    "df_farma_tmp = df_farma_tmp.convert_dtypes()\n",
    "\n",
    "df_farma = df_farma.drop(df_farma.loc[448:].index)\n",
    "df_finale = pd.merge(df_farma, df_farma_tmp, how=\"outer\")\n",
    "\n",
    "filepath = Path('../datasets/csv/completed/farmacie.csv')\n",
    "df_finale.to_csv(filepath, index=False)"
   ]
  },
  {
   "attachments": {},
   "cell_type": "markdown",
   "id": "1d924da1",
   "metadata": {},
   "source": [
    "Il salvataggio del dataset con i tipi corretti in un ulteriore file temporaneo è necessario per il corretto funzionamento del metodo `merge` di `Pandas`."
   ]
  },
  {
   "attachments": {},
   "cell_type": "markdown",
   "id": "92da4f91",
   "metadata": {},
   "source": [
    "Le operazioni descritte rendono i dataset pronti per le 5 stelle, salvandoli nella cartella `../datasets/csv/completed`"
   ]
  },
  {
   "attachments": {},
   "cell_type": "markdown",
   "id": "8a8e1e15",
   "metadata": {},
   "source": [
    "***\n",
    "***\n",
    "# __`4 Trasformazione dei dataset a 5 stelle`__"
   ]
  },
  {
   "attachments": {},
   "cell_type": "markdown",
   "id": "804fec58",
   "metadata": {},
   "source": [
    "### __`4.1 Ontologia`__"
   ]
  },
  {
   "attachments": {},
   "cell_type": "markdown",
   "id": "525a050e",
   "metadata": {},
   "source": [
    "L'ontologia progettata è un'ontologia `OWL` realizzata con il software `Protégé`. La progettazione è partita da due classi base, `Comune` e `AziendaSanitaria`. Per la classe `Comune` sono state definite le proprietà `hasName`, `hasTotalPopulation`, `hasProvince` e `hasProvinceAcr`. La classe `AziendaSanitaria` è alla base di una gerarchia per la definizione delle proprietà degli altri 4 dataset. Le proprietà comuni ai 4 dataset sono `hasName`, `hasAddress`, `hasCap`, `hasLatitude`, `hasLongitude`, `isIn` e `hasSite`. <br>\n",
    "Nell'analisi dei dataset ci si è accorti della presenza di esercizi con la stessa denominazione e partita IVA, ovvero con più sedi. Si è quindi rilevato il problema delle relazioni multi valore, risolvibile mediante i blank nodes. La proprietà `hasSite` permette tale approccio, inglobando le altre proprietà citate. La object property `isIn` ha come range `Comune`. In questo modo è possibile ridurre l'informazione a carico degli esercizi commerciali, poichè presentano anche informazioni sulla provincia del comune in cui sono localizzati. Come esempio, si supponga di voler sapere, per ogni farmacia, le informazioni del comune in cui è localizzata. La seguente query `SPARQL` svolge tale compito:"
   ]
  },
  {
   "cell_type": "raw",
   "id": "17441e94",
   "metadata": {},
   "source": [
    "PREFIX sso: <http://www.sanitasicilia.it/ontology/>\n",
    "SELECT ?farmacia ?nome_comune ?provincia ?sigla_provincia ?popolazione\n",
    "WHERE {\n",
    "    ?res rdf:type sso:Farmacia .\n",
    "    ?res sso:hasName ?farmacia .\n",
    "    ?res sso:hasSite ?site .\n",
    "    ?site sso:isIn ?comune .\n",
    "    ?comune sso:hasName ?nome_comune .\n",
    "    ?comune sso:hasProvince ?provincia .\n",
    "    ?comune sso:hasProvinceAcr ?sigla_provincia .\n",
    "    ?comune sso:hasTotalPopulation ?popolazione .\n",
    "} "
   ]
  },
  {
   "attachments": {},
   "cell_type": "markdown",
   "id": "6217d5e3",
   "metadata": {},
   "source": [
    "La classe madre `AziendaSanitaria` si scompone in due classi, `NegozioSanitario` e `StrutturaSanitaria`. `NegozioSanitario` a sua volta si scompone in `Farmacia` e `Parafarmacia`, mentre `StrutturaSanitaria` in `StrutturaPrivata` e `StrutturaPubblica`. `NegozioSanitario` include le proprietà comuni sia alle farmacie che alle parafarmacie. Rispetto a `Parafarmacia`, la classe `Farmacia` incapsula una proprietà in più, ossia `tipology`, rappresentante del fatto che una farmacia può essere ordinaria oppure un dispensario. Similmente `StrutturaSanitaria` incapsula le proprietà comuni alle strutture pubbliche e private, mentre le sue sottoclassi aggiungono le proprietà specifiche di entrambi i tipi. <br> La proprietà `hasSite` assume una valenza diversa in base alla risorsa cui si riferisce. Il numero di proprietà inglobate nel blank node varia in base alla risorsa. Per esempio, ogni sede di una struttura sanitaria può avere un distinto numero di telefono o email, pertanto si è deciso di inglobare anche proprietà simili nel blank node.\n",
    "\n",
    "L'ontologia descritta è stata serializzata nel formato `ttl` ed è stata riportata in: `../ontologies/ontologia_sanita.ttl`. <br>\n",
    "L'URI dell'ontologia è http://www.sanitasicilia.it/ontology.\n"
   ]
  },
  {
   "attachments": {},
   "cell_type": "markdown",
   "id": "272dd75b",
   "metadata": {},
   "source": [
    "***"
   ]
  },
  {
   "attachments": {},
   "cell_type": "markdown",
   "id": "598e06ae",
   "metadata": {},
   "source": [
    "### __`4.2 Passaggio a 5 stelle`__"
   ]
  },
  {
   "attachments": {},
   "cell_type": "markdown",
   "id": "80c8108c",
   "metadata": {},
   "source": [
    "Per il passaggio dei dataset da 3 a 5 stelle ci si è basati sullo standard RDF di W3C, congiunta con la libreria `rdflib` di Python.\n",
    "\n",
    "Il primo step è stata l'inizializzazione del grafo RDF e dei namespace di interesse. <br>\n",
    "Per identificare le risorse, a partire dall'URI di base \"http://www.sanitasicilia.it/resource/\" si sono fatte le seguenti scelte:\n",
    "- Per i comuni si è scelta la denominazione come identificativo, togliendo da essa apostrofi e spazi; \n",
    "- Per le risorse rimanenti si è scelti un identificativo costituito dalle iniziali della categorie della risorsa e da un codice a 4 cifre, indicante la riga in cui quella risorsa compare nel dataset originale.\n",
    "\n",
    "Per ogni colonna di ogni dataset si aggiunge al grafo una tripla, facendo riferimento all'omonima proprietà definita nell'ontologia. Inoltre, per gli esercizi con la stessa partita IVA e denominazione, si aggiunge un blank node come descritto nella sezione precedente.\n",
    "\n",
    "Per quanto riguarda l'interlinking viene sfruttata la base di conoscenza dbpedia.org. Dapprima, attraverso una query SPARQL, per ogni comune si crea un collegamento con l'omonima risorsa presente su dbpedia; dopodiché, sfruttando la proprietà `owl:sameAs` della risorsa su dbpedia, si realizza l'interlinking con `wikidata` e `geonames`."
   ]
  },
  {
   "cell_type": "code",
   "execution_count": 9,
   "id": "75962db1",
   "metadata": {},
   "outputs": [],
   "source": [
    "import urllib.parse\n",
    "import pandas as pd\n",
    "import math\n",
    "from rdflib import Graph, Literal, Namespace, URIRef, BNode\n",
    "from rdflib.namespace import RDF, OWL, XSD\n",
    "from SPARQLWrapper import SPARQLWrapper, JSON\n",
    "\n",
    "g = Graph()\n",
    "\n",
    "base_uri = \"http://www.sanitasicilia.it/resource/\"\n",
    "\n",
    "sso = Namespace(\"http://www.sanitasicilia.it/ontology/\")\n",
    "g.bind(\"sso\", sso)\n",
    "\n",
    "ssr = Namespace(\"http://www.sanitasicilia.it/resource/\")\n",
    "g.bind(\"ssr\", ssr)\n",
    "\n",
    "def urify(uri, res):\n",
    "    res = res.replace(\" \",\"_\").replace(\"\\'\",\"\")\n",
    "    return uri + urllib.parse.quote(res)"
   ]
  },
  {
   "attachments": {},
   "cell_type": "markdown",
   "id": "401fd8b9",
   "metadata": {},
   "source": [
    "#### Comuni"
   ]
  },
  {
   "cell_type": "code",
   "execution_count": 10,
   "id": "f35eeed4",
   "metadata": {},
   "outputs": [
    {
     "data": {
      "text/plain": [
       "0      None\n",
       "1      None\n",
       "2      None\n",
       "3      None\n",
       "4      None\n",
       "       ... \n",
       "381    None\n",
       "382    None\n",
       "383    None\n",
       "384    None\n",
       "385    None\n",
       "Length: 386, dtype: object"
      ]
     },
     "execution_count": 10,
     "metadata": {},
     "output_type": "execute_result"
    }
   ],
   "source": [
    "def interlinkToDbpedia(res, comune):\n",
    "    sparql = SPARQLWrapper(\"http://dbpedia.org/sparql\")\n",
    "    query = f\"\"\"\n",
    "        SELECT ?res ?label\n",
    "        WHERE {{\n",
    "            ?res dbo:region dbr:Sicily .\n",
    "            ?res rdfs:label ?label . \n",
    "            FILTER(LANG(?label)=\"it\")\n",
    "            FILTER REGEX(?label, \"^{comune}\", 'i') .\n",
    "        }}\n",
    "    \"\"\"\n",
    "\n",
    "    sparql.setQuery(query)\n",
    "    sparql.setReturnFormat(JSON)\n",
    "    results = sparql.query().convert()\n",
    "\n",
    "    if len(results[\"results\"][\"bindings\"]) > 0:\n",
    "        result = results[\"results\"][\"bindings\"][0]\n",
    "        g.add( [res, OWL.sameAs, URIRef(result[\"res\"][\"value\"])])\n",
    "  \n",
    "def interlinkToWikidata(res, comune):\n",
    "\n",
    "    sparql = SPARQLWrapper(\"http://dbpedia.org/sparql\")\n",
    "    query = f\"\"\"SELECT ?res ?link\n",
    "                WHERE {{\n",
    "                    ?res dbo:region dbr:Sicily .\n",
    "                    ?res rdfs:label ?label .\n",
    "                    FILTER(LANG(?label)=\"it\") .\n",
    "                    FILTER REGEX(?label, \"^{comune}\", 'i') .\n",
    "                    ?res owl:sameAs ?link .\n",
    "                    FILTER REGEX(?link, 'wikidata', 'i') .\n",
    "                }}\n",
    "                LIMIT 1\n",
    "            \"\"\"\n",
    "    \n",
    "    sparql.setQuery(query)\n",
    "    sparql.setReturnFormat(JSON)\n",
    "    results = sparql.query().convert()\n",
    "    \n",
    "    if len(results[\"results\"][\"bindings\"]) > 0:\n",
    "        result = results[\"results\"][\"bindings\"][0]\n",
    "        g.add( [res, OWL.sameAs, URIRef(result[\"link\"][\"value\"])])\n",
    "\n",
    "def interlinkToGeonames(res, comune):\n",
    "\n",
    "    sparql = SPARQLWrapper(\"http://dbpedia.org/sparql\")\n",
    "    query = f\"\"\"SELECT ?res ?link\n",
    "                WHERE {{\n",
    "                    ?res dbo:region dbr:Sicily .\n",
    "                    ?res rdfs:label ?label .\n",
    "                    FILTER(LANG(?label)=\"it\") .\n",
    "                    FILTER REGEX(?label, \"^{comune}\", 'i') .\n",
    "                    ?res owl:sameAs ?link .\n",
    "                    FILTER REGEX(?link, 'geonames', 'i') .\n",
    "                }}\n",
    "                LIMIT 1\n",
    "            \"\"\"\n",
    "\n",
    "    sparql.setQuery(query)\n",
    "    sparql.setReturnFormat(JSON)\n",
    "    results = sparql.query().convert()\n",
    "    \n",
    "    if len(results[\"results\"][\"bindings\"]) > 0:\n",
    "        result = results[\"results\"][\"bindings\"][0]\n",
    "        g.add( [res, OWL.sameAs, URIRef(result[\"link\"][\"value\"])])\n",
    "\n",
    "def addTriples(row):\n",
    "    res = URIRef(urify(base_uri, row[0]))\n",
    "    g.add([res, URIRef(RDF.type), URIRef(sso.Comune)])\n",
    "    g.add([res, sso.hasName, Literal(row[0], datatype=XSD.string)])\n",
    "    g.add([res, sso.hasTotalPopulation, Literal(row[1], datatype=XSD.integer)])\n",
    "    g.add([res, sso.hasProvince, Literal(row[2], datatype=XSD.string)])\n",
    "    g.add([res, sso.hasProvinceAcr, Literal(row[3], datatype=XSD.string)])\n",
    "\n",
    "    #interlinking\n",
    "    comune = row[0].replace('a\\'', 'à').replace('o\\'', 'ò').replace('e\\'', 'è').replace('i\\'', 'ì').replace('u\\'', 'ù').title()\n",
    "    interlinkToDbpedia(res, comune)\n",
    "    interlinkToWikidata(res, comune)\n",
    "    interlinkToGeonames(res, comune)\n",
    "\n",
    "count = 0 \n",
    "comuni_df = pd.read_csv(\"../datasets/csv/completed/comuni_sicilia.csv\")\n",
    "\n",
    "comuni_df.apply(lambda row : addTriples(row), axis=1)"
   ]
  },
  {
   "attachments": {},
   "cell_type": "markdown",
   "id": "d1a47c2b",
   "metadata": {},
   "source": [
    "#### Farmacie"
   ]
  },
  {
   "cell_type": "code",
   "execution_count": 11,
   "id": "3b79efec",
   "metadata": {},
   "outputs": [
    {
     "data": {
      "text/plain": [
       "0      None\n",
       "1      None\n",
       "2      None\n",
       "3      None\n",
       "4      None\n",
       "       ... \n",
       "608    None\n",
       "609    None\n",
       "610    None\n",
       "611    None\n",
       "612    None\n",
       "Length: 613, dtype: object"
      ]
     },
     "execution_count": 11,
     "metadata": {},
     "output_type": "execute_result"
    }
   ],
   "source": [
    "def addBNodes(res, row):\n",
    "    bn = BNode()\n",
    "\n",
    "    g.add([res, sso.hasSite, bn])\n",
    "    g.add([bn, sso.hasAddress, Literal(row[0], datatype=XSD.string)])\n",
    "   \n",
    "    if(row[3] != 0):\n",
    "        g.add([bn, sso.hasCap, Literal(row[3], datatype=XSD.integer)])\n",
    "    g.add([bn, sso.isIn, URIRef(urify(base_uri, row[4].title()))])\n",
    "    g.add([bn, sso.tipology, Literal(row[7], datatype=XSD.string)])\n",
    "    \n",
    "    if(row[8] != 0 and row[9] != 0):\n",
    "        g.add([bn, sso.hasLatitude, Literal(row[8], datatype=XSD.decimal)])\n",
    "        g.add([bn, sso.hasLongitude, Literal(row[9], datatype=XSD.decimal)])\n",
    "\n",
    "def addTriples(row):\n",
    "    global count\n",
    "    \n",
    "    if not row_prev.empty:\n",
    "        if row_prev[1] == row[1] and row_prev[2] == row[2]:\n",
    "            code = 'PF'+f'{count-1:04}'\n",
    "            addBNodes(URIRef(urify(base_uri, code)), row)\n",
    "            return\n",
    "\n",
    "    code = 'F'+f'{count:04}'\n",
    "    \n",
    "    res = URIRef(urify(base_uri, code))\n",
    "    g.add([res, URIRef(RDF.type), URIRef(sso.Farmacia)])\n",
    "\n",
    "    g.add([res, sso.hasName, Literal(row[1], datatype=XSD.string)])\n",
    "    g.add([res, sso.hasVatNumber, Literal(row[2], datatype=XSD.integer)])\n",
    "\n",
    "    addBNodes(URIRef(urify(base_uri, code)), row)\n",
    "    count = count + 1\n",
    "\n",
    "count = 0\n",
    "row_prev = pd.Series()\n",
    "\n",
    "farmacie_df = pd.read_csv(\"../datasets/csv/completed/farmacie.csv\")\n",
    "\n",
    "farmacie_df[\"PARTITAIVA\"] = farmacie_df[\"PARTITAIVA\"].astype(int)\n",
    "\n",
    "farmacie_df.apply(lambda row : addTriples(row), axis=1)"
   ]
  },
  {
   "attachments": {},
   "cell_type": "markdown",
   "id": "2d9f7514",
   "metadata": {},
   "source": [
    "#### Parafarmacie"
   ]
  },
  {
   "cell_type": "code",
   "execution_count": 12,
   "id": "6545deb3",
   "metadata": {},
   "outputs": [
    {
     "data": {
      "text/plain": [
       "0      None\n",
       "1      None\n",
       "2      None\n",
       "3      None\n",
       "4      None\n",
       "       ... \n",
       "752    None\n",
       "753    None\n",
       "754    None\n",
       "755    None\n",
       "756    None\n",
       "Length: 757, dtype: object"
      ]
     },
     "execution_count": 12,
     "metadata": {},
     "output_type": "execute_result"
    }
   ],
   "source": [
    "def addBNodes(res, row):\n",
    "    bn = BNode()\n",
    "\n",
    "    g.add([res, sso.hasSite, bn])\n",
    "    g.add([bn, sso.hasAddress, Literal(row[1], datatype=XSD.string)])\n",
    "   \n",
    "    if(row[3] != 0):\n",
    "        g.add([bn, sso.hasCap, Literal(row[3], datatype=XSD.integer)])\n",
    "    g.add([bn, sso.isIn, URIRef(urify(base_uri, row[4].title()))])\n",
    "\n",
    "    if(row[7] != 0 and row[8] != 0):\n",
    "        g.add([bn, sso.hasLatitude, Literal(row[7], datatype=XSD.decimal)])\n",
    "        g.add([bn, sso.hasLongitude, Literal(row[8], datatype=XSD.decimal)])\n",
    "\n",
    "def addTriples(row):\n",
    "    global count, row_prev\n",
    "\n",
    "    if not row_prev.empty:\n",
    "        if row_prev[0] == row[0] and row_prev[2] == row[2]:\n",
    "            code = 'PF'+f'{count-1:04}'\n",
    "            addBNodes(URIRef(urify(base_uri, code)), row)\n",
    "            return\n",
    "    \n",
    "    code = 'PF'+f'{count:04}'\n",
    "\n",
    "    row_prev = pd.Series(row)\n",
    "\n",
    "    res = URIRef(urify(base_uri, code))\n",
    "    g.add([res, URIRef(RDF.type), URIRef(sso.Parafarmacia)])\n",
    "\n",
    "    g.add([res, sso.hasName, Literal(row[0], datatype=XSD.string)])\n",
    "    g.add([res, sso.hasVatNumber, Literal(row[2], datatype=XSD.integer)])\n",
    "\n",
    "    addBNodes(URIRef(urify(base_uri, code)), row)\n",
    "    count = count + 1\n",
    "\n",
    "count = 0\n",
    "row_prev = pd.Series()\n",
    "\n",
    "parafarmacie_df = pd.read_csv(\"../datasets/csv/completed/parafarmacie.csv\")\n",
    "\n",
    "parafarmacie_df[\"LATITUDINE\"] = parafarmacie_df[\"LATITUDINE\"].apply(lambda x : float(x.replace(',', '.')) if x != '-' else 0.0)\n",
    "parafarmacie_df[\"LONGITUDINE\"] = parafarmacie_df[\"LONGITUDINE\"].apply(lambda x : float(x.replace(',', '.')) if x != '-' else 0.0)\n",
    "parafarmacie_df[\"PARTITAIVA\"] = parafarmacie_df[\"PARTITAIVA\"].apply(lambda x : x if x != '-' else 0)\n",
    "parafarmacie_df[\"PARTITAIVA\"] = parafarmacie_df[\"PARTITAIVA\"].astype(int)\n",
    "\n",
    "parafarmacie_df.apply(lambda row : addTriples(row), axis=1)"
   ]
  },
  {
   "attachments": {},
   "cell_type": "markdown",
   "id": "34ebd533",
   "metadata": {},
   "source": [
    "#### Strutture sanitarie private"
   ]
  },
  {
   "cell_type": "code",
   "execution_count": 13,
   "id": "dbdb052a",
   "metadata": {},
   "outputs": [
    {
     "data": {
      "text/plain": [
       "0       None\n",
       "1       None\n",
       "2       None\n",
       "3       None\n",
       "4       None\n",
       "        ... \n",
       "2108    None\n",
       "2109    None\n",
       "2110    None\n",
       "2111    None\n",
       "2112    None\n",
       "Length: 2113, dtype: object"
      ]
     },
     "execution_count": 13,
     "metadata": {},
     "output_type": "execute_result"
    }
   ],
   "source": [
    "def addBNodes(res, row):\n",
    "    bn = BNode()\n",
    "\n",
    "    g.add([res, sso.hasSite, bn])\n",
    "    g.add([bn, sso.hasAddress, Literal(row[6], datatype=XSD.string)])\n",
    "   \n",
    "    if(row[0] != 0):\n",
    "        g.add([bn, sso.hasCap, Literal(row[0], datatype=XSD.integer)])\n",
    "    g.add([bn, sso.isIn, URIRef(urify(base_uri, row[5].title()))])\n",
    "\n",
    "    if(row[1] != 0 and row[2] != 0):\n",
    "        g.add([bn, sso.hasLatitude, Literal(row[1], datatype=XSD.decimal)])\n",
    "        g.add([bn, sso.hasLongitude, Literal(row[2], datatype=XSD.decimal)])\n",
    "\n",
    "    g.add([bn, sso.businessType, Literal(row[8], datatype=XSD.string)])\n",
    "    g.add([bn, sso.hasSiteType, Literal(row[9], datatype=XSD.string)])\n",
    "\n",
    "def addTriples(row):\n",
    "    global count, row_prev\n",
    "\n",
    "    if not row_prev.empty:\n",
    "        if row_prev[7] == row[7]:\n",
    "            code = 'SPVT'+f'{count-1:04}'\n",
    "            addBNodes(URIRef(urify(base_uri, code)), row)\n",
    "            return\n",
    "    \n",
    "    code = 'SPVT'+f'{count:04}'\n",
    "\n",
    "    row_prev = pd.Series(row)\n",
    "\n",
    "    res = URIRef(urify(base_uri, code))\n",
    "    g.add([res, URIRef(RDF.type), URIRef(sso.StrutturaPrivata)])\n",
    "\n",
    "    g.add([res, sso.hasName, Literal(row[7], datatype=XSD.string)])\n",
    "    g.add([res, sso.hasReferenceAsp, Literal(row[3], datatype=XSD.string)])\n",
    "    addBNodes(URIRef(urify(base_uri, code)), row)\n",
    "    count = count + 1\n",
    "\n",
    "count = 0\n",
    "row_prev = pd.Series()\n",
    "\n",
    "private_df = pd.read_csv(\"../datasets/csv/completed/private.csv\")\n",
    "\n",
    "private_df[\"Citta\\'\"] = private_df[\"Citta\\'\"].astype(str)\n",
    "\n",
    "private_df.apply(lambda row : addTriples(row), axis=1)\n"
   ]
  },
  {
   "attachments": {},
   "cell_type": "markdown",
   "id": "5667de02",
   "metadata": {},
   "source": [
    "#### Strutture sanitarie pubbliche"
   ]
  },
  {
   "cell_type": "code",
   "execution_count": 14,
   "id": "70372ac1",
   "metadata": {},
   "outputs": [
    {
     "data": {
      "text/plain": [
       "0       None\n",
       "1       None\n",
       "2       None\n",
       "3       None\n",
       "4       None\n",
       "        ... \n",
       "2698    None\n",
       "2699    None\n",
       "2700    None\n",
       "2701    None\n",
       "2702    None\n",
       "Length: 2703, dtype: object"
      ]
     },
     "execution_count": 14,
     "metadata": {},
     "output_type": "execute_result"
    }
   ],
   "source": [
    "def addBNodes(res, row):\n",
    "    bn = BNode()\n",
    "\n",
    "    g.add([res, sso.hasSite, bn])\n",
    "   \n",
    "    if(row[0] != ''):\n",
    "        g.add([bn, sso.isIn, URIRef(urify(base_uri, row[0].title()))])\n",
    "\n",
    "    if(row[1] != 0 and row[2] != 0):\n",
    "        g.add([bn, sso.hasLatitude, Literal(row[1], datatype=XSD.decimal)])\n",
    "        g.add([bn, sso.hasLongitude, Literal(row[2], datatype=XSD.decimal)])\n",
    "   \n",
    "    g.add([bn, sso.hasCap, Literal(row[3], datatype=XSD.integer) ])\n",
    "    g.add([bn, sso.hasAddress, Literal(row[4], datatype=XSD.string)])\n",
    "    g.add([bn, sso.businessType, Literal(row[6], datatype=XSD.string)])\n",
    "    g.add([bn, sso.hasSiteType, Literal(row[7], datatype=XSD.string)])\n",
    "\n",
    "    if row[8] != 'nan':\n",
    "        g.add([bn, sso.isRecoveryStructure, Literal(True, datatype=XSD.boolean)])\n",
    "        g.add([bn, sso.hasRecoveryStructureName, Literal(row[8], datatype=XSD.string)])\n",
    "    else:\n",
    "        g.add([bn, sso.isRecoveryStructure, Literal(False, datatype=XSD.boolean)])\n",
    "\n",
    "    g.add([bn, sso.workingMonths, Literal(row[9], datatype=XSD.integer)])\n",
    "    g.add([bn, sso.openingDays, Literal(row[10], datatype=XSD.integer)])\n",
    "    g.add([bn, sso.weeklyHours, Literal(row[11], datatype=XSD.integer)])\n",
    "    g.add([bn, sso.hasEmail, Literal(row[13], datatype=XSD.string)])\n",
    "\n",
    "    if row[14] != 'nan':\n",
    "        g.add([bn, sso.hasWebsite, Literal(row[14], datatype=XSD.string)])\n",
    "   \n",
    "    if not math.isnan(row[15]):\n",
    "        g.add([bn, sso.hasPhonePrefix, Literal(row[15], datatype=XSD.integer)])\n",
    "   \n",
    "    if not math.isnan(row[16]):\n",
    "        g.add([bn, sso.hasPhoneNumber, Literal(row[16], datatype=XSD.integer)])\n",
    "    \n",
    "    if row[17] != 0:\n",
    "        g.add([bn, sso.hasFaxPrefix, Literal(row[17], datatype=XSD.integer)])\n",
    "    \n",
    "    if row[18] != 0:\n",
    "        g.add([bn, sso.hasFaxNumber, Literal(row[18], datatype=XSD.integer)])\n",
    "\n",
    "def addTriples(row):\n",
    "    global count, row_prev\n",
    "\n",
    "    if not row_prev.empty:\n",
    "        if row_prev[5] == row[5] and row_prev[12] == row[12]:\n",
    "            code = 'SPUB'+f'{count-1:04}'\n",
    "            addBNodes(URIRef(urify(base_uri, code)), row)\n",
    "            return\n",
    "    \n",
    "    row_prev = pd.Series(row)\n",
    "    code = 'SPUB'+f'{count:04}'\n",
    "    res = URIRef(urify(base_uri, code))\n",
    "    g.add([res, URIRef(RDF.type), URIRef(sso.StrutturaPubblica)])\n",
    "    g.add([res, sso.hasName, Literal(row[5], datatype=XSD.string) ])\n",
    "    if row[12] != 0:\n",
    "        g.add([res, sso.hasVatNumber, Literal(row[12], datatype=XSD.integer)])\n",
    "\n",
    "    addBNodes(res, row)\n",
    "    count = count + 1\n",
    "\n",
    "count = 0\n",
    "row_prev = pd.Series()\n",
    "\n",
    "pubbliche_df = pd.read_csv(\"../datasets/csv/completed/pubbliche.csv\")\n",
    "\n",
    "pubbliche_df[\"Comune\"] = pubbliche_df[\"Comune\"].astype(str)\n",
    "pubbliche_df[\"Denominazione struttura di ricovero\"] = pubbliche_df[\"Denominazione struttura di ricovero\"].astype(str)\n",
    "pubbliche_df[\"Sito web\"] = pubbliche_df[\"Sito web\"].astype(str)\n",
    "pubbliche_df[\"Partita IVA\"] = pubbliche_df[\"Partita IVA\"].apply(lambda x : x if not math.isnan(x) else 0).astype(int)\n",
    "pubbliche_df[\"Prefisso fax\"] = pubbliche_df[\"Prefisso fax\"].apply(lambda x : x if not math.isnan(x) else 0).astype(int)\n",
    "pubbliche_df[\"Numero fax\"] = pubbliche_df[\"Numero fax\"].apply(lambda x : x if not math.isnan(x) else 0).astype(int)\n",
    "\n",
    "pubbliche_df.apply(lambda row : addTriples(row), axis=1)"
   ]
  },
  {
   "attachments": {},
   "cell_type": "markdown",
   "id": "bf181ef6",
   "metadata": {},
   "source": [
    "####\n",
    "Si effettua la serializzazzione nei formati `xml` e `ttl`"
   ]
  },
  {
   "cell_type": "code",
   "execution_count": 15,
   "id": "5fdd4b9a",
   "metadata": {},
   "outputs": [
    {
     "data": {
      "text/plain": [
       "<Graph identifier=Ncc62642cb8fe4bee8a0b37a875ceb163 (<class 'rdflib.graph.Graph'>)>"
      ]
     },
     "execution_count": 15,
     "metadata": {},
     "output_type": "execute_result"
    }
   ],
   "source": [
    "g.serialize(destination='../datasets/rdf/sanitasicilia.xml', format='xml')\n",
    "g.serialize(destination='../datasets/rdf/sanitasicilia.ttl', format='ttl')"
   ]
  },
  {
   "attachments": {},
   "cell_type": "markdown",
   "id": "0da33a5a",
   "metadata": {},
   "source": [
    "***\n",
    "***\n",
    "# __`5 Data visualization`__"
   ]
  },
  {
   "attachments": {},
   "cell_type": "markdown",
   "id": "1011c7ac",
   "metadata": {},
   "source": [
    "Dopo aver portato i dataset a 5 stelle, attraverso l'uso congiunto di SPARQL e Pandas è possibile estrarre i"
   ]
  },
  {
   "cell_type": "code",
   "execution_count": 8,
   "id": "bb485a17",
   "metadata": {},
   "outputs": [
    {
     "data": {
      "image/png": "[encoded data removed]",
      "text/plain": [
       "<Figure size 640x480 with 1 Axes>"
      ]
     },
     "metadata": {},
     "output_type": "display_data"
    },
    {
     "data": {
      "image/png": "[encoded data removed]",
      "text/plain": [
       "<Figure size 640x480 with 1 Axes>"
      ]
     },
     "metadata": {},
     "output_type": "display_data"
    },
    {
     "data": {
      "image/png": "[encoded data removed]",
      "text/plain": [
       "<Figure size 640x480 with 1 Axes>"
      ]
     },
     "metadata": {},
     "output_type": "display_data"
    },
    {
     "data": {
      "image/png": "[encoded data removed]",
      "text/plain": [
       "<Figure size 640x480 with 1 Axes>"
      ]
     },
     "metadata": {},
     "output_type": "display_data"
    }
   ],
   "source": [
    "import pandas as pd\n",
    "from rdflib import *\n",
    "\n",
    "base_uri = \"http://www.sanitasicilia.it/resource/\"\n",
    "g = Graph()\n",
    "\n",
    "sso = Namespace(\"http://www.sanitasicilia.it/ontology/\")\n",
    "g.bind(\"sso\", sso)\n",
    "\n",
    "ssr = Namespace(\"http://www.sanitasicilia.it/resource/\")\n",
    "g.bind(\"ssr\", ssr)\n",
    "\n",
    "g.parse('../datasets/rdf/sanitasicilia.xml')\n",
    "\n",
    "res = g.query(\"\"\" \n",
    "            SELECT ?prov (SUM(?pop) AS ?tot)\n",
    "            WHERE {\n",
    "                ?res rdf:type sso:Comune .\n",
    "                ?res sso:hasTotalPopulation ?pop .\n",
    "                ?res sso:hasProvinceAcr ?prov .\n",
    "            }\n",
    "            GROUP BY ?prov\n",
    "            ORDER BY ASC(?prov)\n",
    "            \"\"\")\n",
    "\n",
    "provincie = [str(i[0]) for i in res]\n",
    "population = [int(i[1]) for i in res]\n",
    "\n",
    "res = g.query(\"\"\" \n",
    "            SELECT ?prov (COUNT(?res) AS ?count)\n",
    "            WHERE {\n",
    "                ?res rdf:type sso:Farmacia .\n",
    "                ?res sso:hasSite ?site .\n",
    "                ?site sso:isIn ?comune .\n",
    "                ?comune sso:hasProvince ?prov .\n",
    "            }\n",
    "            GROUP BY ?prov\n",
    "            ORDER BY ASC(?prov)\n",
    "            \"\"\")\n",
    "\n",
    "num_farmacie = [int(i[1]) for i in res]\n",
    "prov_farmacie = [str(i[0]) for i in res]\n",
    "\n",
    "res = g.query(\"\"\" \n",
    "            SELECT ?prov (COUNT(?res) AS ?count)\n",
    "            WHERE {\n",
    "                ?res rdf:type sso:Parafarmacia .\n",
    "                ?res sso:hasSite ?site .\n",
    "                ?site sso:isIn ?comune .\n",
    "                ?comune sso:hasProvince ?prov .\n",
    "            }\n",
    "            GROUP BY ?prov\n",
    "            ORDER BY ASC(?prov)\n",
    "            \"\"\")\n",
    "\n",
    "num_parafarmacie = [int(i[1]) for i in res]\n",
    "prov_parafarmacie = [str(i[0]) for i in res]\n",
    "\n",
    "res = g.query(\"\"\" \n",
    "            SELECT ?prov (COUNT(?res) AS ?count)\n",
    "            WHERE {\n",
    "                ?res rdf:type sso:StrutturaPrivata .\n",
    "                ?res sso:hasSite ?site .\n",
    "                ?site sso:isIn ?comune .\n",
    "                ?comune sso:hasProvince ?prov .\n",
    "            }\n",
    "            GROUP BY ?prov\n",
    "            ORDER BY ASC(?prov)\n",
    "            \"\"\")\n",
    "\n",
    "num_private = [int(i[1]) for i in res]\n",
    "prov_private = [str(i[0]) for i in res]\n",
    "\n",
    "res = g.query(\"\"\" \n",
    "            SELECT ?prov (COUNT(?res) AS ?count)\n",
    "            WHERE {\n",
    "                ?res rdf:type sso:StrutturaPubblica .\n",
    "                ?res sso:hasSite ?site .\n",
    "                ?site sso:isIn ?comune .\n",
    "                ?comune sso:hasProvince ?prov .\n",
    "            }\n",
    "            GROUP BY ?prov\n",
    "            ORDER BY ASC(?prov)\n",
    "            \"\"\")\n",
    "\n",
    "num_pubbliche = [int(i[1]) for i in res]\n",
    "prov_pubbliche = [str(i[0]) for i in res]\n",
    "\n",
    "ratios_farmacie = []\n",
    "for i in range(0,len(prov_farmacie)):\n",
    "    ratio = population[i] / num_farmacie[i]\n",
    "    ratios_farmacie.append(ratio)\n",
    "\n",
    "ratios_parafarmacie = []\n",
    "for i in range(0,len(provincie)):\n",
    "    ratio = population[i] / num_parafarmacie[i]\n",
    "    ratios_parafarmacie.append(ratio)\n",
    "\n",
    "df_finale_farma_para = pd.DataFrame({\"Farmacie\": num_farmacie, \"Parafarmacie\": num_parafarmacie}, index=provincie).plot.bar()\n",
    "df_finale_farma_para = pd.DataFrame({\"Strutture Pubbliche\": num_pubbliche, \"Strutture Private\": num_private}, index=provincie).plot.bar()\n",
    "df_finale_popolazione = pd.DataFrame({\"Popolazione\": population}, index=provincie).plot.bar()\n",
    "df_finale_ratio_farma_para = pd.DataFrame({\"Ratio_farmacie\": ratios_farmacie,\"Ratio_parafarmacie\": ratios_parafarmacie}, index=provincie).plot(kind='barh')"
   ]
  },
  {
   "attachments": {},
   "cell_type": "markdown",
   "id": "84fa0a24",
   "metadata": {},
   "source": [
    "L'ultimo grafico permette di stabilire il numero di farmacie e parafarmacie per abitanti, in ogni provincia. Per esempio, a Palermo vi è una farmacia ogni "
   ]
  },
  {
   "attachments": {},
   "cell_type": "markdown",
   "id": "2d020d8b",
   "metadata": {},
   "source": [
    "`uMap` è un servizio fornito da `OpenStreeMap` che permette la creazione e personalizzazione di mappe, anche mediante importazione di dataset. Un sottoinsieme dei dataset è stato preparato per tale proposito, riportato in: `../visualize/`.\n",
    "\n",
    "Si mostrano a seguire le geolocazioni dei rispettivi dataset di riferimento, le quali mostrano visivamente come sono distribuiti i vari servizi sanitari in base ai grafici precedenti."
   ]
  },
  {
   "attachments": {},
   "cell_type": "markdown",
   "id": "fdefa721",
   "metadata": {},
   "source": [
    "### <center> **uMap locations**"
   ]
  },
  {
   "attachments": {},
   "cell_type": "markdown",
   "id": "66e165c9",
   "metadata": {},
   "source": [
    "\n",
    "<div align = \"center\">\n",
    "\t<table width=\"90%\" style=\"border: hidden;\">\n",
    "\t\t<tbody>\n",
    "\t\t\t<tr style=\"border: hidden;\">\n",
    "\t\t\t\t<td align = \"center\" style=\"border: hidden;\">Farmacie</td>\n",
    "\t\t\t\t<td align = \"center\" style=\"border: hidden;\">Parafarmacie</td>\n",
    "\t\t\t</tr>\n",
    "\t\t\t<tr style=\"border: hidden;\">\n",
    "\t\t\t\t<td class=\"dcf-txt-center\" style=\"border: hidden;\">\n",
    "\t\t\t\t\t<iframe src=\"https://umap.openstreetmap.fr/it/map/farmacie_930881\" width=\"100%\" height=\"400px\"></iframe>\n",
    "\t\t\t\t</td>\n",
    "\t\t\t\t<td class=\"dcf-txt-center\" style=\"border: hidden;\">\n",
    "\t\t\t\t\t<iframe src=\"https://umap.openstreetmap.fr/it/map/parafarmacie_930888\" width=\"100%\" height=\"400px\"></iframe>\n",
    "\t\t\t\t\t</td>\n",
    "\t\t\t</tr>\n",
    "\t\t\t<tr style=\"border: hidden;\">\n",
    "\t\t\t\t<td align = \"center\" style=\"border: hidden;\">Strutture sanitarie pubbliche</td>\n",
    "\t\t\t\t<td align = \"center\" style=\"border: hidden;\">Strutture sanitarie private</td>\n",
    "\t\t\t</tr>\n",
    "\t\t\t<tr style=\"border: hidden;\">\n",
    "\t\t\t\t<td class=\"dcf-txt-center\" style=\"border: hidden;\">\n",
    "\t\t\t\t\t<iframe src=\"https://umap.openstreetmap.fr/it/map/strutture-sanitarie-pubbliche_930890\" width=\"100%\" height=\"400px\"></iframe>\n",
    "\t\t\t\t</td>\n",
    "\t\t\t\t<td class=\"dcf-txt-center\" style=\"border: hidden;\">\n",
    "\t\t\t\t\t<iframe src=\"https://umap.openstreetmap.fr/it/map/strutture-sanitarie-private_930895\" width=\"100%\" height=\"400px\"></iframe>\n",
    "\t\t\t\t\t</td>\n",
    "\t\t\t</tr>\n",
    "\t\t</tbody>\n",
    "\t</table>\n",
    "</div>"
   ]
  },
  {
   "attachments": {},
   "cell_type": "markdown",
   "id": "05cf9238",
   "metadata": {},
   "source": [
    "***\n",
    "***\n",
    "# __`6 Creazione di un'applicazione`__\n"
   ]
  },
  {
   "attachments": {},
   "cell_type": "markdown",
   "id": "2e19392e",
   "metadata": {},
   "source": [
    "///il bot è bello"
   ]
  },
  {
   "cell_type": "code",
   "execution_count": 1,
   "id": "49ecc3c5",
   "metadata": {},
   "outputs": [
    {
     "data": {
      "text/plain": [
       "<Graph identifier=N962c5a125b4a41db97fa8f966d54867b (<class 'rdflib.graph.Graph'>)>"
      ]
     },
     "execution_count": 1,
     "metadata": {},
     "output_type": "execute_result"
    }
   ],
   "source": [
    "from rdflib import *\n",
    "\n",
    "base_uri = \"http://www.sanitasicilia.it/resource/\"\n",
    "g = Graph()\n",
    "\n",
    "sso = Namespace(\"http://www.sanitasicilia.it/ontology/\")\n",
    "g.bind(\"sso\", sso)\n",
    "\n",
    "ssr = Namespace(\"http://www.sanitasicilia.it/resource/\")\n",
    "g.bind(\"ssr\", ssr)\n",
    "\n",
    "g.parse('../datasets/rdf/sanitasicilia.xml')"
   ]
  },
  {
   "cell_type": "code",
   "execution_count": 30,
   "id": "b54a2eec",
   "metadata": {},
   "outputs": [
    {
     "name": "stdout",
     "output_type": "stream",
     "text": [
      "/farmacie\n"
     ]
    },
    {
     "ename": "KeyError",
     "evalue": "'location'",
     "output_type": "error",
     "traceback": [
      "\u001b[1;31m---------------------------------------------------------------------------\u001b[0m",
      "\u001b[1;31mKeyError\u001b[0m                                  Traceback (most recent call last)",
      "Cell \u001b[1;32mIn[30], line 106\u001b[0m\n\u001b[0;32m    103\u001b[0m         time\u001b[39m.\u001b[39msleep(\u001b[39m0.5\u001b[39m)\n\u001b[0;32m    105\u001b[0m \u001b[39mif\u001b[39;00m \u001b[39m__name__\u001b[39m \u001b[39m==\u001b[39m \u001b[39m'\u001b[39m\u001b[39m__main__\u001b[39m\u001b[39m'\u001b[39m:\n\u001b[1;32m--> 106\u001b[0m     main()\n",
      "Cell \u001b[1;32mIn[30], line 102\u001b[0m, in \u001b[0;36mmain\u001b[1;34m()\u001b[0m\n\u001b[0;32m     99\u001b[0m     \u001b[39mprint\u001b[39m(command)\n\u001b[0;32m    101\u001b[0m     last_update_id \u001b[39m=\u001b[39m get_last_update_id(updates) \u001b[39m+\u001b[39m \u001b[39m1\u001b[39m\n\u001b[1;32m--> 102\u001b[0m     pharmacy_nearby(updates,chat)\n\u001b[0;32m    103\u001b[0m time\u001b[39m.\u001b[39msleep(\u001b[39m0.5\u001b[39m)\n",
      "Cell \u001b[1;32mIn[30], line 72\u001b[0m, in \u001b[0;36mpharmacy_nearby\u001b[1;34m(updates, chat)\u001b[0m\n\u001b[0;32m     68\u001b[0m lons \u001b[39m=\u001b[39m [\u001b[39mfloat\u001b[39m(i[\u001b[39m2\u001b[39m]) \u001b[39mfor\u001b[39;00m i \u001b[39min\u001b[39;00m res]\n\u001b[0;32m     70\u001b[0m \u001b[39mfor\u001b[39;00m update \u001b[39min\u001b[39;00m updates[\u001b[39m\"\u001b[39m\u001b[39mresult\u001b[39m\u001b[39m\"\u001b[39m]:\n\u001b[1;32m---> 72\u001b[0m     \u001b[39mif\u001b[39;00m (update[\u001b[39m\"\u001b[39;49m\u001b[39mmessage\u001b[39;49m\u001b[39m\"\u001b[39;49m][\u001b[39m\"\u001b[39;49m\u001b[39mlocation\u001b[39;49m\u001b[39m\"\u001b[39;49m] \u001b[39mis\u001b[39;00m \u001b[39mnot\u001b[39;00m \u001b[39mNone\u001b[39;00m):\n\u001b[0;32m     73\u001b[0m         position \u001b[39m=\u001b[39m update[\u001b[39m\"\u001b[39m\u001b[39mmessage\u001b[39m\u001b[39m\"\u001b[39m][\u001b[39m\"\u001b[39m\u001b[39mlocation\u001b[39m\u001b[39m\"\u001b[39m]\n\u001b[0;32m     74\u001b[0m     \u001b[39melse\u001b[39;00m:\n",
      "\u001b[1;31mKeyError\u001b[0m: 'location'"
     ]
    }
   ],
   "source": [
    "import json\n",
    "import requests, time\n",
    "import urllib\n",
    "from geopy.distance import great_circle\n",
    "from rdflib import *\n",
    "\n",
    "TOKEN = \"6095372312:AAF2UBsvp91TGTDEsloM2on3Fw-W7gipix0\"\n",
    "URL = \"https://api.telegram.org/bot{}/\".format(TOKEN)\n",
    "\n",
    "def get_url(url):\n",
    "    response = requests.get(url)\n",
    "    content = response.content.decode(\"utf8\")\n",
    "    return content\n",
    "\n",
    "def get_json_from_url(url):\n",
    "    content = get_url(url)\n",
    "    js = json.loads(content)\n",
    "    return js\n",
    "\n",
    "def get_updates(offset=None):\n",
    "    url = URL + \"getUpdates\"\n",
    "    if offset:\n",
    "        url += \"?offset={}\".format(offset)\n",
    "    js = get_json_from_url(url)\n",
    "    return js\n",
    "\n",
    "def get_last_update_id(updates):\n",
    "    update_ids = []\n",
    "    for update in updates[\"result\"]:\n",
    "        update_ids.append(int(update[\"update_id\"]))\n",
    "    return max(update_ids)\n",
    "\n",
    "def get_last_chat_id(updates):\n",
    "    last_update = len(updates[\"result\"])\n",
    "    chat_id = updates[\"result\"][last_update-1][\"message\"][\"chat\"][\"id\"]\n",
    "    return chat_id\n",
    "\n",
    "def get_command(updates):\n",
    "    last_update = len(updates[\"result\"])\n",
    "    command = updates[\"result\"][last_update-1][\"message\"][\"text\"]\n",
    "    return command\n",
    "\n",
    "def send_message(text, chat_id):\n",
    "    text = urllib.parse.quote_plus(text)\n",
    "    url = URL + \"sendMessage?text={}&chat_id={}\".format(text, chat_id)\n",
    "    get_url(url)\n",
    "    \n",
    "def send_location(chat_id, latitude, longitude):\n",
    "    # text = urllib.parse.quote_plus(text)\n",
    "    url = URL + \"sendLocation?chat_id={}&latitude={}&longitude={}\".format(chat_id, latitude, longitude)\n",
    "    get_url(url)\n",
    "\n",
    "def pharmacy_nearby(updates,chat):\n",
    "\n",
    "    res = g.query(\"\"\" \n",
    "                SELECT ?name ?lat ?lon\n",
    "                WHERE {\n",
    "                    ?res rdf:type sso:Farmacia.\n",
    "                    ?res sso:hasName ?name.\n",
    "                    ?res sso:hasSite ?site.\n",
    "                    ?site sso:hasLatitude ?lat.\n",
    "                    ?site sso:hasLongitude ?lon.\n",
    "                }\n",
    "                \"\"\")    \n",
    "\n",
    "    names = [str(i[0]) for i in res]\n",
    "    lats = [float(i[1]) for i in res]\n",
    "    lons = [float(i[2]) for i in res]\n",
    "\n",
    "    for update in updates[\"result\"]:\n",
    "\n",
    "        if (update[\"message\"][\"location\"] is not None):\n",
    "            position = update[\"message\"][\"location\"]\n",
    "        else:\n",
    "            continue\n",
    "            \n",
    "        mypos = (position[\"latitude\"],position[\"longitude\"])\n",
    "        chat = update[\"message\"][\"chat\"][\"id\"]\n",
    "\n",
    "        for a,b,c in zip(names,lats,lons):\n",
    "            name = a\n",
    "            lat = b\n",
    "            lon = c\n",
    "            \n",
    "            dist = great_circle(mypos, [lat,lon]).meters\n",
    "            if  dist < 2000:\n",
    "                send_location(chat,lat,lon)\n",
    "                message = name\n",
    "                send_message(message,chat)\n",
    "\n",
    "def main():\n",
    "    last_update_id = None\n",
    "    while True:\n",
    "        updates = get_updates(last_update_id)\n",
    "        if len(updates[\"result\"]) > 0:\n",
    "            chat = get_last_chat_id(updates)\n",
    "\n",
    "            command = get_command(updates)\n",
    "            print(command)\n",
    "\n",
    "            last_update_id = get_last_update_id(updates) + 1\n",
    "            pharmacy_nearby(updates,chat)\n",
    "        time.sleep(0.5)\n",
    "\n",
    "if __name__ == '__main__':\n",
    "    main()"
   ]
  }
 ],
 "metadata": {
  "kernelspec": {
   "display_name": "Python 3 (ipykernel)",
   "language": "python",
   "name": "python3"
  },
  "language_info": {
   "codemirror_mode": {
    "name": "ipython",
    "version": 3
   },
   "file_extension": ".py",
   "mimetype": "text/x-python",
   "name": "python",
   "nbconvert_exporter": "python",
   "pygments_lexer": "ipython3",
   "version": "3.9.7"
  }
 },
 "nbformat": 4,
 "nbformat_minor": 5
}
