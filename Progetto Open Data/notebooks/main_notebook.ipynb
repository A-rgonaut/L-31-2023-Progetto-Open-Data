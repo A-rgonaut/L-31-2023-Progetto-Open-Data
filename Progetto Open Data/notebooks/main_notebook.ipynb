{
 "cells": [
  {
   "attachments": {},
   "cell_type": "markdown",
   "id": "d4893ee6",
   "metadata": {},
   "source": [
    "# <center> **Progetto di Open Data Management 2022-2023**\n",
    "\n",
    "<br>\n",
    "<div align=\"center\">\n",
    "    <img src=\"op_wallpaper.jpg\" width=\"1000\" height=\"563\">\n",
    "\n",
    "### <center> _Andrea Spinelli, Raffaele Terracino, Marco Valenti_\n",
    "##### <center> 23 Giugno \n",
    "***"
   ]
  },
  {
   "attachments": {},
   "cell_type": "markdown",
   "id": "4ed5dffb",
   "metadata": {},
   "source": [
    "# __Indice__\n",
    "###  [`1. Traccia`](#)\n",
    "### [`2. Selezione dei dataset`](#)\n",
    "##### &emsp;&emsp; [`2.1 Raccolta`](#)\n",
    "##### &emsp;&emsp; [`2.2 Licenze`](#)\n",
    "### [`3. Elaborazione dei dataset`](#)\n",
    "##### &emsp;&emsp; [`3.1 Pulizia`](#)\n",
    "##### &emsp;&emsp; [`3.2 Pivoting`](#)\n",
    "##### &emsp;&emsp; [`3.3 Arricchimento`](#)\n",
    "### [`4. Formattazione dei dataset a 5 stelle`](#)\n",
    "### [`5. Creazione di un'applicazione`](#)\n",
    "\n",
    "***"
   ]
  },
  {
   "attachments": {},
   "cell_type": "markdown",
   "id": "a21597c8",
   "metadata": {},
   "source": [
    "# __1 Traccia__\n",
    "\n",
    "<u> Utilizzando il linguaggio Python, per lo sviluppo del progetto si devono innanzitutto rispettare i seguenti passi: </u>\n",
    "\n",
    "- _Selezione dati;_\n",
    "- _Elaborazione dati (data cleaning, definizione struttura omogenea);_\n",
    "- _Open Linked Data (creazione di uno strato semantico, ontologie, interlinking)._\n",
    " \n",
    "<u> Dopodiché si può passare, opzionalmente, allo sviluppo del servizio tramite: </u> \n",
    "- _Creazione di un bot telegram._\n",
    "\n",
    "<u> Siano i seguenti dataset (forniti in allegato): </u>\n",
    "\n",
    "__farmacie.csv,__\n",
    "\n",
    "__parafarmacie.csv,__\n",
    "\n",
    "__strutture_sanitarie_pubbliche.csv,__\n",
    "\n",
    "__strutture_sanitarie_private.csv.__\n",
    "\n",
    "<u> Si vuole realizzare un servizio in ambito “Salute” che fornisca le posizioni e le disponibilità delle strutture mediche nella regione siciliana. </u>\n",
    "\n",
    "Si suppone che un utente del servizio abbia bisogno di dover andare a fare una visita dermatologica (struttura privata), oppure una visita ad un consultorio (struttura pubblica), tuttavia non conosce la posizione della struttura; quindi, può interrogare il servizio affinché possa trovare in un raggio di 𝑥 metri, data la sua posizione, un elenco (messaggio testuale, posizioni, …) di strutture specializzate nel campo desiderato. \n",
    "\n",
    "È possibile inoltre che l’utente, dopo una visita, abbia la prescrizione di alcuni farmaci; pertanto, avrà bisogno della locazione delle farmacie, o parafarmacie, più vicine. Il servizio di tale richiesta funziona allo stesso modo di quello precedente, inoltre si può fornire anche il recapito telefonico per effettuare la prenotazione dei farmaci. \n",
    "\n",
    "***"
   ]
  },
  {
   "attachments": {},
   "cell_type": "markdown",
   "id": "0902fd99",
   "metadata": {},
   "source": [
    "# __2 Selezione dei dataset__\n",
    "\n",
    "***"
   ]
  },
  {
   "attachments": {},
   "cell_type": "markdown",
   "id": "ab935cc9",
   "metadata": {},
   "source": [
    "# __3 Elaborazione dei dataset__\n",
    "\n",
    "### __3.1 Pulizia__\n",
    "### __3.2 Pivoting__\n",
    "### __3.3 Arricchimento__\n",
    "\n",
    "***\n"
   ]
  },
  {
   "attachments": {},
   "cell_type": "markdown",
   "id": "8a8e1e15",
   "metadata": {},
   "source": [
    "# __4 Formattazione dei dataset a 5 stelle__\n",
    "\n",
    "***"
   ]
  },
  {
   "attachments": {},
   "cell_type": "markdown",
   "id": "0da33a5a",
   "metadata": {},
   "source": [
    "# __5 Creazione di un'applicazione__\n",
    "\n",
    "***"
   ]
  },
  {
   "cell_type": "code",
   "execution_count": null,
   "id": "468351e3",
   "metadata": {},
   "outputs": [],
   "source": [
    "import pandas as pd\n",
    "\n",
    "df = pd.read_csv(\"../datasets/cleaned/strutture_sanitare_private.csv\", delimiter=';')\n",
    "df.head()"
   ]
  },
  {
   "cell_type": "code",
   "execution_count": 36,
   "id": "082cb822",
   "metadata": {},
   "outputs": [],
   "source": [
    "import pandas as pd\n",
    "\n",
    "df_private = pd.read_csv(\"../datasets/synthesized_&_clenaned/strutture_sanitarie_private.csv\", on_bad_lines=\"skip\", delimiter=\";\", encoding=\"utf-8\")\n",
    "df_private.columns = df_private.columns.str.strip()"
   ]
  },
  {
   "cell_type": "code",
   "execution_count": null,
   "id": "9e782136",
   "metadata": {},
   "outputs": [],
   "source": [
    "from geopy.geocoders import Nominatim\n",
    "from geopy.extra.rate_limiter import RateLimiter\n",
    "\n",
    "geolocator = Nominatim(user_agent = \"lel\")\n",
    "geocode = RateLimiter(geolocator.geocode)\n",
    "location = []\n",
    "i=0\n",
    "for items in df_private[\"Indirizzo\"] + \" \" + df_private[\"Citta'\"]:\n",
    "    if i==50: break\n",
    "    location = geocode(items)\n",
    "    if(location != None):\n",
    "        df_private[\"CAP\"] = location.address\n",
    "        df_private[\"LAT\"] = location.latitude\n",
    "        df_private[\"LON\"] = location.longitude\n",
    "        print(items)\n",
    "    i+=1\n",
    "df_private.head()\n",
    "df_private.add"
   ]
  },
  {
   "cell_type": "code",
   "execution_count": null,
   "id": "2fdd79d5",
   "metadata": {},
   "outputs": [],
   "source": [
    "df_private.head()"
   ]
  },
  {
   "cell_type": "code",
   "execution_count": null,
   "id": "89a5c68c",
   "metadata": {},
   "outputs": [],
   "source": []
  }
 ],
 "metadata": {
  "kernelspec": {
   "display_name": "Python 3 (ipykernel)",
   "language": "python",
   "name": "python3"
  },
  "language_info": {
   "codemirror_mode": {
    "name": "ipython",
    "version": 3
   },
   "file_extension": ".py",
   "mimetype": "text/x-python",
   "name": "python",
   "nbconvert_exporter": "python",
   "pygments_lexer": "ipython3",
   "version": "3.11.4"
  }
 },
 "nbformat": 4,
 "nbformat_minor": 5
}
