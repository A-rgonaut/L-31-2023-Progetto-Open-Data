{
 "cells": [
  {
   "cell_type": "code",
   "execution_count": 30,
   "metadata": {},
   "outputs": [],
   "source": [
    "import urllib.parse\n",
    "from rdflib import Graph, Literal, Namespace, URIRef, BNode\n",
    "from rdflib.namespace import RDF, RDFS, FOAF, OWL, XSD, DC, DCTERMS \n",
    "import pandas as pd"
   ]
  },
  {
   "cell_type": "code",
   "execution_count": 31,
   "metadata": {},
   "outputs": [],
   "source": [
    "base_uri = \"http://www.sanitasicilia.it/resource/\"\n",
    "\n",
    "g = Graph()\n",
    "count = 0\n",
    "\n",
    "sso = Namespace(\"http://www.sanitasicilia.it/ontology/\")\n",
    "\n",
    "g.bind(\"sso\", sso)\n",
    "\n",
    "ssr = Namespace(\"http://www.sanitasicilia.it/resource/\")\n",
    "g.bind(\"ssr\", ssr)\n"
   ]
  },
  {
   "cell_type": "code",
   "execution_count": 32,
   "metadata": {},
   "outputs": [],
   "source": [
    "def urify(ns, testo):\n",
    "    testo=testo.replace(\" \",\"_\").replace(\"\\'\",\"\")\n",
    "    return ns+urllib.parse.quote(testo)"
   ]
  },
  {
   "cell_type": "code",
   "execution_count": 33,
   "metadata": {},
   "outputs": [
    {
     "data": {
      "text/plain": [
       "<Graph identifier=N50f421ac4d924ff9b6008fe82e39614c (<class 'rdflib.graph.Graph'>)>"
      ]
     },
     "execution_count": 33,
     "metadata": {},
     "output_type": "execute_result"
    }
   ],
   "source": [
    "count = 0\n",
    "row_prev = pd.Series()\n",
    "\n",
    "def addBNodes(res, row):\n",
    "    bn = BNode()\n",
    "\n",
    "    g.add([res, sso.hasSite, bn])\n",
    "    g.add([bn, sso.hasAddress, Literal(row[0], datatype=XSD.string) ])\n",
    "   \n",
    "    if(row[3] != 0):\n",
    "        g.add([bn, sso.hasCap, Literal(row[3], datatype=XSD.integer) ])\n",
    "    g.add([bn, sso.isIn, URIRef(urify(base_uri, row[4].title()))])\n",
    "    g.add([bn, sso.tipology, Literal(row[7], datatype=XSD.string)])\n",
    "    \n",
    "    if(row[8] != 0 and row[9] != 0):\n",
    "        g.add([bn, sso.hasLatitude, Literal(row[8], datatype=XSD.decimal) ])\n",
    "        g.add([bn, sso.hasLongitude, Literal(row[9], datatype=XSD.decimal) ])\n",
    "\n",
    "def addTriples(row):\n",
    "    global count\n",
    "    code = 'F'+f'{count:04}'\n",
    "    res = URIRef(urify(base_uri, code))\n",
    "    g.add([res, URIRef(RDF.type), URIRef(sso.Farmacia)])\n",
    "\n",
    "    g.add([res, sso.hasName, Literal(row[1], datatype=XSD.string) ])\n",
    "    g.add([res, sso.hasVatNumber, Literal(row[2], datatype=XSD.integer) ])\n",
    "\n",
    "    addBNodes(URIRef(urify(base_uri, code)), row)\n",
    "    count = count + 1\n",
    "\n",
    "\n",
    "farmacie_df = pd.read_csv(\"../datasets/csv/completed/farmacie.csv\")\n",
    "\n",
    "farmacie_df.apply(lambda row : addTriples(row), axis=1)\n",
    "\n",
    "g.serialize(destination=\"farmacie.ttl\", format=\"turtle\")"
   ]
  }
 ],
 "metadata": {
  "kernelspec": {
   "display_name": "Python 3",
   "language": "python",
   "name": "python3"
  },
  "language_info": {
   "codemirror_mode": {
    "name": "ipython",
    "version": 3
   },
   "file_extension": ".py",
   "mimetype": "text/x-python",
   "name": "python",
   "nbconvert_exporter": "python",
   "pygments_lexer": "ipython3",
   "version": "3.9.7"
  },
  "orig_nbformat": 4
 },
 "nbformat": 4,
 "nbformat_minor": 2
}
