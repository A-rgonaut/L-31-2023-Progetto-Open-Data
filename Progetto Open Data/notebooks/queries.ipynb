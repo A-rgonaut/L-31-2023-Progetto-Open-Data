{
 "cells": [
  {
   "cell_type": "code",
   "execution_count": 1,
   "metadata": {},
   "outputs": [
    {
     "data": {
      "text/plain": [
       "<Graph identifier=N44e6308574fb4d41af40bfbcb676612c (<class 'rdflib.graph.Graph'>)>"
      ]
     },
     "execution_count": 1,
     "metadata": {},
     "output_type": "execute_result"
    }
   ],
   "source": [
    "import pandas as pd\n",
    "from rdflib import *\n",
    "\n",
    "base_uri = \"http://www.sanitasicilia.it/resource/\"\n",
    "g = Graph()\n",
    "\n",
    "sso = Namespace(\"http://www.sanitasicilia.it/ontology/\")\n",
    "g.bind(\"sso\", sso)\n",
    "\n",
    "ssr = Namespace(\"http://www.sanitasicilia.it/resource/\")\n",
    "g.bind(\"ssr\", ssr)\n",
    "\n",
    "g.parse('../datasets/rdf/sanitasicilia.xml')"
   ]
  },
  {
   "cell_type": "code",
   "execution_count": 56,
   "metadata": {},
   "outputs": [
    {
     "name": "stdout",
     "output_type": "stream",
     "text": [
      "TRAPANI 46 40\n",
      "PALERMO 171 155\n",
      "AGRIGENTO 51 48\n",
      "CALTANISSETTA 29 22\n"
     ]
    }
   ],
   "source": [
    "# Prelevare tutti i comuni che hanno un numero di farmacie maggiore al numero di parafarmacie\n",
    "\n",
    "res = g.query(\"\"\" \n",
    "            SELECT ?prov (COUNT(DISTINCT ?res) AS ?farmacie) (COUNT(DISTINCT ?res2) AS ?parafarmacie)\n",
    "            WHERE { \n",
    "                ?res rdf:type sso:Farmacia .\n",
    "                ?res sso:hasSite ?site .\n",
    "                ?site sso:isIn ?comune .\n",
    "                ?comune sso:hasProvince ?prov .\n",
    "\n",
    "                ?res2 rdf:type sso:Parafarmacia .\n",
    "                ?res2 sso:hasSite ?site2 .\n",
    "                ?site2 sso:isIn ?comune2 .\n",
    "                ?comune2 sso:hasProvince ?prov .\n",
    "\n",
    "            }\n",
    "            GROUP BY ?prov \n",
    "            HAVING( COUNT(DISTINCT ?res)>COUNT(DISTINCT ?res2) ) \n",
    "            \"\"\")\n",
    "\n",
    "for i in res:\n",
    "    print(i[0], i[1], i[2])"
   ]
  }
 ],
 "metadata": {
  "kernelspec": {
   "display_name": "Python 3",
   "language": "python",
   "name": "python3"
  },
  "language_info": {
   "codemirror_mode": {
    "name": "ipython",
    "version": 3
   },
   "file_extension": ".py",
   "mimetype": "text/x-python",
   "name": "python",
   "nbconvert_exporter": "python",
   "pygments_lexer": "ipython3",
   "version": "3.9.7"
  },
  "orig_nbformat": 4
 },
 "nbformat": 4,
 "nbformat_minor": 2
}
