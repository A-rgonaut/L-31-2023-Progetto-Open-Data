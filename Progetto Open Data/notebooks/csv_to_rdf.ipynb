{
 "cells": [
  {
   "cell_type": "code",
   "execution_count": 35,
   "metadata": {},
   "outputs": [],
   "source": [
    "import urllib.parse\n",
    "from rdflib import Graph, Literal, Namespace, URIRef\n",
    "from rdflib.namespace import RDF, RDFS, FOAF, OWL, XSD, DC, DCTERMS \n",
    "import pandas as pd"
   ]
  },
  {
   "cell_type": "code",
   "execution_count": 2,
   "metadata": {},
   "outputs": [],
   "source": [
    "base_uri = \"http://www.sanitasicilia.it/resource/\"\n",
    "\n",
    "g = Graph()\n",
    "\n",
    "sso = Namespace(\"http://www.sanitasicilia.it/ontology/\")\n",
    "\n",
    "g.bind(\"sso\", sso)\n",
    "\n",
    "ssr = Namespace(\"http://www.sanitasicilia.it/resource/\")\n",
    "g.bind(\"ssr\", ssr)\n"
   ]
  },
  {
   "cell_type": "code",
   "execution_count": 7,
   "metadata": {},
   "outputs": [
    {
     "data": {
      "text/plain": [
       "<Graph identifier=N2f592c4e4ccc49e780f2be41214f59e0 (<class 'rdflib.graph.Graph'>)>"
      ]
     },
     "execution_count": 7,
     "metadata": {},
     "output_type": "execute_result"
    }
   ],
   "source": [
    "#Comuni\n",
    "def urify(ns, testo):\n",
    "    testo=testo.replace(\" \",\"_\").replace(\"\\'\",\"\")\n",
    "    return ns+urllib.parse.quote(testo)\n",
    "\n",
    "def addTriples(row):\n",
    "    res = URIRef(urify(base_uri, row[0]))\n",
    "    g.add([res, URIRef(RDF.type), URIRef(sso.Comune)])\n",
    "    g.add([res, sso.hasName, Literal(row[0], datatype=XSD.string)])\n",
    "    g.add([res, sso.hasTotalPopulation, Literal(row[1], datatype=XSD.integer)])\n",
    "    g.add([res, sso.hasProvince, Literal(row[2], datatype=XSD.string)])\n",
    "    g.add([res, sso.hasProvinceAcr, Literal(row[3], datatype=XSD.string)])\n",
    "    #interlinking\n",
    "    \n",
    "\n",
    "comuni_df = pd.read_csv(\"../datasets/completed/comuni_sicilia.csv\")\n",
    "\n",
    "comuni_df.apply(lambda row : addTriples(row), axis=1)\n",
    "\n",
    "g.serialize(destination='../datasets/rdf/comuni_sicilia.ttl', \n",
    "            format='turtle')"
   ]
  },
  {
   "cell_type": "code",
   "execution_count": 38,
   "metadata": {},
   "outputs": [
    {
     "data": {
      "text/plain": [
       "<Graph identifier=N5ecdc6286107452fbacceeacc2f13b42 (<class 'rdflib.graph.Graph'>)>"
      ]
     },
     "execution_count": 38,
     "metadata": {},
     "output_type": "execute_result"
    }
   ],
   "source": [
    "#Farmacie\n",
    "def addTriples(row):\n",
    "    #sostituire con codice farmacia/parafarmacia piuttosto che nome \n",
    "    res = URIRef(urify(base_uri, row[5]))\n",
    "    g.add([res, URIRef(RDF.type), URIRef(sso.Farmacia)])\n",
    "    g.add([res, sso.isIn, URIRef(urify(base_uri, row[2].title()))])\n",
    "\n",
    "    if(row[3] != 0):\n",
    "        g.add([res, sso.hasCap, Literal(row[3], datatype=XSD.integer) ])\n",
    "        \n",
    "    g.add([res, sso.hasAddress, Literal(row[4], datatype=XSD.string) ])\n",
    "    g.add([res, sso.hasName, Literal(row[5], datatype=XSD.string) ])\n",
    "\n",
    "    if(row[6] != 0 and row[7] != 0):\n",
    "        g.add([res, sso.hasLatitude, Literal(row[6], datatype=XSD.decimal) ])\n",
    "        g.add([res, sso.hasLongitude, Literal(row[7], datatype=XSD.decimal) ])\n",
    "    g.add([res, sso.hasVatNumber, Literal(row[8], datatype=XSD.integer) ])\n",
    "\n",
    "\n",
    "g = Graph()\n",
    "sso = Namespace(\"http://www.sanitasicilia.it/ontology/\")\n",
    "g.bind(\"sso\", sso)\n",
    "ssr = Namespace(\"http://www.sanitasicilia.it/resource/\")\n",
    "g.bind(\"ssr\", ssr)\n",
    "\n",
    "farmacie_df = pd.read_csv(\"../datasets/completed/farmacie-out.csv\")\n",
    "\n",
    "\n",
    "farmacie_df.apply(lambda row : addTriples(row), axis=1)\n",
    "\n",
    "g.serialize(destination='../datasets/rdf/farmacie.ttl', \n",
    "            format='turtle')"
   ]
  },
  {
   "cell_type": "code",
   "execution_count": null,
   "metadata": {},
   "outputs": [],
   "source": [
    "#Parafarmacie\n",
    "def addTriples(row):\n",
    "    #sostituire con codice farmacia/parafarmacia piuttosto che nome \n",
    "    res = URIRef(urify(base_uri, row[5]))\n",
    "    g.add([res, URIRef(RDF.type), URIRef(sso.Parafarmacia)])\n",
    "    g.add([res, sso.isIn, URIRef(urify(base_uri, row[2].title()))])\n",
    "\n",
    "    if(row[3] != 0):\n",
    "        g.add([res, sso.hasCap, Literal(row[3], datatype=XSD.integer) ])\n",
    "        \n",
    "    g.add([res, sso.hasAddress, Literal(row[4], datatype=XSD.string) ])\n",
    "    g.add([res, sso.hasName, Literal(row[5], datatype=XSD.string) ])\n",
    "\n",
    "    if(row[6] != 0 and row[7] != 0):\n",
    "        g.add([res, sso.hasLatitude, Literal(row[6], datatype=XSD.decimal) ])\n",
    "        g.add([res, sso.hasLongitude, Literal(row[7], datatype=XSD.decimal) ])\n",
    "    g.add([res, sso.hasVatNumber, Literal(row[8], datatype=XSD.integer) ])\n",
    "\n",
    "parafarmacie_df = pd.read_csv(\"../datasets/completed/parafarmacie.csv\", sep=';')\n",
    "parafarmacie_df[\"LATITUDINE\"] = parafarmacie_df[\"LATITUDINE\"].apply(lambda x : float(x.replace(',', '.')) if x != '-' else 0.0)\n",
    "parafarmacie_df[\"LONGITUDINE\"] = parafarmacie_df[\"LONGITUDINE\"].apply(lambda x : float(x.replace(',', '.')) if x != '-' else 0.0)\n",
    "parafarmacie_df[\"PARTITAIVA\"] = parafarmacie_df[\"PARTITAIVA\"].apply(lambda x : x if x != '-' else 0)\n",
    "\n",
    "\n",
    "g = Graph() #attualmente, per debug rdf separati\n",
    "sso = Namespace(\"http://www.sanitasicilia.it/ontology/\")\n",
    "g.bind(\"sso\", sso)\n",
    "ssr = Namespace(\"http://www.sanitasicilia.it/resource/\")\n",
    "g.bind(\"ssr\", ssr)\n",
    "\n",
    "parafarmacie_df.apply(lambda row : addTriples(row), axis=1)\n",
    "g.serialize(destination='../datasets/rdf/parafarmacie.ttl', \n",
    "            format='turtle')\n",
    "            "
   ]
  },
  {
   "cell_type": "code",
   "execution_count": 24,
   "metadata": {},
   "outputs": [
    {
     "data": {
      "text/plain": [
       "<Graph identifier=Ndede4723e28640238ec3c81913218d1f (<class 'rdflib.graph.Graph'>)>"
      ]
     },
     "execution_count": 24,
     "metadata": {},
     "output_type": "execute_result"
    }
   ],
   "source": [
    "#Strutture sanitarie private\n",
    "def addTriples(row):\n",
    "    #sostituire con codice struttura\n",
    "    res = URIRef(urify(base_uri, row[7]))\n",
    "    g.add([res, URIRef(RDF.type), URIRef(sso.StrutturaPrivata)])\n",
    "\n",
    "    if(row[0] != 0):\n",
    "        g.add([res, sso.hasCap, Literal(row[0], datatype=XSD.integer) ])\n",
    "        \n",
    "    if(row[1] != 0 and row[2] != 0):\n",
    "        g.add([res, sso.hasLatitude, Literal(row[1], datatype=XSD.decimal) ])\n",
    "        g.add([res, sso.hasLongitude, Literal(row[2], datatype=XSD.decimal) ])\n",
    "    \n",
    "    g.add([res, sso.hasReferenceAsp, Literal(row[3], datatype=XSD.string)])\n",
    "\n",
    "    if(row[5] != ''):\n",
    "        g.add([res, sso.isIn, URIRef(urify(base_uri, row[5].title()))])\n",
    "\n",
    "    if(row[6] != 0):\n",
    "        g.add([res, sso.hasAddress, Literal(row[6], datatype=XSD.string) ])\n",
    "        \n",
    "    g.add([res, sso.hasName, Literal(row[7], datatype=XSD.string) ])\n",
    "    g.add([res, sso.businessType, Literal(row[8], datatype=XSD.string)])\n",
    "    g.add([res, sso.hasSiteType, Literal(row[9], datatype=XSD.string) ])\n",
    "\n",
    "g = Graph()\n",
    "sso = Namespace(\"http://www.sanitasicilia.it/ontology/\")\n",
    "g.bind(\"sso\", sso)\n",
    "ssr = Namespace(\"http://www.sanitasicilia.it/resource/\")\n",
    "g.bind(\"ssr\", ssr)\n",
    "\n",
    "private_df = pd.read_csv(\"../datasets/completed/private.csv\")\n",
    "private_df[\"Citta\\'\"] = private_df[\"Citta\\'\"].astype(str)\n",
    "private_df.apply(lambda row : addTriples(row), axis=1)\n",
    "g.serialize(destination='../datasets/rdf/private.ttl', \n",
    "            format='turtle')"
   ]
  },
  {
   "cell_type": "code",
   "execution_count": 28,
   "metadata": {},
   "outputs": [],
   "source": [
    "import math"
   ]
  },
  {
   "cell_type": "code",
   "execution_count": 34,
   "metadata": {},
   "outputs": [
    {
     "data": {
      "text/plain": [
       "<Graph identifier=N2f7608768f2346a68ff27767de3ab2aa (<class 'rdflib.graph.Graph'>)>"
      ]
     },
     "execution_count": 34,
     "metadata": {},
     "output_type": "execute_result"
    }
   ],
   "source": [
    "#Strutture sanitarie pubbliche\n",
    "def addTriples(row):\n",
    "    #sostituire con codice struttura\n",
    "    res = URIRef(urify(base_uri, row[5]))\n",
    "    g.add([res, URIRef(RDF.type), URIRef(sso.StrutturaPubblica)])\n",
    "\n",
    "    if(row[0] != ''):\n",
    "        g.add([res, sso.isIn, URIRef(urify(base_uri, row[0].title()))])\n",
    "\n",
    "    if(row[1] != 0 and row[2] != 0):\n",
    "        g.add([res, sso.hasLatitude, Literal(row[1], datatype=XSD.decimal) ])\n",
    "        g.add([res, sso.hasLongitude, Literal(row[2], datatype=XSD.decimal) ])\n",
    "   \n",
    "    g.add([res, sso.hasCap, Literal(row[3], datatype=XSD.integer) ])\n",
    "    g.add([res, sso.hasAddress, Literal(row[4], datatype=XSD.string)])\n",
    "    g.add([res, sso.hasName, Literal(row[5], datatype=XSD.string) ])\n",
    "    g.add([res, sso.businessType, Literal(row[7], datatype=XSD.string)])\n",
    "    g.add([res, sso.hasSiteType, Literal(row[8], datatype=XSD.string)])\n",
    "\n",
    "    if row[9] != '':\n",
    "        g.add([res, sso.isRecoveryStructure, Literal(True, datatype=XSD.boolean)])\n",
    "        g.add([res, sso.hasRecoveryStructureName, Literal(row[10], datatype=XSD.string)])\n",
    "    else:\n",
    "        g.add([res, sso.isRecoveryStructure, Literal(False, datatype=XSD.boolean)])\n",
    "\n",
    "    g.add([res, sso.workingMonths, Literal(row[10], datatype=XSD.integer)])\n",
    "    g.add([res, sso.openingDays, Literal(row[12], datatype=XSD.integer)])\n",
    "    g.add([res, sso.weeklyHours, Literal(row[13], datatype=XSD.integer)])\n",
    "    g.add([res, sso.hasVatNumber, Literal(row[14], datatype=XSD.integer)])\n",
    "    g.add([res, sso.hasEmail, Literal(row[15], datatype=XSD.string)])\n",
    "\n",
    "    if row[16] != '':\n",
    "        g.add([res, sso.hasWebsite, Literal(row[16], datatype=XSD.string)])\n",
    "   \n",
    "    if not math.isnan(row[17]):\n",
    "        g.add([res, sso.hasPhonePrefix, Literal(row[17], datatype=XSD.integer)])\n",
    "   \n",
    "    if not math.isnan(row[18]):\n",
    "        g.add([res, sso.hasPhoneNumber, Literal(row[18], datatype=XSD.integer)])\n",
    "    \n",
    "    if not math.isnan(row[19]):\n",
    "        g.add([res, sso.hasFaxPrefix, Literal(row[19], datatype=XSD.integer)])\n",
    "    \n",
    "    if not math.isnan(row[20]):\n",
    "        g.add([res, sso.hasFaxNumber, Literal(row[20], datatype=XSD.integer)])\n",
    "\n",
    "g = Graph()\n",
    "sso = Namespace(\"http://www.sanitasicilia.it/ontology/\")\n",
    "g.bind(\"sso\", sso)\n",
    "ssr = Namespace(\"http://www.sanitasicilia.it/resource/\")\n",
    "g.bind(\"ssr\", ssr)\n",
    "\n",
    "pubbliche_df = pd.read_csv(\"../datasets/completed/pubbliche.csv\")\n",
    "\n",
    "pubbliche_df[\"Comune\"] = pubbliche_df[\"Comune\"].astype(str)\n",
    "pubbliche_df[\"Denominazione struttura di ricovero\"] = pubbliche_df[\"Denominazione struttura di ricovero\"].astype(str)\n",
    "pubbliche_df[\"Sito web\"] = pubbliche_df[\"Sito web\"].astype(str)\n",
    "\n",
    "pubbliche_df.apply(lambda row : addTriples(row), axis=1)\n",
    "g.serialize(destination='../datasets/rdf/pubbliche.ttl', format='turtle')"
   ]
  }
 ],
 "metadata": {
  "kernelspec": {
   "display_name": "Python 3",
   "language": "python",
   "name": "python3"
  },
  "language_info": {
   "codemirror_mode": {
    "name": "ipython",
    "version": 3
   },
   "file_extension": ".py",
   "mimetype": "text/x-python",
   "name": "python",
   "nbconvert_exporter": "python",
   "pygments_lexer": "ipython3",
   "version": "3.9.7"
  },
  "orig_nbformat": 4
 },
 "nbformat": 4,
 "nbformat_minor": 2
}
