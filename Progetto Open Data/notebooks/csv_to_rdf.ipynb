{
 "cells": [
  {
   "cell_type": "code",
   "execution_count": 1,
   "metadata": {},
   "outputs": [],
   "source": [
    "import urllib.parse\n",
    "from rdflib import Graph, Literal, Namespace, URIRef, BNode\n",
    "from rdflib.namespace import RDF, RDFS, FOAF, OWL, XSD, DC, DCTERMS \n",
    "import pandas as pd"
   ]
  },
  {
   "cell_type": "code",
   "execution_count": 2,
   "metadata": {},
   "outputs": [],
   "source": [
    "base_uri = \"http://www.sanitasicilia.it/resource/\"\n",
    "\n",
    "g = Graph()\n",
    "count = 0\n",
    "\n",
    "sso = Namespace(\"http://www.sanitasicilia.it/ontology/\")\n",
    "\n",
    "g.bind(\"sso\", sso)\n",
    "\n",
    "ssr = Namespace(\"http://www.sanitasicilia.it/resource/\")\n",
    "g.bind(\"ssr\", ssr)\n"
   ]
  },
  {
   "cell_type": "code",
   "execution_count": 3,
   "metadata": {},
   "outputs": [],
   "source": [
    "def urify(ns, testo):\n",
    "    testo=testo.replace(\" \",\"_\").replace(\"\\'\",\"\")\n",
    "    return ns+urllib.parse.quote(testo)"
   ]
  },
  {
   "cell_type": "code",
   "execution_count": 5,
   "metadata": {},
   "outputs": [
    {
     "name": "stdout",
     "output_type": "stream",
     "text": [
      "'\n"
     ]
    }
   ],
   "source": [
    "s = \"'\"\n",
    "print(s)"
   ]
  },
  {
   "cell_type": "code",
   "execution_count": 4,
   "metadata": {},
   "outputs": [
    {
     "name": "stdout",
     "output_type": "stream",
     "text": [
      "Richiesta per:  Alcara_Li_Fusi\n",
      "ASK WHERE { ?res rdfs:label ?label . FILTER REGEX(?label, 'Alcara_Li_Fusi') . }\n",
      "False\n",
      "Richiesta per:  Alessandria_Della_Rocca\n",
      "ASK WHERE { ?res rdfs:label ?label . FILTER REGEX(?label, 'Alessandria_Della_Rocca') . }\n",
      "False\n",
      "Richiesta per:  Alì\n",
      "ASK WHERE { ?res rdfs:label ?label . FILTER REGEX(?label, 'Alì') . }\n",
      "False\n",
      "Richiesta per:  Alì_Terme\n",
      "ASK WHERE { ?res rdfs:label ?label . FILTER REGEX(?label, 'Alì_Terme') . }\n",
      "False\n",
      "Richiesta per:  Alia\n",
      "ASK WHERE { ?res rdfs:label ?label . FILTER REGEX(?label, 'Alia') . }\n",
      "True\n",
      "Richiesta per:  Alimena\n",
      "ASK WHERE { ?res rdfs:label ?label . FILTER REGEX(?label, 'Alimena') . }\n",
      "False\n",
      "Richiesta per:  Aliminusa\n",
      "ASK WHERE { ?res rdfs:label ?label . FILTER REGEX(?label, 'Aliminusa') . }\n",
      "False\n",
      "Richiesta per:  Altavilla_Milicia\n",
      "ASK WHERE { ?res rdfs:label ?label . FILTER REGEX(?label, 'Altavilla_Milicia') . }\n",
      "False\n",
      "Richiesta per:  Aragona\n",
      "ASK WHERE { ?res rdfs:label ?label . FILTER REGEX(?label, 'Aragona') . }\n",
      "True\n",
      "Richiesta per:  Avola\n",
      "ASK WHERE { ?res rdfs:label ?label . FILTER REGEX(?label, 'Avola') . }\n",
      "True\n",
      "Richiesta per:  Bagheria\n",
      "ASK WHERE { ?res rdfs:label ?label . FILTER REGEX(?label, 'Bagheria') . }\n",
      "False\n",
      "Richiesta per:  Agrigento\n",
      "ASK WHERE { ?res rdfs:label ?label . FILTER REGEX(?label, 'Agrigento') . }\n",
      "True\n",
      "Richiesta per:  Siracusa\n",
      "ASK WHERE { ?res rdfs:label ?label . FILTER REGEX(?label, 'Siracusa') . }\n",
      "True\n",
      "Richiesta per:  Trapani\n",
      "ASK WHERE { ?res rdfs:label ?label . FILTER REGEX(?label, 'Trapani') . }\n",
      "True\n",
      "Richiesta per:  Palermo\n",
      "ASK WHERE { ?res rdfs:label ?label . FILTER REGEX(?label, 'Palermo') . }\n",
      "True\n",
      "Richiesta per:  Messina\n",
      "ASK WHERE { ?res rdfs:label ?label . FILTER REGEX(?label, 'Messina') . }\n",
      "True\n",
      "Richiesta per:  Caltanissetta\n",
      "ASK WHERE { ?res rdfs:label ?label . FILTER REGEX(?label, 'Caltanissetta') . }\n",
      "True\n",
      "Richiesta per:  Enna\n",
      "ASK WHERE { ?res rdfs:label ?label . FILTER REGEX(?label, 'Enna') . }\n",
      "True\n",
      "Richiesta per:  Catania\n",
      "ASK WHERE { ?res rdfs:label ?label . FILTER REGEX(?label, 'Catania') . }\n",
      "True\n",
      "Richiesta per:  Ragusa\n",
      "ASK WHERE { ?res rdfs:label ?label . FILTER REGEX(?label, 'Ragusa') . }\n",
      "True\n",
      "Richiesta per:  Acate\n",
      "ASK WHERE { ?res rdfs:label ?label . FILTER REGEX(?label, 'Acate') . }\n",
      "True\n",
      "Richiesta per:  Aci_Bonaccorsi\n",
      "ASK WHERE { ?res rdfs:label ?label . FILTER REGEX(?label, 'Aci_Bonaccorsi') . }\n",
      "False\n",
      "Richiesta per:  Aci_Castello\n",
      "ASK WHERE { ?res rdfs:label ?label . FILTER REGEX(?label, 'Aci_Castello') . }\n",
      "False\n",
      "Richiesta per:  Aci_Catena\n",
      "ASK WHERE { ?res rdfs:label ?label . FILTER REGEX(?label, 'Aci_Catena') . }\n",
      "False\n",
      "Richiesta per:  Aci_Sant'Antonio\n",
      "ASK WHERE { ?res rdfs:label ?label . FILTER REGEX(?label, 'Aci_Sant'Antonio') . }\n"
     ]
    },
    {
     "ename": "QueryBadFormed",
     "evalue": "QueryBadFormed: A bad request has been sent to the endpoint: probably the SPARQL query is badly formed. \n\nResponse:\nb\"Virtuoso 37000 Error SP030: SPARQL compiler, line 0: End-of-line in a short single-quoted string at '') . }\\n'\\n\\nSPARQL query:\\n#output-format:application/sparql-results+json\\nASK WHERE { ?res rdfs:label ?label . FILTER REGEX(?label, 'Aci_Sant'Antonio') . }\\n\"",
     "output_type": "error",
     "traceback": [
      "\u001b[1;31m---------------------------------------------------------------------------\u001b[0m",
      "\u001b[1;31mHTTPError\u001b[0m                                 Traceback (most recent call last)",
      "File \u001b[1;32mc:\\Users\\Raffaele\\AppData\\Local\\Programs\\Python\\Python39\\lib\\site-packages\\SPARQLWrapper\\Wrapper.py:926\u001b[0m, in \u001b[0;36mSPARQLWrapper._query\u001b[1;34m(self)\u001b[0m\n\u001b[0;32m    925\u001b[0m \u001b[39melse\u001b[39;00m:\n\u001b[1;32m--> 926\u001b[0m     response \u001b[39m=\u001b[39m urlopener(request)\n\u001b[0;32m    927\u001b[0m \u001b[39mreturn\u001b[39;00m response, \u001b[39mself\u001b[39m\u001b[39m.\u001b[39mreturnFormat\n",
      "File \u001b[1;32mc:\\Users\\Raffaele\\AppData\\Local\\Programs\\Python\\Python39\\lib\\urllib\\request.py:214\u001b[0m, in \u001b[0;36murlopen\u001b[1;34m(url, data, timeout, cafile, capath, cadefault, context)\u001b[0m\n\u001b[0;32m    213\u001b[0m     opener \u001b[39m=\u001b[39m _opener\n\u001b[1;32m--> 214\u001b[0m \u001b[39mreturn\u001b[39;00m opener\u001b[39m.\u001b[39;49mopen(url, data, timeout)\n",
      "File \u001b[1;32mc:\\Users\\Raffaele\\AppData\\Local\\Programs\\Python\\Python39\\lib\\urllib\\request.py:523\u001b[0m, in \u001b[0;36mOpenerDirector.open\u001b[1;34m(self, fullurl, data, timeout)\u001b[0m\n\u001b[0;32m    522\u001b[0m     meth \u001b[39m=\u001b[39m \u001b[39mgetattr\u001b[39m(processor, meth_name)\n\u001b[1;32m--> 523\u001b[0m     response \u001b[39m=\u001b[39m meth(req, response)\n\u001b[0;32m    525\u001b[0m \u001b[39mreturn\u001b[39;00m response\n",
      "File \u001b[1;32mc:\\Users\\Raffaele\\AppData\\Local\\Programs\\Python\\Python39\\lib\\urllib\\request.py:632\u001b[0m, in \u001b[0;36mHTTPErrorProcessor.http_response\u001b[1;34m(self, request, response)\u001b[0m\n\u001b[0;32m    631\u001b[0m \u001b[39mif\u001b[39;00m \u001b[39mnot\u001b[39;00m (\u001b[39m200\u001b[39m \u001b[39m<\u001b[39m\u001b[39m=\u001b[39m code \u001b[39m<\u001b[39m \u001b[39m300\u001b[39m):\n\u001b[1;32m--> 632\u001b[0m     response \u001b[39m=\u001b[39m \u001b[39mself\u001b[39;49m\u001b[39m.\u001b[39;49mparent\u001b[39m.\u001b[39;49merror(\n\u001b[0;32m    633\u001b[0m         \u001b[39m'\u001b[39;49m\u001b[39mhttp\u001b[39;49m\u001b[39m'\u001b[39;49m, request, response, code, msg, hdrs)\n\u001b[0;32m    635\u001b[0m \u001b[39mreturn\u001b[39;00m response\n",
      "File \u001b[1;32mc:\\Users\\Raffaele\\AppData\\Local\\Programs\\Python\\Python39\\lib\\urllib\\request.py:555\u001b[0m, in \u001b[0;36mOpenerDirector.error\u001b[1;34m(self, proto, *args)\u001b[0m\n\u001b[0;32m    554\u001b[0m args \u001b[39m=\u001b[39m (\u001b[39mdict\u001b[39m, proto, meth_name) \u001b[39m+\u001b[39m args\n\u001b[1;32m--> 555\u001b[0m result \u001b[39m=\u001b[39m \u001b[39mself\u001b[39;49m\u001b[39m.\u001b[39;49m_call_chain(\u001b[39m*\u001b[39;49margs)\n\u001b[0;32m    556\u001b[0m \u001b[39mif\u001b[39;00m result:\n",
      "File \u001b[1;32mc:\\Users\\Raffaele\\AppData\\Local\\Programs\\Python\\Python39\\lib\\urllib\\request.py:494\u001b[0m, in \u001b[0;36mOpenerDirector._call_chain\u001b[1;34m(self, chain, kind, meth_name, *args)\u001b[0m\n\u001b[0;32m    493\u001b[0m func \u001b[39m=\u001b[39m \u001b[39mgetattr\u001b[39m(handler, meth_name)\n\u001b[1;32m--> 494\u001b[0m result \u001b[39m=\u001b[39m func(\u001b[39m*\u001b[39;49margs)\n\u001b[0;32m    495\u001b[0m \u001b[39mif\u001b[39;00m result \u001b[39mis\u001b[39;00m \u001b[39mnot\u001b[39;00m \u001b[39mNone\u001b[39;00m:\n",
      "File \u001b[1;32mc:\\Users\\Raffaele\\AppData\\Local\\Programs\\Python\\Python39\\lib\\urllib\\request.py:747\u001b[0m, in \u001b[0;36mHTTPRedirectHandler.http_error_302\u001b[1;34m(self, req, fp, code, msg, headers)\u001b[0m\n\u001b[0;32m    745\u001b[0m fp\u001b[39m.\u001b[39mclose()\n\u001b[1;32m--> 747\u001b[0m \u001b[39mreturn\u001b[39;00m \u001b[39mself\u001b[39;49m\u001b[39m.\u001b[39;49mparent\u001b[39m.\u001b[39;49mopen(new, timeout\u001b[39m=\u001b[39;49mreq\u001b[39m.\u001b[39;49mtimeout)\n",
      "File \u001b[1;32mc:\\Users\\Raffaele\\AppData\\Local\\Programs\\Python\\Python39\\lib\\urllib\\request.py:523\u001b[0m, in \u001b[0;36mOpenerDirector.open\u001b[1;34m(self, fullurl, data, timeout)\u001b[0m\n\u001b[0;32m    522\u001b[0m     meth \u001b[39m=\u001b[39m \u001b[39mgetattr\u001b[39m(processor, meth_name)\n\u001b[1;32m--> 523\u001b[0m     response \u001b[39m=\u001b[39m meth(req, response)\n\u001b[0;32m    525\u001b[0m \u001b[39mreturn\u001b[39;00m response\n",
      "File \u001b[1;32mc:\\Users\\Raffaele\\AppData\\Local\\Programs\\Python\\Python39\\lib\\urllib\\request.py:632\u001b[0m, in \u001b[0;36mHTTPErrorProcessor.http_response\u001b[1;34m(self, request, response)\u001b[0m\n\u001b[0;32m    631\u001b[0m \u001b[39mif\u001b[39;00m \u001b[39mnot\u001b[39;00m (\u001b[39m200\u001b[39m \u001b[39m<\u001b[39m\u001b[39m=\u001b[39m code \u001b[39m<\u001b[39m \u001b[39m300\u001b[39m):\n\u001b[1;32m--> 632\u001b[0m     response \u001b[39m=\u001b[39m \u001b[39mself\u001b[39;49m\u001b[39m.\u001b[39;49mparent\u001b[39m.\u001b[39;49merror(\n\u001b[0;32m    633\u001b[0m         \u001b[39m'\u001b[39;49m\u001b[39mhttp\u001b[39;49m\u001b[39m'\u001b[39;49m, request, response, code, msg, hdrs)\n\u001b[0;32m    635\u001b[0m \u001b[39mreturn\u001b[39;00m response\n",
      "File \u001b[1;32mc:\\Users\\Raffaele\\AppData\\Local\\Programs\\Python\\Python39\\lib\\urllib\\request.py:561\u001b[0m, in \u001b[0;36mOpenerDirector.error\u001b[1;34m(self, proto, *args)\u001b[0m\n\u001b[0;32m    560\u001b[0m args \u001b[39m=\u001b[39m (\u001b[39mdict\u001b[39m, \u001b[39m'\u001b[39m\u001b[39mdefault\u001b[39m\u001b[39m'\u001b[39m, \u001b[39m'\u001b[39m\u001b[39mhttp_error_default\u001b[39m\u001b[39m'\u001b[39m) \u001b[39m+\u001b[39m orig_args\n\u001b[1;32m--> 561\u001b[0m \u001b[39mreturn\u001b[39;00m \u001b[39mself\u001b[39;49m\u001b[39m.\u001b[39;49m_call_chain(\u001b[39m*\u001b[39;49margs)\n",
      "File \u001b[1;32mc:\\Users\\Raffaele\\AppData\\Local\\Programs\\Python\\Python39\\lib\\urllib\\request.py:494\u001b[0m, in \u001b[0;36mOpenerDirector._call_chain\u001b[1;34m(self, chain, kind, meth_name, *args)\u001b[0m\n\u001b[0;32m    493\u001b[0m func \u001b[39m=\u001b[39m \u001b[39mgetattr\u001b[39m(handler, meth_name)\n\u001b[1;32m--> 494\u001b[0m result \u001b[39m=\u001b[39m func(\u001b[39m*\u001b[39;49margs)\n\u001b[0;32m    495\u001b[0m \u001b[39mif\u001b[39;00m result \u001b[39mis\u001b[39;00m \u001b[39mnot\u001b[39;00m \u001b[39mNone\u001b[39;00m:\n",
      "File \u001b[1;32mc:\\Users\\Raffaele\\AppData\\Local\\Programs\\Python\\Python39\\lib\\urllib\\request.py:641\u001b[0m, in \u001b[0;36mHTTPDefaultErrorHandler.http_error_default\u001b[1;34m(self, req, fp, code, msg, hdrs)\u001b[0m\n\u001b[0;32m    640\u001b[0m \u001b[39mdef\u001b[39;00m \u001b[39mhttp_error_default\u001b[39m(\u001b[39mself\u001b[39m, req, fp, code, msg, hdrs):\n\u001b[1;32m--> 641\u001b[0m     \u001b[39mraise\u001b[39;00m HTTPError(req\u001b[39m.\u001b[39mfull_url, code, msg, hdrs, fp)\n",
      "\u001b[1;31mHTTPError\u001b[0m: HTTP Error 400: Bad Request",
      "\nDuring handling of the above exception, another exception occurred:\n",
      "\u001b[1;31mQueryBadFormed\u001b[0m                            Traceback (most recent call last)",
      "Cell \u001b[1;32mIn[4], line 37\u001b[0m\n\u001b[0;32m     31\u001b[0m         g\u001b[39m.\u001b[39madd([res, RDFS\u001b[39m.\u001b[39mseeAlso, URIRef(urify(\u001b[39m\"\u001b[39m\u001b[39mhttps://www.dbpedia.org/resource/\u001b[39m\u001b[39m\"\u001b[39m, comune))])\n\u001b[0;32m     35\u001b[0m comuni_df \u001b[39m=\u001b[39m pd\u001b[39m.\u001b[39mread_csv(\u001b[39m\"\u001b[39m\u001b[39m../datasets/csv/completed/comuni_sicilia.csv\u001b[39m\u001b[39m\"\u001b[39m)\n\u001b[1;32m---> 37\u001b[0m comuni_df\u001b[39m.\u001b[39;49mapply(\u001b[39mlambda\u001b[39;49;00m row : addTriples(row), axis\u001b[39m=\u001b[39;49m\u001b[39m1\u001b[39;49m)\n",
      "File \u001b[1;32mc:\\Users\\Raffaele\\AppData\\Local\\Programs\\Python\\Python39\\lib\\site-packages\\pandas\\core\\frame.py:9423\u001b[0m, in \u001b[0;36mDataFrame.apply\u001b[1;34m(self, func, axis, raw, result_type, args, **kwargs)\u001b[0m\n\u001b[0;32m   9412\u001b[0m \u001b[39mfrom\u001b[39;00m \u001b[39mpandas\u001b[39;00m\u001b[39m.\u001b[39;00m\u001b[39mcore\u001b[39;00m\u001b[39m.\u001b[39;00m\u001b[39mapply\u001b[39;00m \u001b[39mimport\u001b[39;00m frame_apply\n\u001b[0;32m   9414\u001b[0m op \u001b[39m=\u001b[39m frame_apply(\n\u001b[0;32m   9415\u001b[0m     \u001b[39mself\u001b[39m,\n\u001b[0;32m   9416\u001b[0m     func\u001b[39m=\u001b[39mfunc,\n\u001b[1;32m   (...)\u001b[0m\n\u001b[0;32m   9421\u001b[0m     kwargs\u001b[39m=\u001b[39mkwargs,\n\u001b[0;32m   9422\u001b[0m )\n\u001b[1;32m-> 9423\u001b[0m \u001b[39mreturn\u001b[39;00m op\u001b[39m.\u001b[39;49mapply()\u001b[39m.\u001b[39m__finalize__(\u001b[39mself\u001b[39m, method\u001b[39m=\u001b[39m\u001b[39m\"\u001b[39m\u001b[39mapply\u001b[39m\u001b[39m\"\u001b[39m)\n",
      "File \u001b[1;32mc:\\Users\\Raffaele\\AppData\\Local\\Programs\\Python\\Python39\\lib\\site-packages\\pandas\\core\\apply.py:678\u001b[0m, in \u001b[0;36mFrameApply.apply\u001b[1;34m(self)\u001b[0m\n\u001b[0;32m    675\u001b[0m \u001b[39melif\u001b[39;00m \u001b[39mself\u001b[39m\u001b[39m.\u001b[39mraw:\n\u001b[0;32m    676\u001b[0m     \u001b[39mreturn\u001b[39;00m \u001b[39mself\u001b[39m\u001b[39m.\u001b[39mapply_raw()\n\u001b[1;32m--> 678\u001b[0m \u001b[39mreturn\u001b[39;00m \u001b[39mself\u001b[39;49m\u001b[39m.\u001b[39;49mapply_standard()\n",
      "File \u001b[1;32mc:\\Users\\Raffaele\\AppData\\Local\\Programs\\Python\\Python39\\lib\\site-packages\\pandas\\core\\apply.py:798\u001b[0m, in \u001b[0;36mFrameApply.apply_standard\u001b[1;34m(self)\u001b[0m\n\u001b[0;32m    797\u001b[0m \u001b[39mdef\u001b[39;00m \u001b[39mapply_standard\u001b[39m(\u001b[39mself\u001b[39m):\n\u001b[1;32m--> 798\u001b[0m     results, res_index \u001b[39m=\u001b[39m \u001b[39mself\u001b[39;49m\u001b[39m.\u001b[39;49mapply_series_generator()\n\u001b[0;32m    800\u001b[0m     \u001b[39m# wrap results\u001b[39;00m\n\u001b[0;32m    801\u001b[0m     \u001b[39mreturn\u001b[39;00m \u001b[39mself\u001b[39m\u001b[39m.\u001b[39mwrap_results(results, res_index)\n",
      "File \u001b[1;32mc:\\Users\\Raffaele\\AppData\\Local\\Programs\\Python\\Python39\\lib\\site-packages\\pandas\\core\\apply.py:814\u001b[0m, in \u001b[0;36mFrameApply.apply_series_generator\u001b[1;34m(self)\u001b[0m\n\u001b[0;32m    811\u001b[0m \u001b[39mwith\u001b[39;00m option_context(\u001b[39m\"\u001b[39m\u001b[39mmode.chained_assignment\u001b[39m\u001b[39m\"\u001b[39m, \u001b[39mNone\u001b[39;00m):\n\u001b[0;32m    812\u001b[0m     \u001b[39mfor\u001b[39;00m i, v \u001b[39min\u001b[39;00m \u001b[39menumerate\u001b[39m(series_gen):\n\u001b[0;32m    813\u001b[0m         \u001b[39m# ignore SettingWithCopy here in case the user mutates\u001b[39;00m\n\u001b[1;32m--> 814\u001b[0m         results[i] \u001b[39m=\u001b[39m \u001b[39mself\u001b[39;49m\u001b[39m.\u001b[39;49mf(v)\n\u001b[0;32m    815\u001b[0m         \u001b[39mif\u001b[39;00m \u001b[39misinstance\u001b[39m(results[i], ABCSeries):\n\u001b[0;32m    816\u001b[0m             \u001b[39m# If we have a view on v, we need to make a copy because\u001b[39;00m\n\u001b[0;32m    817\u001b[0m             \u001b[39m#  series_generator will swap out the underlying data\u001b[39;00m\n\u001b[0;32m    818\u001b[0m             results[i] \u001b[39m=\u001b[39m results[i]\u001b[39m.\u001b[39mcopy(deep\u001b[39m=\u001b[39m\u001b[39mFalse\u001b[39;00m)\n",
      "Cell \u001b[1;32mIn[4], line 37\u001b[0m, in \u001b[0;36m<lambda>\u001b[1;34m(row)\u001b[0m\n\u001b[0;32m     31\u001b[0m         g\u001b[39m.\u001b[39madd([res, RDFS\u001b[39m.\u001b[39mseeAlso, URIRef(urify(\u001b[39m\"\u001b[39m\u001b[39mhttps://www.dbpedia.org/resource/\u001b[39m\u001b[39m\"\u001b[39m, comune))])\n\u001b[0;32m     35\u001b[0m comuni_df \u001b[39m=\u001b[39m pd\u001b[39m.\u001b[39mread_csv(\u001b[39m\"\u001b[39m\u001b[39m../datasets/csv/completed/comuni_sicilia.csv\u001b[39m\u001b[39m\"\u001b[39m)\n\u001b[1;32m---> 37\u001b[0m comuni_df\u001b[39m.\u001b[39mapply(\u001b[39mlambda\u001b[39;00m row : addTriples(row), axis\u001b[39m=\u001b[39m\u001b[39m1\u001b[39m)\n",
      "Cell \u001b[1;32mIn[4], line 30\u001b[0m, in \u001b[0;36maddTriples\u001b[1;34m(row)\u001b[0m\n\u001b[0;32m     27\u001b[0m \u001b[39m#interlinking\u001b[39;00m\n\u001b[0;32m     28\u001b[0m comune \u001b[39m=\u001b[39m row[\u001b[39m0\u001b[39m]\u001b[39m.\u001b[39mreplace(\u001b[39m'\u001b[39m\u001b[39ma\u001b[39m\u001b[39m\\'\u001b[39;00m\u001b[39m'\u001b[39m, \u001b[39m'\u001b[39m\u001b[39mà\u001b[39m\u001b[39m'\u001b[39m)\u001b[39m.\u001b[39mreplace(\u001b[39m'\u001b[39m\u001b[39mo\u001b[39m\u001b[39m\\'\u001b[39;00m\u001b[39m'\u001b[39m, \u001b[39m'\u001b[39m\u001b[39mò\u001b[39m\u001b[39m'\u001b[39m)\u001b[39m.\u001b[39mreplace(\u001b[39m'\u001b[39m\u001b[39me\u001b[39m\u001b[39m\\'\u001b[39;00m\u001b[39m'\u001b[39m, \u001b[39m'\u001b[39m\u001b[39mè\u001b[39m\u001b[39m'\u001b[39m)\u001b[39m.\u001b[39mreplace(\u001b[39m'\u001b[39m\u001b[39mi\u001b[39m\u001b[39m\\'\u001b[39;00m\u001b[39m'\u001b[39m, \u001b[39m'\u001b[39m\u001b[39mì\u001b[39m\u001b[39m'\u001b[39m)\u001b[39m.\u001b[39mreplace(\u001b[39m'\u001b[39m\u001b[39mu\u001b[39m\u001b[39m\\'\u001b[39;00m\u001b[39m'\u001b[39m, \u001b[39m'\u001b[39m\u001b[39mù\u001b[39m\u001b[39m'\u001b[39m)\u001b[39m.\u001b[39mreplace(\u001b[39m\"\u001b[39m\u001b[39m \u001b[39m\u001b[39m\"\u001b[39m, \u001b[39m'\u001b[39m\u001b[39m_\u001b[39m\u001b[39m'\u001b[39m)\u001b[39m.\u001b[39mtitle()\n\u001b[1;32m---> 30\u001b[0m \u001b[39mif\u001b[39;00m(existsOnDbpedia(comune)):\n\u001b[0;32m     31\u001b[0m     g\u001b[39m.\u001b[39madd([res, RDFS\u001b[39m.\u001b[39mseeAlso, URIRef(urify(\u001b[39m\"\u001b[39m\u001b[39mhttps://www.dbpedia.org/resource/\u001b[39m\u001b[39m\"\u001b[39m, comune))])\n",
      "Cell \u001b[1;32mIn[4], line 13\u001b[0m, in \u001b[0;36mexistsOnDbpedia\u001b[1;34m(res)\u001b[0m\n\u001b[0;32m     10\u001b[0m sparql\u001b[39m.\u001b[39msetQuery(query)\n\u001b[0;32m     12\u001b[0m sparql\u001b[39m.\u001b[39msetReturnFormat(JSON)\n\u001b[1;32m---> 13\u001b[0m results \u001b[39m=\u001b[39m sparql\u001b[39m.\u001b[39;49mquery()\u001b[39m.\u001b[39mconvert()\n\u001b[0;32m     14\u001b[0m \u001b[39mprint\u001b[39m(results[\u001b[39m'\u001b[39m\u001b[39mboolean\u001b[39m\u001b[39m'\u001b[39m])\n\u001b[0;32m     15\u001b[0m \u001b[39mreturn\u001b[39;00m results[\u001b[39m'\u001b[39m\u001b[39mboolean\u001b[39m\u001b[39m'\u001b[39m]\n",
      "File \u001b[1;32mc:\\Users\\Raffaele\\AppData\\Local\\Programs\\Python\\Python39\\lib\\site-packages\\SPARQLWrapper\\Wrapper.py:960\u001b[0m, in \u001b[0;36mSPARQLWrapper.query\u001b[1;34m(self)\u001b[0m\n\u001b[0;32m    942\u001b[0m \u001b[39mdef\u001b[39;00m \u001b[39mquery\u001b[39m(\u001b[39mself\u001b[39m) \u001b[39m-\u001b[39m\u001b[39m>\u001b[39m \u001b[39m\"\u001b[39m\u001b[39mQueryResult\u001b[39m\u001b[39m\"\u001b[39m:\n\u001b[0;32m    943\u001b[0m \u001b[39m    \u001b[39m\u001b[39m\"\"\"\u001b[39;00m\n\u001b[0;32m    944\u001b[0m \u001b[39m    Execute the query.\u001b[39;00m\n\u001b[0;32m    945\u001b[0m \u001b[39m    Exceptions can be raised if either the URI is wrong or the HTTP sends back an error (this is also the\u001b[39;00m\n\u001b[1;32m   (...)\u001b[0m\n\u001b[0;32m    958\u001b[0m \u001b[39m    :rtype: :class:`QueryResult` instance\u001b[39;00m\n\u001b[0;32m    959\u001b[0m \u001b[39m    \"\"\"\u001b[39;00m\n\u001b[1;32m--> 960\u001b[0m     \u001b[39mreturn\u001b[39;00m QueryResult(\u001b[39mself\u001b[39;49m\u001b[39m.\u001b[39;49m_query())\n",
      "File \u001b[1;32mc:\\Users\\Raffaele\\AppData\\Local\\Programs\\Python\\Python39\\lib\\site-packages\\SPARQLWrapper\\Wrapper.py:930\u001b[0m, in \u001b[0;36mSPARQLWrapper._query\u001b[1;34m(self)\u001b[0m\n\u001b[0;32m    928\u001b[0m \u001b[39mexcept\u001b[39;00m urllib\u001b[39m.\u001b[39merror\u001b[39m.\u001b[39mHTTPError \u001b[39mas\u001b[39;00m e:\n\u001b[0;32m    929\u001b[0m     \u001b[39mif\u001b[39;00m e\u001b[39m.\u001b[39mcode \u001b[39m==\u001b[39m \u001b[39m400\u001b[39m:\n\u001b[1;32m--> 930\u001b[0m         \u001b[39mraise\u001b[39;00m QueryBadFormed(e\u001b[39m.\u001b[39mread())\n\u001b[0;32m    931\u001b[0m     \u001b[39melif\u001b[39;00m e\u001b[39m.\u001b[39mcode \u001b[39m==\u001b[39m \u001b[39m404\u001b[39m:\n\u001b[0;32m    932\u001b[0m         \u001b[39mraise\u001b[39;00m EndPointNotFound(e\u001b[39m.\u001b[39mread())\n",
      "\u001b[1;31mQueryBadFormed\u001b[0m: QueryBadFormed: A bad request has been sent to the endpoint: probably the SPARQL query is badly formed. \n\nResponse:\nb\"Virtuoso 37000 Error SP030: SPARQL compiler, line 0: End-of-line in a short single-quoted string at '') . }\\n'\\n\\nSPARQL query:\\n#output-format:application/sparql-results+json\\nASK WHERE { ?res rdfs:label ?label . FILTER REGEX(?label, 'Aci_Sant'Antonio') . }\\n\""
     ]
    }
   ],
   "source": [
    "import re\n",
    "from SPARQLWrapper import SPARQLWrapper, JSON\n",
    "\n",
    "def existsOnDbpedia(res):\n",
    "    print(\"Richiesta per: \", res)\n",
    "    sparql = SPARQLWrapper(\"http://dbpedia.org/sparql\")\n",
    "\n",
    "    query = \"ASK WHERE { ?res rdfs:label ?label . FILTER REGEX(?label, '\" + res + \"') . }\"\n",
    "    print(query)\n",
    "    sparql.setQuery(query)\n",
    "\n",
    "    sparql.setReturnFormat(JSON)\n",
    "    results = sparql.query().convert()\n",
    "    print(results['boolean'])\n",
    "    return results['boolean']\n",
    "\n",
    "#Comuni\n",
    "def addTriples(row):\n",
    "    res = URIRef(urify(base_uri, row[0]))\n",
    "    g.add([res, URIRef(RDF.type), URIRef(sso.Comune)])\n",
    "    g.add([res, sso.hasName, Literal(row[0], datatype=XSD.string)])\n",
    "    g.add([res, sso.hasTotalPopulation, Literal(row[1], datatype=XSD.integer)])\n",
    "    g.add([res, sso.hasProvince, Literal(row[2], datatype=XSD.string)])\n",
    "    g.add([res, sso.hasProvinceAcr, Literal(row[3], datatype=XSD.string)])\n",
    "\n",
    "\n",
    "    #interlinking\n",
    "    comune = row[0].replace('a\\'', 'à').replace('o\\'', 'ò').replace('e\\'', 'è').replace('i\\'', 'ì').replace('u\\'', 'ù').replace(\" \", '_').title()\n",
    "\n",
    "    if(existsOnDbpedia(comune)):\n",
    "        g.add([res, RDFS.seeAlso, URIRef(urify(\"https://www.dbpedia.org/resource/\", comune))])\n",
    "    \n",
    "\n",
    "\n",
    "comuni_df = pd.read_csv(\"../datasets/csv/completed/comuni_sicilia.csv\")\n",
    "\n",
    "comuni_df.apply(lambda row : addTriples(row), axis=1)\n"
   ]
  },
  {
   "cell_type": "code",
   "execution_count": 5,
   "metadata": {},
   "outputs": [
    {
     "data": {
      "text/plain": [
       "<Graph identifier=Nd029397ccc1c4f15ab8e71bd25116eb9 (<class 'rdflib.graph.Graph'>)>"
      ]
     },
     "execution_count": 5,
     "metadata": {},
     "output_type": "execute_result"
    }
   ],
   "source": [
    "#Farmacie\n",
    "\n",
    "count = 0\n",
    "row_prev = pd.Series()\n",
    "\n",
    "def addBNodes(res, row):\n",
    "    bn = BNode()\n",
    "\n",
    "    g.add([res, sso.hasSite, bn])\n",
    "    g.add([bn, sso.hasAddress, Literal(row[0], datatype=XSD.string) ])\n",
    "   \n",
    "    if(row[3] != 0):\n",
    "        g.add([bn, sso.hasCap, Literal(row[3], datatype=XSD.integer) ])\n",
    "    g.add([bn, sso.isIn, URIRef(urify(base_uri, row[4].title()))])\n",
    "    g.add([bn, sso.tipology, Literal(row[7], datatype=XSD.string)])\n",
    "    \n",
    "    if(row[8] != 0 and row[9] != 0):\n",
    "        g.add([bn, sso.hasLatitude, Literal(row[8], datatype=XSD.decimal) ])\n",
    "        g.add([bn, sso.hasLongitude, Literal(row[9], datatype=XSD.decimal) ])\n",
    "\n",
    "def addTriples(row):\n",
    "    global count\n",
    "    code = 'F'+f'{count:04}'\n",
    "    res = URIRef(urify(base_uri, code))\n",
    "    g.add([res, URIRef(RDF.type), URIRef(sso.Farmacia)])\n",
    "\n",
    "    g.add([res, sso.hasName, Literal(row[1], datatype=XSD.string) ])\n",
    "    g.add([res, sso.hasVatNumber, Literal(row[2], datatype=XSD.integer) ])\n",
    "\n",
    "    addBNodes(URIRef(urify(base_uri, code)), row)\n",
    "    count = count + 1\n",
    "\n",
    "\n",
    "farmacie_df = pd.read_csv(\"../datasets/csv/completed/farmacie.csv\")\n",
    "\n",
    "farmacie_df.apply(lambda row : addTriples(row), axis=1)\n",
    "\n",
    "g.serialize(destination=\"farmacie.ttl\", format=\"turtle\")"
   ]
  },
  {
   "cell_type": "code",
   "execution_count": 6,
   "metadata": {},
   "outputs": [
    {
     "data": {
      "text/plain": [
       "<Graph identifier=Nd029397ccc1c4f15ab8e71bd25116eb9 (<class 'rdflib.graph.Graph'>)>"
      ]
     },
     "execution_count": 6,
     "metadata": {},
     "output_type": "execute_result"
    }
   ],
   "source": [
    "#Parafarmacie\n",
    "count = 0\n",
    "row_prev = pd.Series()\n",
    "\n",
    "def addBNodes(res, row):\n",
    "    bn = BNode()\n",
    "\n",
    "    g.add([res, sso.hasSite, bn])\n",
    "    g.add([bn, sso.hasAddress, Literal(row[1], datatype=XSD.string) ])\n",
    "   \n",
    "    if(row[3] != 0):\n",
    "        g.add([bn, sso.hasCap, Literal(row[3], datatype=XSD.integer) ])\n",
    "    g.add([bn, sso.isIn, URIRef(urify(base_uri, row[4].title()))])\n",
    "\n",
    "    if(row[7] != 0 and row[8] != 0):\n",
    "        g.add([bn, sso.hasLatitude, Literal(row[7], datatype=XSD.decimal) ])\n",
    "        g.add([bn, sso.hasLongitude, Literal(row[8], datatype=XSD.decimal) ])\n",
    "\n",
    "def addTriples(row):\n",
    "    global count, row_prev\n",
    "\n",
    "    if not row_prev.empty:\n",
    "        if row_prev[0] == row[0]:\n",
    "            code = 'PF'+f'{count-1:04}'\n",
    "            addBNodes(URIRef(urify(base_uri, code)), row)\n",
    "            return\n",
    "    \n",
    "    code = 'PF'+f'{count:04}'\n",
    "\n",
    "    row_prev = pd.Series(row)\n",
    "\n",
    "    res = URIRef(urify(base_uri, code))\n",
    "    g.add([res, URIRef(RDF.type), URIRef(sso.Parafarmacia)])\n",
    "\n",
    "    g.add([res, sso.hasName, Literal(row[0], datatype=XSD.string) ])\n",
    "    g.add([res, sso.hasVatNumber, Literal(row[2], datatype=XSD.integer) ])\n",
    "\n",
    "    addBNodes(URIRef(urify(base_uri, code)), row)\n",
    "    count = count + 1\n",
    "\n",
    "parafarmacie_df = pd.read_csv(\"../datasets/csv/completed/parafarmacie.csv\")\n",
    "parafarmacie_df[\"LATITUDINE\"] = parafarmacie_df[\"LATITUDINE\"].apply(lambda x : float(x.replace(',', '.')) if x != '-' else 0.0)\n",
    "parafarmacie_df[\"LONGITUDINE\"] = parafarmacie_df[\"LONGITUDINE\"].apply(lambda x : float(x.replace(',', '.')) if x != '-' else 0.0)\n",
    "parafarmacie_df[\"PARTITAIVA\"] = parafarmacie_df[\"PARTITAIVA\"].apply(lambda x : x if x != '-' else 0)\n",
    "\n",
    "\n",
    "parafarmacie_df.apply(lambda row : addTriples(row), axis=1)\n",
    "\n",
    "g.serialize(destination=\"../datasets/rdf/parafarmacie.ttl\", format=\"turtle\")"
   ]
  },
  {
   "cell_type": "code",
   "execution_count": 7,
   "metadata": {},
   "outputs": [
    {
     "data": {
      "text/plain": [
       "757"
      ]
     },
     "execution_count": 7,
     "metadata": {},
     "output_type": "execute_result"
    }
   ],
   "source": [
    "len(parafarmacie_df.index)"
   ]
  },
  {
   "cell_type": "code",
   "execution_count": 8,
   "metadata": {},
   "outputs": [
    {
     "name": "stdout",
     "output_type": "stream",
     "text": [
      "(rdflib.term.Literal('742', datatype=rdflib.term.URIRef('http://www.w3.org/2001/XMLSchema#integer')),)\n"
     ]
    }
   ],
   "source": [
    "res = g.query('''SELECT (COUNT(?parafarmacia) AS ?cname) WHERE {?parafarmacia rdf:type sso:Parafarmacia .} ''')\n",
    "\n",
    "for i in res:\n",
    "    print(i)"
   ]
  },
  {
   "cell_type": "code",
   "execution_count": 9,
   "metadata": {},
   "outputs": [
    {
     "data": {
      "text/plain": [
       "0       None\n",
       "1       None\n",
       "2       None\n",
       "3       None\n",
       "4       None\n",
       "        ... \n",
       "2108    None\n",
       "2109    None\n",
       "2110    None\n",
       "2111    None\n",
       "2112    None\n",
       "Length: 2113, dtype: object"
      ]
     },
     "execution_count": 9,
     "metadata": {},
     "output_type": "execute_result"
    }
   ],
   "source": [
    "#Strutture sanitarie private\n",
    "count = 0\n",
    "row_prev = pd.Series()\n",
    "\n",
    "def addBNodes(res, row):\n",
    "    bn = BNode()\n",
    "\n",
    "    g.add([res, sso.hasSite, bn])\n",
    "    g.add([bn, sso.hasAddress, Literal(row[6], datatype=XSD.string) ])\n",
    "   \n",
    "    if(row[0] != 0):\n",
    "        g.add([bn, sso.hasCap, Literal(row[0], datatype=XSD.integer) ])\n",
    "    g.add([bn, sso.isIn, URIRef(urify(base_uri, row[5].title()))])\n",
    "\n",
    "    if(row[1] != 0 and row[2] != 0):\n",
    "        g.add([bn, sso.hasLatitude, Literal(row[1], datatype=XSD.decimal) ])\n",
    "        g.add([bn, sso.hasLongitude, Literal(row[2], datatype=XSD.decimal) ])\n",
    "\n",
    "    g.add([bn, sso.businessType, Literal(row[8], datatype=XSD.string)])\n",
    "    g.add([bn, sso.hasSiteType, Literal(row[9], datatype=XSD.string)])\n",
    "\n",
    "def addTriples(row):\n",
    "    global count, row_prev\n",
    "\n",
    "    if not row_prev.empty:\n",
    "        if row_prev[7] == row[7]:\n",
    "            code = 'SPVT'+f'{count-1:04}'\n",
    "            addBNodes(URIRef(urify(base_uri, code)), row)\n",
    "            return\n",
    "    \n",
    "    code = 'SPVT'+f'{count:04}'\n",
    "\n",
    "    row_prev = pd.Series(row)\n",
    "\n",
    "    res = URIRef(urify(base_uri, code))\n",
    "    g.add([res, URIRef(RDF.type), URIRef(sso.StrutturaPrivata)])\n",
    "\n",
    "    g.add([res, sso.hasName, Literal(row[7], datatype=XSD.string) ])\n",
    "    g.add([res, sso.hasReferenceAsp, Literal(row[3], datatype=XSD.string)])\n",
    "    addBNodes(URIRef(urify(base_uri, code)), row)\n",
    "    count = count + 1\n",
    "\n",
    "private_df = pd.read_csv(\"../datasets/csv/completed/private.csv\")\n",
    "private_df[\"Citta\\'\"] = private_df[\"Citta\\'\"].astype(str)\n",
    "private_df.apply(lambda row : addTriples(row), axis=1)\n"
   ]
  },
  {
   "cell_type": "code",
   "execution_count": 10,
   "metadata": {},
   "outputs": [
    {
     "name": "stdout",
     "output_type": "stream",
     "text": [
      "{'den': rdflib.term.Literal('ASSOCIAZIONE CASA DEI GIOVANI', datatype=rdflib.term.URIRef('http://www.w3.org/2001/XMLSchema#string')), 'pfAddress': rdflib.term.Literal(\"VIA LIBERTA' 155/A\", datatype=rdflib.term.URIRef('http://www.w3.org/2001/XMLSchema#string'))}\n",
      "{'den': rdflib.term.Literal('ASSOCIAZIONE CASA DEI GIOVANI', datatype=rdflib.term.URIRef('http://www.w3.org/2001/XMLSchema#string')), 'pfAddress': rdflib.term.Literal('VIA RANTERIA 20', datatype=rdflib.term.URIRef('http://www.w3.org/2001/XMLSchema#string'))}\n",
      "{'den': rdflib.term.Literal('ASSOCIAZIONE CASA DEI GIOVANI', datatype=rdflib.term.URIRef('http://www.w3.org/2001/XMLSchema#string')), 'pfAddress': rdflib.term.Literal('VIA MATTARELLA 55', datatype=rdflib.term.URIRef('http://www.w3.org/2001/XMLSchema#string'))}\n",
      "{'den': rdflib.term.Literal('ASSOCIAZIONE CASA DEI GIOVANI ONLUS ', datatype=rdflib.term.URIRef('http://www.w3.org/2001/XMLSchema#string')), 'pfAddress': rdflib.term.Literal('CONTRADA DECCARO - BAGLIO LA LOGGETTA', datatype=rdflib.term.URIRef('http://www.w3.org/2001/XMLSchema#string'))}\n"
     ]
    }
   ],
   "source": [
    "res = g.query('''\n",
    "                SELECT ?den ?pfAddress\n",
    "                WHERE {\n",
    "                    ?str rdf:type sso:StrutturaPrivata . \n",
    "                    ?str sso:hasName ?den .\n",
    "                    ?str sso:hasSite ?site .\n",
    "                    ?site sso:hasAddress ?pfAddress .\n",
    "                    FILTER REGEX(?den, 'ASSOCIAZIONE CASA DEI GIOVANI')\n",
    "                }''')\n",
    "\n",
    "for i in res:\n",
    "    print(i.asdict())"
   ]
  },
  {
   "cell_type": "code",
   "execution_count": 11,
   "metadata": {},
   "outputs": [
    {
     "data": {
      "text/plain": [
       "<Graph identifier=Nd029397ccc1c4f15ab8e71bd25116eb9 (<class 'rdflib.graph.Graph'>)>"
      ]
     },
     "execution_count": 11,
     "metadata": {},
     "output_type": "execute_result"
    }
   ],
   "source": [
    "#Strutture sanitarie pubbliche\n",
    "import math\n",
    "\n",
    "count = 0\n",
    "row_prev = pd.Series()\n",
    "\n",
    "def addBNodes(res, row):\n",
    "    bn = BNode()\n",
    "\n",
    "    g.add([res, sso.hasSite, bn])\n",
    "   \n",
    "    if(row[0] != ''):\n",
    "        g.add([bn, sso.isIn, URIRef(urify(base_uri, row[0].title()))])\n",
    "\n",
    "    if(row[1] != 0 and row[2] != 0):\n",
    "        g.add([bn, sso.hasLatitude, Literal(row[1], datatype=XSD.decimal) ])\n",
    "        g.add([bn, sso.hasLongitude, Literal(row[2], datatype=XSD.decimal) ])\n",
    "   \n",
    "    g.add([bn, sso.hasCap, Literal(row[3], datatype=XSD.integer) ])\n",
    "    g.add([bn, sso.hasAddress, Literal(row[4], datatype=XSD.string)])\n",
    "    g.add([bn, sso.businessType, Literal(row[7], datatype=XSD.string)])\n",
    "    g.add([bn, sso.hasSiteType, Literal(row[8], datatype=XSD.string)])\n",
    "\n",
    "    if row[9] != '':\n",
    "        g.add([bn, sso.isRecoveryStructure, Literal(True, datatype=XSD.boolean)])\n",
    "        g.add([bn, sso.hasRecoveryStructureName, Literal(row[10], datatype=XSD.string)])\n",
    "    else:\n",
    "        g.add([bn, sso.isRecoveryStructure, Literal(False, datatype=XSD.boolean)])\n",
    "\n",
    "    g.add([bn, sso.workingMonths, Literal(row[10], datatype=XSD.integer)])\n",
    "    g.add([bn, sso.openingDays, Literal(row[12], datatype=XSD.integer)])\n",
    "    g.add([bn, sso.weeklyHours, Literal(row[13], datatype=XSD.integer)])\n",
    "    g.add([bn, sso.hasEmail, Literal(row[15], datatype=XSD.string)])\n",
    "\n",
    "    if row[16] != '':\n",
    "        g.add([bn, sso.hasWebsite, Literal(row[16], datatype=XSD.string)])\n",
    "   \n",
    "    if not math.isnan(row[17]):\n",
    "        g.add([bn, sso.hasPhonePrefix, Literal(row[17], datatype=XSD.integer)])\n",
    "   \n",
    "    if not math.isnan(row[18]):\n",
    "        g.add([bn, sso.hasPhoneNumber, Literal(row[18], datatype=XSD.integer)])\n",
    "    \n",
    "    if not math.isnan(row[19]):\n",
    "        g.add([bn, sso.hasFaxPrefix, Literal(row[19], datatype=XSD.integer)])\n",
    "    \n",
    "    if not math.isnan(row[20]):\n",
    "        g.add([bn, sso.hasFaxNumber, Literal(row[20], datatype=XSD.integer)])\n",
    "\n",
    "def addTriples(row):\n",
    "    global count, row_prev\n",
    "\n",
    "    if not row_prev.empty:\n",
    "        if row_prev[5] == row[5]:\n",
    "            code = 'SPVT'+f'{count-1:04}'\n",
    "            addBNodes(URIRef(urify(base_uri, code)), row)\n",
    "            return\n",
    "    \n",
    "    code = 'SPUB'+f'{count:04}'\n",
    "    res = URIRef(urify(base_uri, code))\n",
    "    g.add([res, URIRef(RDF.type), URIRef(sso.StrutturaPubblica)])\n",
    "    g.add([res, sso.hasName, Literal(row[5], datatype=XSD.string) ])\n",
    "    g.add([res, sso.hasVatNumber, Literal(row[14], datatype=XSD.integer)])\n",
    "\n",
    "    addBNodes(res, row)\n",
    "    count = count + 1\n",
    "\n",
    "\n",
    "\n",
    "pubbliche_df = pd.read_csv(\"../datasets/csv/completed/pubbliche.csv\")\n",
    "\n",
    "pubbliche_df[\"Comune\"] = pubbliche_df[\"Comune\"].astype(str)\n",
    "pubbliche_df[\"Denominazione struttura di ricovero\"] = pubbliche_df[\"Denominazione struttura di ricovero\"].astype(str)\n",
    "pubbliche_df[\"Sito web\"] = pubbliche_df[\"Sito web\"].astype(str)\n",
    "\n",
    "pubbliche_df.apply(lambda row : addTriples(row), axis=1)\n",
    "\n",
    "g.serialize(destination='../datasets/rdf/sanitasicilia.ttl', \n",
    "            format='turtle')"
   ]
  },
  {
   "cell_type": "code",
   "execution_count": 12,
   "metadata": {},
   "outputs": [],
   "source": [
    "res = g.query('''SELECT ?name \n",
    "                 WHERE \n",
    "                {\n",
    "                    ?struttura rdf:type sso:StrutturaPrivata .\n",
    "                    ?struttura sso:hasName ?name .\n",
    "                    ?struttura sso:isIn ?comune .\n",
    "                    ?comune sso:hasName ?nomeC .\n",
    "                    FILTER REGEX (?nomeC, \"Palermo\") .\n",
    "                }\n",
    " ''')\n"
   ]
  },
  {
   "cell_type": "code",
   "execution_count": 13,
   "metadata": {},
   "outputs": [],
   "source": [
    "for i in res:\n",
    "    print(i)"
   ]
  },
  {
   "cell_type": "code",
   "execution_count": 14,
   "metadata": {},
   "outputs": [
    {
     "data": {
      "text/plain": [
       "<Graph identifier=Nd029397ccc1c4f15ab8e71bd25116eb9 (<class 'rdflib.graph.Graph'>)>"
      ]
     },
     "execution_count": 14,
     "metadata": {},
     "output_type": "execute_result"
    }
   ],
   "source": [
    "g.serialize(destination='../datasets/rdf/sanitasicilia.ttl', \n",
    "            format='turtle')"
   ]
  },
  {
   "cell_type": "code",
   "execution_count": null,
   "metadata": {},
   "outputs": [],
   "source": []
  }
 ],
 "metadata": {
  "kernelspec": {
   "display_name": "Python 3",
   "language": "python",
   "name": "python3"
  },
  "language_info": {
   "codemirror_mode": {
    "name": "ipython",
    "version": 3
   },
   "file_extension": ".py",
   "mimetype": "text/x-python",
   "name": "python",
   "nbconvert_exporter": "python",
   "pygments_lexer": "ipython3",
   "version": "3.9.7"
  },
  "orig_nbformat": 4
 },
 "nbformat": 4,
 "nbformat_minor": 2
}
