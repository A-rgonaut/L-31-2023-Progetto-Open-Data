{
 "cells": [
  {
   "cell_type": "code",
   "execution_count": 1,
   "metadata": {},
   "outputs": [],
   "source": [
    "import urllib.parse\n",
    "from rdflib import Graph, Literal, Namespace, URIRef\n",
    "from rdflib.namespace import RDF, RDFS, FOAF, OWL, XSD, DC, DCTERMS \n",
    "import pandas as pd"
   ]
  },
  {
   "cell_type": "code",
   "execution_count": 2,
   "metadata": {},
   "outputs": [],
   "source": [
    "base_uri = \"http://www.sanitasicilia.it/resource/\"\n",
    "\n",
    "g = Graph()\n",
    "\n",
    "sso = Namespace(\"http://www.sanitasicilia.it/ontology/\")\n",
    "\n",
    "g.bind(\"sso\", sso)\n",
    "\n",
    "ssr = Namespace(\"http://www.sanitasicilia.it/resource/\")\n",
    "g.bind(\"ssr\", ssr)\n"
   ]
  },
  {
   "cell_type": "code",
   "execution_count": 4,
   "metadata": {},
   "outputs": [
    {
     "data": {
      "text/plain": [
       "<Graph identifier=N7b5761552d66458194fa951b1cc118e7 (<class 'rdflib.graph.Graph'>)>"
      ]
     },
     "execution_count": 4,
     "metadata": {},
     "output_type": "execute_result"
    }
   ],
   "source": [
    "#Comuni\n",
    "\n",
    "def urify(ns, testo):\n",
    "    testo=testo.replace(\" \",\"_\").replace(\"\\'\",\"\")\n",
    "    return ns+urllib.parse.quote(testo)\n",
    "\n",
    "def addTriples(row):\n",
    "    res = URIRef(urify(base_uri, row[0]))\n",
    "    g.add([res, URIRef(RDF.type), URIRef(sso.Comune)])\n",
    "    g.add([res, sso.hasName, Literal(row[0], datatype=XSD.string)])\n",
    "    g.add([res, sso.hasTotalPopulation, Literal(row[1], datatype=XSD.integer)])\n",
    "    g.add([res, sso.hasProvince, Literal(row[2], datatype=XSD.string)])\n",
    "    g.add([res, sso.hasProvinceAcr, Literal(row[3], datatype=XSD.string)])\n",
    "\n",
    "comuni_df = pd.read_csv(\"../datasets/ready/comuni_sicilia.csv\")\n",
    "\n",
    "comuni_df.apply(lambda row : addTriples(row), axis=1)\n",
    "\n",
    "g.serialize(destination='../datasets/rdf/comuni_sicilia.ttl', \n",
    "            format='turtle')"
   ]
  },
  {
   "cell_type": "code",
   "execution_count": 25,
   "metadata": {},
   "outputs": [
    {
     "data": {
      "text/plain": [
       "<Graph identifier=N7faa269fb3cc4889a050c85f36c71aa3 (<class 'rdflib.graph.Graph'>)>"
      ]
     },
     "execution_count": 25,
     "metadata": {},
     "output_type": "execute_result"
    }
   ],
   "source": [
    "#Farmacie e Parafarmacie\n",
    "def addTriples(row):\n",
    "    res = URIRef(urify(base_uri, row[5]))\n",
    "    g.add([res, URIRef(RDF.type), URIRef(sso.Farmacia)])\n",
    "    g.add([res, sso.isIn, URIRef(urify(base_uri, row[2].title()))])\n",
    "    g.add([res, sso.hasCap, Literal(row[3], datatype=XSD.integer) ])\n",
    "    g.add([res, sso.hasAddress, Literal(row[4], datatype=XSD.string) ])\n",
    "    g.add([res, sso.hasName, Literal(row[5], datatype=XSD.string) ])\n",
    "    g.add([res, sso.hasLatitude, Literal(row[6], datatype=XSD.decimal) ])\n",
    "    g.add([res, sso.hasLongitude, Literal(row[7], datatype=XSD.decimal) ])\n",
    "    g.add([res, sso.hasVatNumber, Literal(row[8], datatype=XSD.integer) ])\n",
    "\n",
    "\n",
    "g = Graph()\n",
    "\n",
    "farmacie_df = pd.read_csv(\"../datasets/ready/farmacie.csv\", sep=';')\n",
    "farmacie_df[\"LATITUDINE\"] = farmacie_df[\"LATITUDINE\"].apply(lambda x : float(x.replace(',', '.')) if x != '-' else 0.0)\n",
    "farmacie_df[\"LONGITUDINE\"] = farmacie_df[\"LONGITUDINE\"].apply(lambda x : float(x.replace(',', '.')) if x != '-' else 0.0)\n",
    "farmacie_df[\"PARTITAIVA\"] = farmacie_df[\"PARTITAIVA\"].apply(lambda x : x if x != '-' else 0)\n",
    "\n",
    "parafarmacie_df = pd.read_csv(\"../datasets/ready/parafarmacie.csv\", sep=';')\n",
    "parafarmacie_df[\"LATITUDINE\"] = parafarmacie_df[\"LATITUDINE\"].apply(lambda x : float(x.replace(',', '.')) if x != '-' else 0.0)\n",
    "parafarmacie_df[\"LONGITUDINE\"] = parafarmacie_df[\"LONGITUDINE\"].apply(lambda x : float(x.replace(',', '.')) if x != '-' else 0.0)\n",
    "parafarmacie_df[\"PARTITAIVA\"] = parafarmacie_df[\"PARTITAIVA\"].apply(lambda x : x if x != '-' else 0)\n",
    "\n",
    "\n",
    "farmacie_df.apply(lambda row : addTriples(row), axis=1)\n",
    "\n",
    "g.serialize(destination='../datasets/rdf/farmacie.ttl', \n",
    "            format='turtle')\n",
    "\n",
    "g = Graph() #attualmente, per debug rdf separati\n",
    "\n",
    "parafarmacie_df.apply(lambda row : addTriples(row), axis=1)\n",
    "g.serialize(destination='../datasets/rdf/parafarmacie.ttl', \n",
    "            format='turtle')"
   ]
  }
 ],
 "metadata": {
  "kernelspec": {
   "display_name": "Python 3",
   "language": "python",
   "name": "python3"
  },
  "language_info": {
   "codemirror_mode": {
    "name": "ipython",
    "version": 3
   },
   "file_extension": ".py",
   "mimetype": "text/x-python",
   "name": "python",
   "nbconvert_exporter": "python",
   "pygments_lexer": "ipython3",
   "version": "3.9.7"
  },
  "orig_nbformat": 4
 },
 "nbformat": 4,
 "nbformat_minor": 2
}
