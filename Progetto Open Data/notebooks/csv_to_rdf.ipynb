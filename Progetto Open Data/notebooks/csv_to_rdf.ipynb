{
 "cells": [
  {
   "cell_type": "code",
   "execution_count": 7,
   "metadata": {},
   "outputs": [],
   "source": [
    "import urllib.parse\n",
    "from rdflib import Graph, Literal, Namespace, URIRef, BNode\n",
    "from rdflib.namespace import RDF, RDFS, FOAF, OWL, XSD, DC, DCTERMS \n",
    "import pandas as pd"
   ]
  },
  {
   "cell_type": "code",
   "execution_count": 8,
   "metadata": {},
   "outputs": [],
   "source": [
    "base_uri = \"http://www.sanitasicilia.it/resource/\"\n",
    "\n",
    "g = Graph()\n",
    "count = 0\n",
    "\n",
    "sso = Namespace(\"http://www.sanitasicilia.it/ontology/\")\n",
    "\n",
    "g.bind(\"sso\", sso)\n",
    "\n",
    "ssr = Namespace(\"http://www.sanitasicilia.it/resource/\")\n",
    "g.bind(\"ssr\", ssr)\n"
   ]
  },
  {
   "cell_type": "code",
   "execution_count": null,
   "metadata": {},
   "outputs": [],
   "source": [
    "#test blank nodes\n",
    "base_uri = \"http://www.sanitasicilia.it/resource/\"\n",
    "\n",
    "g = Graph()\n",
    "count = 0\n",
    "\n",
    "sso = Namespace(\"http://www.sanitasicilia.it/ontology/\")\n",
    "\n",
    "g.bind(\"sso\", sso)\n",
    "\n",
    "ssr = Namespace(\"http://www.sanitasicilia.it/resource/\")\n",
    "g.bind(\"ssr\", ssr)\n",
    "bn = BNode()\n",
    "\n",
    "\n",
    "g.add([URIRef(base_uri + \"2\"), sso.hasSites, bn])\n",
    "g.add([bn, sso.hasCap, Literal(90)])\n",
    "g.add([bn, sso.hasAddress, Literal(\"SHJSHJ\")])\n",
    "\n",
    "bn2 = BNode()\n",
    "g.add([URIRef(base_uri + \"2\"), sso.hasSites, bn2])\n",
    "g.add([bn2, sso.hasCap, Literal(22)])\n",
    "g.add([bn2, sso.hasAddress, Literal(\"aaa\")])\n",
    "\n",
    "g.serialize(destination='../datasets/rdf/bndoes.ttl', \n",
    "            format='turtle')"
   ]
  },
  {
   "cell_type": "code",
   "execution_count": 9,
   "metadata": {},
   "outputs": [],
   "source": [
    "def urify(ns, testo):\n",
    "    testo=testo.replace(\" \",\"_\").replace(\"\\'\",\"\")\n",
    "    return ns+urllib.parse.quote(testo)"
   ]
  },
  {
   "cell_type": "code",
   "execution_count": null,
   "metadata": {},
   "outputs": [],
   "source": [
    "import re\n",
    "\n",
    "#Comuni\n",
    "def addTriples(row):\n",
    "    res = URIRef(urify(base_uri, row[0]))\n",
    "    g.add([res, URIRef(RDF.type), URIRef(sso.Comune)])\n",
    "    g.add([res, sso.hasName, Literal(row[0], datatype=XSD.string)])\n",
    "    g.add([res, sso.hasTotalPopulation, Literal(row[1], datatype=XSD.integer)])\n",
    "    g.add([res, sso.hasProvince, Literal(row[2], datatype=XSD.string)])\n",
    "    g.add([res, sso.hasProvinceAcr, Literal(row[3], datatype=XSD.string)])\n",
    "    #interlinking\n",
    "    a = row[0].replace('a\\'', 'à').replace('o\\'', 'ò').replace('e\\'', 'è').replace('i\\'', 'ì').replace('u\\'', 'ù')\n",
    "    g.add([res, RDFS.seeAlso, URIRef(urify(\"https://www.dbpedia.org/resource/\", a))])\n",
    "\n",
    "\n",
    "comuni_df = pd.read_csv(\"../datasets/csv/completed/comuni_sicilia.csv\")\n",
    "\n",
    "comuni_df.apply(lambda row : addTriples(row), axis=1)\n"
   ]
  },
  {
   "cell_type": "code",
   "execution_count": 10,
   "metadata": {},
   "outputs": [
    {
     "ename": "FileNotFoundError",
     "evalue": "[Errno 2] No such file or directory: '../datasets/csv/farmacie_new.csv'",
     "output_type": "error",
     "traceback": [
      "\u001b[1;31m---------------------------------------------------------------------------\u001b[0m",
      "\u001b[1;31mFileNotFoundError\u001b[0m                         Traceback (most recent call last)",
      "Cell \u001b[1;32mIn[10], line 24\u001b[0m\n\u001b[0;32m     20\u001b[0m     g\u001b[39m.\u001b[39madd([res, sso\u001b[39m.\u001b[39mhasVatNumber, Literal(row[\u001b[39m8\u001b[39m], datatype\u001b[39m=\u001b[39mXSD\u001b[39m.\u001b[39minteger) ])\n\u001b[0;32m     21\u001b[0m     count \u001b[39m=\u001b[39m count\u001b[39m+\u001b[39m\u001b[39m1\u001b[39m\n\u001b[1;32m---> 24\u001b[0m farmacie_df \u001b[39m=\u001b[39m pd\u001b[39m.\u001b[39;49mread_csv(\u001b[39m\"\u001b[39;49m\u001b[39m../datasets/csv/farmacie_new.csv\u001b[39;49m\u001b[39m\"\u001b[39;49m)\n\u001b[0;32m     26\u001b[0m farmacie_df\u001b[39m.\u001b[39mapply(\u001b[39mlambda\u001b[39;00m row : addTriples(row), axis\u001b[39m=\u001b[39m\u001b[39m1\u001b[39m)\n",
      "File \u001b[1;32mc:\\Users\\Raffaele\\AppData\\Local\\Programs\\Python\\Python39\\lib\\site-packages\\pandas\\io\\parsers\\readers.py:912\u001b[0m, in \u001b[0;36mread_csv\u001b[1;34m(filepath_or_buffer, sep, delimiter, header, names, index_col, usecols, dtype, engine, converters, true_values, false_values, skipinitialspace, skiprows, skipfooter, nrows, na_values, keep_default_na, na_filter, verbose, skip_blank_lines, parse_dates, infer_datetime_format, keep_date_col, date_parser, date_format, dayfirst, cache_dates, iterator, chunksize, compression, thousands, decimal, lineterminator, quotechar, quoting, doublequote, escapechar, comment, encoding, encoding_errors, dialect, on_bad_lines, delim_whitespace, low_memory, memory_map, float_precision, storage_options, dtype_backend)\u001b[0m\n\u001b[0;32m    899\u001b[0m kwds_defaults \u001b[39m=\u001b[39m _refine_defaults_read(\n\u001b[0;32m    900\u001b[0m     dialect,\n\u001b[0;32m    901\u001b[0m     delimiter,\n\u001b[1;32m   (...)\u001b[0m\n\u001b[0;32m    908\u001b[0m     dtype_backend\u001b[39m=\u001b[39mdtype_backend,\n\u001b[0;32m    909\u001b[0m )\n\u001b[0;32m    910\u001b[0m kwds\u001b[39m.\u001b[39mupdate(kwds_defaults)\n\u001b[1;32m--> 912\u001b[0m \u001b[39mreturn\u001b[39;00m _read(filepath_or_buffer, kwds)\n",
      "File \u001b[1;32mc:\\Users\\Raffaele\\AppData\\Local\\Programs\\Python\\Python39\\lib\\site-packages\\pandas\\io\\parsers\\readers.py:577\u001b[0m, in \u001b[0;36m_read\u001b[1;34m(filepath_or_buffer, kwds)\u001b[0m\n\u001b[0;32m    574\u001b[0m _validate_names(kwds\u001b[39m.\u001b[39mget(\u001b[39m\"\u001b[39m\u001b[39mnames\u001b[39m\u001b[39m\"\u001b[39m, \u001b[39mNone\u001b[39;00m))\n\u001b[0;32m    576\u001b[0m \u001b[39m# Create the parser.\u001b[39;00m\n\u001b[1;32m--> 577\u001b[0m parser \u001b[39m=\u001b[39m TextFileReader(filepath_or_buffer, \u001b[39m*\u001b[39m\u001b[39m*\u001b[39mkwds)\n\u001b[0;32m    579\u001b[0m \u001b[39mif\u001b[39;00m chunksize \u001b[39mor\u001b[39;00m iterator:\n\u001b[0;32m    580\u001b[0m     \u001b[39mreturn\u001b[39;00m parser\n",
      "File \u001b[1;32mc:\\Users\\Raffaele\\AppData\\Local\\Programs\\Python\\Python39\\lib\\site-packages\\pandas\\io\\parsers\\readers.py:1407\u001b[0m, in \u001b[0;36mTextFileReader.__init__\u001b[1;34m(self, f, engine, **kwds)\u001b[0m\n\u001b[0;32m   1404\u001b[0m     \u001b[39mself\u001b[39m\u001b[39m.\u001b[39moptions[\u001b[39m\"\u001b[39m\u001b[39mhas_index_names\u001b[39m\u001b[39m\"\u001b[39m] \u001b[39m=\u001b[39m kwds[\u001b[39m\"\u001b[39m\u001b[39mhas_index_names\u001b[39m\u001b[39m\"\u001b[39m]\n\u001b[0;32m   1406\u001b[0m \u001b[39mself\u001b[39m\u001b[39m.\u001b[39mhandles: IOHandles \u001b[39m|\u001b[39m \u001b[39mNone\u001b[39;00m \u001b[39m=\u001b[39m \u001b[39mNone\u001b[39;00m\n\u001b[1;32m-> 1407\u001b[0m \u001b[39mself\u001b[39m\u001b[39m.\u001b[39m_engine \u001b[39m=\u001b[39m \u001b[39mself\u001b[39;49m\u001b[39m.\u001b[39;49m_make_engine(f, \u001b[39mself\u001b[39;49m\u001b[39m.\u001b[39;49mengine)\n",
      "File \u001b[1;32mc:\\Users\\Raffaele\\AppData\\Local\\Programs\\Python\\Python39\\lib\\site-packages\\pandas\\io\\parsers\\readers.py:1661\u001b[0m, in \u001b[0;36mTextFileReader._make_engine\u001b[1;34m(self, f, engine)\u001b[0m\n\u001b[0;32m   1659\u001b[0m     \u001b[39mif\u001b[39;00m \u001b[39m\"\u001b[39m\u001b[39mb\u001b[39m\u001b[39m\"\u001b[39m \u001b[39mnot\u001b[39;00m \u001b[39min\u001b[39;00m mode:\n\u001b[0;32m   1660\u001b[0m         mode \u001b[39m+\u001b[39m\u001b[39m=\u001b[39m \u001b[39m\"\u001b[39m\u001b[39mb\u001b[39m\u001b[39m\"\u001b[39m\n\u001b[1;32m-> 1661\u001b[0m \u001b[39mself\u001b[39m\u001b[39m.\u001b[39mhandles \u001b[39m=\u001b[39m get_handle(\n\u001b[0;32m   1662\u001b[0m     f,\n\u001b[0;32m   1663\u001b[0m     mode,\n\u001b[0;32m   1664\u001b[0m     encoding\u001b[39m=\u001b[39;49m\u001b[39mself\u001b[39;49m\u001b[39m.\u001b[39;49moptions\u001b[39m.\u001b[39;49mget(\u001b[39m\"\u001b[39;49m\u001b[39mencoding\u001b[39;49m\u001b[39m\"\u001b[39;49m, \u001b[39mNone\u001b[39;49;00m),\n\u001b[0;32m   1665\u001b[0m     compression\u001b[39m=\u001b[39;49m\u001b[39mself\u001b[39;49m\u001b[39m.\u001b[39;49moptions\u001b[39m.\u001b[39;49mget(\u001b[39m\"\u001b[39;49m\u001b[39mcompression\u001b[39;49m\u001b[39m\"\u001b[39;49m, \u001b[39mNone\u001b[39;49;00m),\n\u001b[0;32m   1666\u001b[0m     memory_map\u001b[39m=\u001b[39;49m\u001b[39mself\u001b[39;49m\u001b[39m.\u001b[39;49moptions\u001b[39m.\u001b[39;49mget(\u001b[39m\"\u001b[39;49m\u001b[39mmemory_map\u001b[39;49m\u001b[39m\"\u001b[39;49m, \u001b[39mFalse\u001b[39;49;00m),\n\u001b[0;32m   1667\u001b[0m     is_text\u001b[39m=\u001b[39;49mis_text,\n\u001b[0;32m   1668\u001b[0m     errors\u001b[39m=\u001b[39;49m\u001b[39mself\u001b[39;49m\u001b[39m.\u001b[39;49moptions\u001b[39m.\u001b[39;49mget(\u001b[39m\"\u001b[39;49m\u001b[39mencoding_errors\u001b[39;49m\u001b[39m\"\u001b[39;49m, \u001b[39m\"\u001b[39;49m\u001b[39mstrict\u001b[39;49m\u001b[39m\"\u001b[39;49m),\n\u001b[0;32m   1669\u001b[0m     storage_options\u001b[39m=\u001b[39;49m\u001b[39mself\u001b[39;49m\u001b[39m.\u001b[39;49moptions\u001b[39m.\u001b[39;49mget(\u001b[39m\"\u001b[39;49m\u001b[39mstorage_options\u001b[39;49m\u001b[39m\"\u001b[39;49m, \u001b[39mNone\u001b[39;49;00m),\n\u001b[0;32m   1670\u001b[0m )\n\u001b[0;32m   1671\u001b[0m \u001b[39massert\u001b[39;00m \u001b[39mself\u001b[39m\u001b[39m.\u001b[39mhandles \u001b[39mis\u001b[39;00m \u001b[39mnot\u001b[39;00m \u001b[39mNone\u001b[39;00m\n\u001b[0;32m   1672\u001b[0m f \u001b[39m=\u001b[39m \u001b[39mself\u001b[39m\u001b[39m.\u001b[39mhandles\u001b[39m.\u001b[39mhandle\n",
      "File \u001b[1;32mc:\\Users\\Raffaele\\AppData\\Local\\Programs\\Python\\Python39\\lib\\site-packages\\pandas\\io\\common.py:859\u001b[0m, in \u001b[0;36mget_handle\u001b[1;34m(path_or_buf, mode, encoding, compression, memory_map, is_text, errors, storage_options)\u001b[0m\n\u001b[0;32m    854\u001b[0m \u001b[39melif\u001b[39;00m \u001b[39misinstance\u001b[39m(handle, \u001b[39mstr\u001b[39m):\n\u001b[0;32m    855\u001b[0m     \u001b[39m# Check whether the filename is to be opened in binary mode.\u001b[39;00m\n\u001b[0;32m    856\u001b[0m     \u001b[39m# Binary mode does not support 'encoding' and 'newline'.\u001b[39;00m\n\u001b[0;32m    857\u001b[0m     \u001b[39mif\u001b[39;00m ioargs\u001b[39m.\u001b[39mencoding \u001b[39mand\u001b[39;00m \u001b[39m\"\u001b[39m\u001b[39mb\u001b[39m\u001b[39m\"\u001b[39m \u001b[39mnot\u001b[39;00m \u001b[39min\u001b[39;00m ioargs\u001b[39m.\u001b[39mmode:\n\u001b[0;32m    858\u001b[0m         \u001b[39m# Encoding\u001b[39;00m\n\u001b[1;32m--> 859\u001b[0m         handle \u001b[39m=\u001b[39m \u001b[39mopen\u001b[39;49m(\n\u001b[0;32m    860\u001b[0m             handle,\n\u001b[0;32m    861\u001b[0m             ioargs\u001b[39m.\u001b[39;49mmode,\n\u001b[0;32m    862\u001b[0m             encoding\u001b[39m=\u001b[39;49mioargs\u001b[39m.\u001b[39;49mencoding,\n\u001b[0;32m    863\u001b[0m             errors\u001b[39m=\u001b[39;49merrors,\n\u001b[0;32m    864\u001b[0m             newline\u001b[39m=\u001b[39;49m\u001b[39m\"\u001b[39;49m\u001b[39m\"\u001b[39;49m,\n\u001b[0;32m    865\u001b[0m         )\n\u001b[0;32m    866\u001b[0m     \u001b[39melse\u001b[39;00m:\n\u001b[0;32m    867\u001b[0m         \u001b[39m# Binary mode\u001b[39;00m\n\u001b[0;32m    868\u001b[0m         handle \u001b[39m=\u001b[39m \u001b[39mopen\u001b[39m(handle, ioargs\u001b[39m.\u001b[39mmode)\n",
      "\u001b[1;31mFileNotFoundError\u001b[0m: [Errno 2] No such file or directory: '../datasets/csv/farmacie_new.csv'"
     ]
    }
   ],
   "source": [
    "#Farmacie\n",
    "count = 0\n",
    "def addTriples(row):\n",
    "    global count\n",
    "    code = 'F'+f'{count:04}'\n",
    "    #sostituire con codice farmacia/parafarmacia piuttosto che nome \n",
    "    res = URIRef(urify(base_uri, code))\n",
    "    g.add([res, URIRef(RDF.type), URIRef(sso.Farmacia)])\n",
    "    g.add([res, sso.isIn, URIRef(urify(base_uri, row[2].title()))])\n",
    "\n",
    "    if(row[3] != 0):\n",
    "        g.add([res, sso.hasCap, Literal(row[3], datatype=XSD.integer) ])\n",
    "        \n",
    "    g.add([res, sso.hasAddress, Literal(row[4], datatype=XSD.string) ])\n",
    "    g.add([res, sso.hasName, Literal(row[5], datatype=XSD.string) ])\n",
    "\n",
    "    if(row[6] != 0 and row[7] != 0):\n",
    "        g.add([res, sso.hasLatitude, Literal(row[6], datatype=XSD.decimal) ])\n",
    "        g.add([res, sso.hasLongitude, Literal(row[7], datatype=XSD.decimal) ])\n",
    "    g.add([res, sso.hasVatNumber, Literal(row[8], datatype=XSD.integer) ])\n",
    "    count = count+1\n",
    "\n",
    "\n",
    "farmacie_df = pd.read_csv(\"../datasets/csv/farmacie_new.csv\")\n",
    "\n",
    "farmacie_df.apply(lambda row : addTriples(row), axis=1)"
   ]
  },
  {
   "cell_type": "code",
   "execution_count": null,
   "metadata": {},
   "outputs": [],
   "source": [
    "df_parafarmacie = pd.read_csv(\"../datasets/csv/completed/parafarmacie.csv\")\n",
    "df_parafarmacie[\"DENOMINAZIONESITOLOGISTICO\"].unique().size"
   ]
  },
  {
   "cell_type": "code",
   "execution_count": 11,
   "metadata": {},
   "outputs": [
    {
     "data": {
      "text/plain": [
       "0      None\n",
       "1      None\n",
       "2      None\n",
       "3      None\n",
       "4      None\n",
       "       ... \n",
       "752    None\n",
       "753    None\n",
       "754    None\n",
       "755    None\n",
       "756    None\n",
       "Length: 757, dtype: object"
      ]
     },
     "execution_count": 11,
     "metadata": {},
     "output_type": "execute_result"
    }
   ],
   "source": [
    "#Parafarmacie\n",
    "count = 0\n",
    "row_prev = pd.Series()\n",
    "\n",
    "def addBNodes(res, row):\n",
    "    bn = BNode()\n",
    "\n",
    "    g.add([res, sso.hasSite, bn])\n",
    "    g.add([bn, sso.hasAddress, Literal(row[1], datatype=XSD.string) ])\n",
    "   \n",
    "    if(row[3] != 0):\n",
    "        g.add([bn, sso.hasCap, Literal(row[3], datatype=XSD.integer) ])\n",
    "    g.add([bn, sso.isIn, URIRef(urify(base_uri, row[4].title()))])\n",
    "\n",
    "    if(row[7] != 0 and row[8] != 0):\n",
    "        g.add([bn, sso.hasLatitude, Literal(row[7], datatype=XSD.decimal) ])\n",
    "        g.add([bn, sso.hasLongitude, Literal(row[8], datatype=XSD.decimal) ])\n",
    "\n",
    "def addTriples(row):\n",
    "    global count, row_prev, count_if\n",
    "    code = 'PF'+f'{count:04}'\n",
    "\n",
    "    if row[0] == \"farmarisparmio\":\n",
    "        print(\"JKSJSKJ\")\n",
    "    \n",
    "    if not row_prev.empty:\n",
    "        if row_prev[0] == row[0]:\n",
    "            addBNodes(URIRef(urify(base_uri, code)), row)\n",
    "            return\n",
    "            \n",
    "    row_prev = pd.Series(row)\n",
    "\n",
    "    \n",
    "    \n",
    "    res = URIRef(urify(base_uri, code))\n",
    "    g.add([res, URIRef(RDF.type), URIRef(sso.Parafarmacia)])\n",
    "\n",
    "    g.add([res, sso.hasName, Literal(row[0], datatype=XSD.string) ])\n",
    "    g.add([res, sso.hasVatNumber, Literal(row[2], datatype=XSD.integer) ])\n",
    "\n",
    "    addBNodes(URIRef(urify(base_uri, code)), row)\n",
    "    count = count + 1\n",
    "\n",
    "parafarmacie_df = pd.read_csv(\"../datasets/csv/completed/parafarmacie.csv\")\n",
    "parafarmacie_df[\"LATITUDINE\"] = parafarmacie_df[\"LATITUDINE\"].apply(lambda x : float(x.replace(',', '.')) if x != '-' else 0.0)\n",
    "parafarmacie_df[\"LONGITUDINE\"] = parafarmacie_df[\"LONGITUDINE\"].apply(lambda x : float(x.replace(',', '.')) if x != '-' else 0.0)\n",
    "parafarmacie_df[\"PARTITAIVA\"] = parafarmacie_df[\"PARTITAIVA\"].apply(lambda x : x if x != '-' else 0)\n",
    "\n",
    "\n",
    "parafarmacie_df.apply(lambda row : addTriples(row), axis=1)\n",
    "\n",
    "            "
   ]
  },
  {
   "cell_type": "code",
   "execution_count": 12,
   "metadata": {},
   "outputs": [
    {
     "data": {
      "text/plain": [
       "<Graph identifier=N959ab07bd03e4ed7af75fcdad486ec73 (<class 'rdflib.graph.Graph'>)>"
      ]
     },
     "execution_count": 12,
     "metadata": {},
     "output_type": "execute_result"
    }
   ],
   "source": [
    "g.serialize(destination='../datasets/rdf/sanitasicilia.ttl', \n",
    "            format='turtle')"
   ]
  },
  {
   "cell_type": "code",
   "execution_count": null,
   "metadata": {},
   "outputs": [],
   "source": [
    "len(parafarmacie_df.index)"
   ]
  },
  {
   "cell_type": "code",
   "execution_count": null,
   "metadata": {},
   "outputs": [],
   "source": [
    "res = g.query('''SELECT (COUNT(?parafarmacia) AS ?cname) WHERE {?parafarmacia rdf:type sso:Parafarmacia .} ''')\n",
    "\n",
    "for i in res:\n",
    "    print(i)"
   ]
  },
  {
   "cell_type": "code",
   "execution_count": null,
   "metadata": {},
   "outputs": [],
   "source": [
    "#Strutture sanitarie private\n",
    "count = 0\n",
    "def addTriples(row):\n",
    "    global count\n",
    "    code = 'SPVT'+f'{count:04}'\n",
    "    #sostituire con codice struttura\n",
    "    res = URIRef(urify(base_uri, code))\n",
    "    g.add([res, URIRef(RDF.type), URIRef(sso.StrutturaPrivata)])\n",
    "\n",
    "    if(row[0] != 0):\n",
    "        g.add([res, sso.hasCap, Literal(row[0], datatype=XSD.integer) ])\n",
    "        \n",
    "    if(row[1] != 0 and row[2] != 0):\n",
    "        g.add([res, sso.hasLatitude, Literal(row[1], datatype=XSD.decimal) ])\n",
    "        g.add([res, sso.hasLongitude, Literal(row[2], datatype=XSD.decimal) ])\n",
    "    \n",
    "    g.add([res, sso.hasReferenceAsp, Literal(row[3], datatype=XSD.string)])\n",
    "\n",
    "    if(row[5] != ''):\n",
    "        g.add([res, sso.isIn, URIRef(urify(base_uri, row[5].title()))])\n",
    "\n",
    "    if(row[6] != 0):\n",
    "        g.add([res, sso.hasAddress, Literal(row[6], datatype=XSD.string) ])\n",
    "        \n",
    "    g.add([res, sso.hasName, Literal(row[7], datatype=XSD.string) ])\n",
    "    g.add([res, sso.businessType, Literal(row[8], datatype=XSD.string)])\n",
    "    g.add([res, sso.hasSiteType, Literal(row[9], datatype=XSD.string) ])\n",
    "    count = count + 1\n",
    "\n",
    "private_df = pd.read_csv(\"../datasets/csv/completed/private.csv\")\n",
    "private_df[\"Citta\\'\"] = private_df[\"Citta\\'\"].astype(str)\n",
    "private_df.apply(lambda row : addTriples(row), axis=1)\n"
   ]
  },
  {
   "cell_type": "code",
   "execution_count": null,
   "metadata": {},
   "outputs": [],
   "source": []
  },
  {
   "cell_type": "code",
   "execution_count": null,
   "metadata": {},
   "outputs": [],
   "source": [
    "#Strutture sanitarie pubbliche\n",
    "import math\n",
    "\n",
    "count = 0\n",
    "def addTriples(row):\n",
    "    global count\n",
    "    code = 'SPUB'+f'{count:04}'\n",
    "    res = URIRef(urify(base_uri, code))\n",
    "    g.add([res, URIRef(RDF.type), URIRef(sso.StrutturaPubblica)])\n",
    "\n",
    "    if(row[0] != ''):\n",
    "        g.add([res, sso.isIn, URIRef(urify(base_uri, row[0].title()))])\n",
    "\n",
    "    if(row[1] != 0 and row[2] != 0):\n",
    "        g.add([res, sso.hasLatitude, Literal(row[1], datatype=XSD.decimal) ])\n",
    "        g.add([res, sso.hasLongitude, Literal(row[2], datatype=XSD.decimal) ])\n",
    "   \n",
    "    g.add([res, sso.hasCap, Literal(row[3], datatype=XSD.integer) ])\n",
    "    g.add([res, sso.hasAddress, Literal(row[4], datatype=XSD.string)])\n",
    "    g.add([res, sso.hasName, Literal(row[5], datatype=XSD.string) ])\n",
    "    g.add([res, sso.businessType, Literal(row[7], datatype=XSD.string)])\n",
    "    g.add([res, sso.hasSiteType, Literal(row[8], datatype=XSD.string)])\n",
    "\n",
    "    if row[9] != '':\n",
    "        g.add([res, sso.isRecoveryStructure, Literal(True, datatype=XSD.boolean)])\n",
    "        g.add([res, sso.hasRecoveryStructureName, Literal(row[10], datatype=XSD.string)])\n",
    "    else:\n",
    "        g.add([res, sso.isRecoveryStructure, Literal(False, datatype=XSD.boolean)])\n",
    "\n",
    "    g.add([res, sso.workingMonths, Literal(row[10], datatype=XSD.integer)])\n",
    "    g.add([res, sso.openingDays, Literal(row[12], datatype=XSD.integer)])\n",
    "    g.add([res, sso.weeklyHours, Literal(row[13], datatype=XSD.integer)])\n",
    "    g.add([res, sso.hasVatNumber, Literal(row[14], datatype=XSD.integer)])\n",
    "    g.add([res, sso.hasEmail, Literal(row[15], datatype=XSD.string)])\n",
    "\n",
    "    if row[16] != '':\n",
    "        g.add([res, sso.hasWebsite, Literal(row[16], datatype=XSD.string)])\n",
    "   \n",
    "    if not math.isnan(row[17]):\n",
    "        g.add([res, sso.hasPhonePrefix, Literal(row[17], datatype=XSD.integer)])\n",
    "   \n",
    "    if not math.isnan(row[18]):\n",
    "        g.add([res, sso.hasPhoneNumber, Literal(row[18], datatype=XSD.integer)])\n",
    "    \n",
    "    if not math.isnan(row[19]):\n",
    "        g.add([res, sso.hasFaxPrefix, Literal(row[19], datatype=XSD.integer)])\n",
    "    \n",
    "    if not math.isnan(row[20]):\n",
    "        g.add([res, sso.hasFaxNumber, Literal(row[20], datatype=XSD.integer)])\n",
    "    \n",
    "    count = count + 1\n",
    "\n",
    "\n",
    "\n",
    "pubbliche_df = pd.read_csv(\"../datasets/csv/completed/pubbliche.csv\")\n",
    "\n",
    "pubbliche_df[\"Comune\"] = pubbliche_df[\"Comune\"].astype(str)\n",
    "pubbliche_df[\"Denominazione struttura di ricovero\"] = pubbliche_df[\"Denominazione struttura di ricovero\"].astype(str)\n",
    "pubbliche_df[\"Sito web\"] = pubbliche_df[\"Sito web\"].astype(str)\n",
    "\n",
    "pubbliche_df.apply(lambda row : addTriples(row), axis=1)\n",
    "\n",
    "g.serialize(destination='../datasets/rdf/sanitasicilia.ttl', \n",
    "            format='turtle')"
   ]
  },
  {
   "cell_type": "code",
   "execution_count": null,
   "metadata": {},
   "outputs": [],
   "source": [
    "res = g.query('''SELECT ?name \n",
    "                 WHERE \n",
    "                {\n",
    "                    ?struttura rdf:type sso:StrutturaPrivata .\n",
    "                    ?struttura sso:hasName ?name .\n",
    "                    ?struttura sso:isIn ?comune .\n",
    "                    ?comune sso:hasName ?nomeC .\n",
    "                    FILTER REGEX (?nomeC, \"Palermo\") .\n",
    "                }\n",
    " ''')\n"
   ]
  },
  {
   "cell_type": "code",
   "execution_count": null,
   "metadata": {},
   "outputs": [],
   "source": [
    "for i in res:\n",
    "    print(i)"
   ]
  }
 ],
 "metadata": {
  "kernelspec": {
   "display_name": "Python 3",
   "language": "python",
   "name": "python3"
  },
  "language_info": {
   "codemirror_mode": {
    "name": "ipython",
    "version": 3
   },
   "file_extension": ".py",
   "mimetype": "text/x-python",
   "name": "python",
   "nbconvert_exporter": "python",
   "pygments_lexer": "ipython3",
   "version": "3.9.7"
  },
  "orig_nbformat": 4
 },
 "nbformat": 4,
 "nbformat_minor": 2
}
