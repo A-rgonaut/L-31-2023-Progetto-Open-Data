{
 "cells": [
  {
   "cell_type": "code",
   "execution_count": 206,
   "metadata": {
    "ExecuteTime": {
     "end_time": "2023-06-15T13:03:22.639317600Z",
     "start_time": "2023-06-15T13:03:21.932654400Z"
    },
    "collapsed": true
   },
   "outputs": [
    {
     "data": {
      "text/plain": [
       "'Agrigento'"
      ]
     },
     "execution_count": 206,
     "metadata": {},
     "output_type": "execute_result"
    }
   ],
   "source": [
    "import time\n",
    "import re\n",
    "\n",
    "from geopy.geocoders import Nominatim\n",
    "\n",
    "geolocator = Nominatim(user_agent=\"My-app\")\n",
    "location = geolocator.geocode(\"VIALE DELLA VITTORIA N. 217 92100\")\n",
    "\n",
    "tmp=re.search('(\\w*), Sicilia', location.raw['display_name'],2)\n",
    "tmp[1]"
   ]
  },
  {
   "cell_type": "code",
   "execution_count": null,
   "metadata": {},
   "outputs": [],
   "source": [
    "from geopy.geocoders import Nominatim\n",
    "from geopy.extra.rate_limiter import RateLimiter\n",
    "from pathlib import Path\n",
    "import re\n",
    "import pandas as pd\n",
    "\n",
    "df_private = pd.read_csv(\"../datasets/disgrazia.csv\", delimiter=\";\")\n",
    "\n",
    "df_private.columns = df_private.columns.str.strip()\n",
    "\n",
    "geolocator = Nominatim(user_agent=\"andreaspin01@hotmail.it\")\n",
    "geocode = RateLimiter(geolocator.geocode, min_delay_seconds=1) #, min_delay_seconds=0.1\n",
    "\n",
    "LOC = []\n",
    "LAT = []\n",
    "LON = []\n",
    "\n",
    "df_private = df_private.astype({'Indirizzo':str,'Citta\\'':str})\n",
    "\n",
    "for via, citta in zip(df_private[\"Indirizzo\"], df_private[\"Citta\\'\"]):\n",
    "    via = via.lower().replace('a\\'', 'a').replace('e\\'', 'e').replace('i\\'', 'i').replace('o\\'', 'o').replace('u\\'', 'u')\n",
    "    citta = citta.lower().replace('a\\'', 'a').replace('e\\'', 'e').replace('i\\'', 'i').replace('o\\'', 'o').replace('u\\'', 'u')\n",
    "\n",
    "    location = geocode(via + \" \" + citta)\n",
    "\n",
    "    if(location is not None):\n",
    "        cap = re.search(r'\\d{5}',location.address)\n",
    "\n",
    "        if cap is not None:\n",
    "            LOC.append(cap.group())\n",
    "        else:\n",
    "            LOC.append(00000)\n",
    "\n",
    "        if location.latitude is not None:\n",
    "            LAT.append(location.latitude)\n",
    "        else:\n",
    "            LAT.append(0.0)\n",
    "\n",
    "        if location.longitude is not None:\n",
    "            LON.append(location.longitude)\n",
    "        else:\n",
    "            LON.append(0.0)\n",
    "            \n",
    "df_private.insert(loc=0, column='CAP', value=pd.Series(LOC))\n",
    "df_private.insert(loc=0, column='LONGITUDINE', value=pd.Series(LON))\n",
    "df_private.insert(loc=0, column='LATITUDINE', value=pd.Series(LAT))\n",
    "\n",
    "filepath = Path('../datasets/private3.csv')\n",
    "df_private.to_csv(filepath, index=False)"
   ]
  },
  {
   "cell_type": "code",
   "execution_count": null,
   "metadata": {},
   "outputs": [],
   "source": [
    "from geopy.geocoders import Nominatim\n",
    "from geopy.extra.rate_limiter import RateLimiter\n",
    "from pathlib import Path\n",
    "import re\n",
    "\n",
    "geolocator = Nominatim(user_agent=\"stv_project\")\n",
    "geocode = RateLimiter(geolocator.geocode) #, min_delay_seconds=0.1\n",
    "\n",
    "COM = []\n",
    "LAT = []\n",
    "LON = []\n",
    "\n",
    "for via, cap in zip(df_pubbliche[\"Indirizzo\"], df_pubbliche[\"CAP\"]):\n",
    "\n",
    "    location = geocode(via + \" \" + str(cap))\n",
    "\n",
    "    if(location is not None):\n",
    "        comune = re.search(r'(\\w*), Sicilia', location.address)\n",
    "\n",
    "        if comune is not None:\n",
    "            COM.append(comune[1])\n",
    "        else:\n",
    "            COM.append('######')\n",
    "\n",
    "        if location.latitude is not None:\n",
    "            LAT.append(location.latitude)\n",
    "        else:\n",
    "            LAT.append(0.0)\n",
    "\n",
    "        if location.longitude is not None:\n",
    "            LON.append(location.longitude)\n",
    "        else:\n",
    "            LON.append(0.0)\n",
    "            \n",
    "df_pubbliche.insert(loc=0, column='COMUNE', value=pd.Series(COM))\n",
    "df_pubbliche.insert(loc=0, column='LONGITUDINE', value=pd.Series(LON))\n",
    "df_pubbliche.insert(loc=0, column='LATITUDINE', value=pd.Series(LAT))\n",
    "\n",
    "filepath = Path('../datasets/pubbliche.csv')\n",
    "df_pubbliche.to_csv(filepath, index=False)"
   ]
  }
 ],
 "metadata": {
  "kernelspec": {
   "display_name": "Python 3",
   "language": "python",
   "name": "python3"
  },
  "language_info": {
   "codemirror_mode": {
    "name": "ipython",
    "version": 2
   },
   "file_extension": ".py",
   "mimetype": "text/x-python",
   "name": "python",
   "nbconvert_exporter": "python",
   "pygments_lexer": "ipython2",
   "version": "3.11.4"
  }
 },
 "nbformat": 4,
 "nbformat_minor": 0
}
