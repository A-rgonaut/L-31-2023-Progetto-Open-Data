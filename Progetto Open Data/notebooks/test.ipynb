{
 "cells": [
  {
   "cell_type": "code",
   "execution_count": 6,
   "outputs": [],
   "source": [
    "from OSMPythonTools.nominatim import Nominatim\n",
    "from pathlib import Path\n",
    "import pandas as pd\n",
    "import re\n",
    "\n",
    "\n",
    "df = pd.read_csv(\"../datasets/Faramacie_temp.csv\", sep=\";\")\n",
    "nominatim = Nominatim()\n",
    "results = []\n",
    "\n",
    "\n",
    "LAT = []\n",
    "LON = []\n",
    "\n",
    "for via, citta in zip(df[\"INDIRIZZO\"], df[\"DESCRIZIONECOMUNE\"]):\n",
    "\n",
    "    via = str(via).lower().replace('a\\'', 'a').replace('e\\'', 'e').replace('i\\'', 'i').replace('o\\'', 'o').replace('u\\'', 'u')\n",
    "    citta = str(citta).lower().replace('a\\'', 'a').replace('e\\'', 'e').replace('i\\'', 'i').replace('o\\'', 'o').replace('u\\'', 'u')\n",
    "\n",
    "    res = nominatim.query(via + \",\" + citta)\n",
    "    results.append(res)\n",
    "\n",
    "for item in results:\n",
    "    tmp = item.toJSON()\n",
    "    if len(tmp) != 0:\n",
    "        LAT.append(tmp[0]['lat'])\n",
    "        LON.append(tmp[0]['lon'])\n",
    "    else:\n",
    "        LAT.append(0.0)\n",
    "        LON.append(0.0)\n",
    "\n",
    "df[\"LONGITUDINE\"] = pd.Series(LON)\n",
    "df[\"LATITUDINE\"] = pd.Series(LAT)\n",
    "#df.insert(loc=0, column='LONGITUDINE', value=pd.Series(LON))\n",
    "#df.insert(loc=0, column='LATITUDINE', value=pd.Series(LAT))\n",
    "\n",
    "filepath = Path('../datasets/out.csv')\n",
    "df.to_csv(filepath, index=False)"
   ],
   "metadata": {
    "collapsed": false,
    "ExecuteTime": {
     "end_time": "2023-06-18T08:57:21.098454800Z",
     "start_time": "2023-06-18T08:57:21.033453500Z"
    }
   }
  },
  {
   "cell_type": "code",
   "execution_count": 1,
   "outputs": [],
   "source": [
    "import pandas as pd\n",
    "from pathlib import Path\n",
    "df_faracie = pd.read_csv(\"../datasets/completed/farmacie - Copy.csv\", sep=\";\")\n",
    "df_faracie[\"LATITUDINE\"] = df_faracie[\"LATITUDINE\"].apply(lambda x : float(x.replace(',', '.')) if x != '-' else 0.0)\n",
    "df_faracie[\"LONGITUDINE\"] = df_faracie[\"LONGITUDINE\"].apply(lambda x : float(x.replace(',', '.')) if x != '-' else 0.0)\n",
    "df_faracie[\"PARTITAIVA\"] = df_faracie[\"PARTITAIVA\"].apply(lambda x : x if x != \"-\" else 0)\n",
    "df_faracie[\"INDIRIZZO\"] = df_faracie[\"INDIRIZZO\"].apply(lambda x : x.replace('\"', ''))\n",
    "filepath = Path('../datasets/completed/farmacie.csv')\n",
    "df_faracie.to_csv(filepath, index=False,sep=\";\")"
   ],
   "metadata": {
    "collapsed": false,
    "ExecuteTime": {
     "end_time": "2023-06-18T10:50:37.712492800Z",
     "start_time": "2023-06-18T10:50:37.284990600Z"
    }
   }
  },
  {
   "cell_type": "code",
   "execution_count": 2,
   "outputs": [
    {
     "data": {
      "text/plain": "SIGLAPROVINCIA           object\nDESCRIZIONEPROVINCIA     object\nDESCRIZIONECOMUNE        object\nCAP                       int64\nINDIRIZZO                object\nDESCRIZIONEFARMACIA      object\nLATITUDINE              float64\nLONGITUDINE             float64\nPARTITAIVA                int64\ndtype: object"
     },
     "execution_count": 2,
     "metadata": {},
     "output_type": "execute_result"
    }
   ],
   "source": [
    "import numpy as np\n",
    "import pandas as pd\n",
    "df_faracie = pd.read_csv(\"../datasets/completed/farmacie.csv\", sep=\";\")\n",
    "df_faracie.convert_dtypes()\n",
    "df_faracie.dtypes"
   ],
   "metadata": {
    "collapsed": false,
    "ExecuteTime": {
     "end_time": "2023-06-18T10:28:25.735684500Z",
     "start_time": "2023-06-18T10:28:25.694156900Z"
    }
   }
  },
  {
   "cell_type": "code",
   "execution_count": 2,
   "outputs": [
    {
     "data": {
      "text/plain": "SIGLAPROVINCIA           object\nDESCRIZIONEPROVINCIA     object\nDESCRIZIONECOMUNE        object\nCAP                       int64\nINDIRIZZO                object\nDESCRIZIONEFARMACIA      object\nLATITUDINE              float64\nLONGITUDINE             float64\nPARTITAIVA                int64\ndtype: object"
     },
     "execution_count": 2,
     "metadata": {},
     "output_type": "execute_result"
    }
   ],
   "source": [
    "df = pd.read_csv(\"../datasets/out.csv\")\n",
    "df.dtypes"
   ],
   "metadata": {
    "collapsed": false,
    "ExecuteTime": {
     "end_time": "2023-06-18T10:16:51.716946400Z",
     "start_time": "2023-06-18T10:16:51.689945600Z"
    }
   }
  },
  {
   "cell_type": "code",
   "execution_count": 1,
   "outputs": [
    {
     "data": {
      "text/plain": "     SIGLAPROVINCIA DESCRIZIONEPROVINCIA     DESCRIZIONECOMUNE    CAP  \\\n0                PA              PALERMO               PALERMO  90135   \n1                AG            AGRIGENTO             AGRIGENTO  92100   \n2                AG            AGRIGENTO             AGRIGENTO  92100   \n3                AG            AGRIGENTO             AGRIGENTO  92100   \n4                AG            AGRIGENTO             AGRIGENTO  92100   \n...             ...                  ...                   ...    ...   \n1830             PA              PALERMO         SAN CIPIRELLO  90040   \n1831             PA              PALERMO               PALERMO  90136   \n1832             PA              PALERMO                CARINI  90044   \n1833             RG               RAGUSA  SANTA CROCE CAMERINA  97017   \n1834             RG               RAGUSA                COMISO  97013   \n\n                         INDIRIZZO  \\\n0       Via EUGENIO L'EMIRO, 34/36   \n1                Via Empedocle, 71   \n2        Via Leonardo Sciascia, 28   \n3       Via Alessandro Manzoni, 28   \n4                  Via Gioeni, 159   \n...                            ...   \n1830  Piazzale VITTORIO VENETO, 12   \n1831      Via Alla Falconara, 50 b   \n1832            Via Aldo Moro, 142   \n1833    Corso OCEANO ATLANTICO, 43   \n1834      Via LEONARDO SCIASCIA, 9   \n\n                                    DESCRIZIONEFARMACIA  LATITUDINE  \\\n0                                             VERGA SRL   45.758034   \n1                                        AVERNA ANTONIO   37.310958   \n2     CAMILLERI DELLE DR.SSE ANNACAMILLERI E DANIELA...   37.273686   \n3                                        NUARA MARCELLA   37.308149   \n4                                     ROMANO GIUSEPPINA   37.314372   \n...                                                 ...         ...   \n1830                           FARMACIA VITTORIO VENETO   37.961505   \n1831                                 Farmacia Baida srl   38.117315   \n1832                                FARMACIA PONTICELLI   38.137584   \n1833                           FARMACIA DEL MARE S.N.C.   36.786363   \n1834                                   FARMACIA SPATARO   36.968857   \n\n      LONGITUDINE  PARTITAIVA  \n0        8.376776  6654320826  \n1       13.581285   141720847  \n2       13.617993  2366000848  \n3       13.580227  1528440843  \n4       13.581471  1800710848  \n...           ...         ...  \n1830    13.180036  7050620827  \n1831    13.292333  6996590821  \n1832    13.169835  7091220827  \n1833    14.522794  1800730887  \n1834    14.613545  1806260889  \n\n[1835 rows x 9 columns]",
      "text/html": "<div>\n<style scoped>\n    .dataframe tbody tr th:only-of-type {\n        vertical-align: middle;\n    }\n\n    .dataframe tbody tr th {\n        vertical-align: top;\n    }\n\n    .dataframe thead th {\n        text-align: right;\n    }\n</style>\n<table border=\"1\" class=\"dataframe\">\n  <thead>\n    <tr style=\"text-align: right;\">\n      <th></th>\n      <th>SIGLAPROVINCIA</th>\n      <th>DESCRIZIONEPROVINCIA</th>\n      <th>DESCRIZIONECOMUNE</th>\n      <th>CAP</th>\n      <th>INDIRIZZO</th>\n      <th>DESCRIZIONEFARMACIA</th>\n      <th>LATITUDINE</th>\n      <th>LONGITUDINE</th>\n      <th>PARTITAIVA</th>\n    </tr>\n  </thead>\n  <tbody>\n    <tr>\n      <th>0</th>\n      <td>PA</td>\n      <td>PALERMO</td>\n      <td>PALERMO</td>\n      <td>90135</td>\n      <td>Via EUGENIO L'EMIRO, 34/36</td>\n      <td>VERGA SRL</td>\n      <td>45.758034</td>\n      <td>8.376776</td>\n      <td>6654320826</td>\n    </tr>\n    <tr>\n      <th>1</th>\n      <td>AG</td>\n      <td>AGRIGENTO</td>\n      <td>AGRIGENTO</td>\n      <td>92100</td>\n      <td>Via Empedocle, 71</td>\n      <td>AVERNA ANTONIO</td>\n      <td>37.310958</td>\n      <td>13.581285</td>\n      <td>141720847</td>\n    </tr>\n    <tr>\n      <th>2</th>\n      <td>AG</td>\n      <td>AGRIGENTO</td>\n      <td>AGRIGENTO</td>\n      <td>92100</td>\n      <td>Via Leonardo Sciascia, 28</td>\n      <td>CAMILLERI DELLE DR.SSE ANNACAMILLERI E DANIELA...</td>\n      <td>37.273686</td>\n      <td>13.617993</td>\n      <td>2366000848</td>\n    </tr>\n    <tr>\n      <th>3</th>\n      <td>AG</td>\n      <td>AGRIGENTO</td>\n      <td>AGRIGENTO</td>\n      <td>92100</td>\n      <td>Via Alessandro Manzoni, 28</td>\n      <td>NUARA MARCELLA</td>\n      <td>37.308149</td>\n      <td>13.580227</td>\n      <td>1528440843</td>\n    </tr>\n    <tr>\n      <th>4</th>\n      <td>AG</td>\n      <td>AGRIGENTO</td>\n      <td>AGRIGENTO</td>\n      <td>92100</td>\n      <td>Via Gioeni, 159</td>\n      <td>ROMANO GIUSEPPINA</td>\n      <td>37.314372</td>\n      <td>13.581471</td>\n      <td>1800710848</td>\n    </tr>\n    <tr>\n      <th>...</th>\n      <td>...</td>\n      <td>...</td>\n      <td>...</td>\n      <td>...</td>\n      <td>...</td>\n      <td>...</td>\n      <td>...</td>\n      <td>...</td>\n      <td>...</td>\n    </tr>\n    <tr>\n      <th>1830</th>\n      <td>PA</td>\n      <td>PALERMO</td>\n      <td>SAN CIPIRELLO</td>\n      <td>90040</td>\n      <td>Piazzale VITTORIO VENETO, 12</td>\n      <td>FARMACIA VITTORIO VENETO</td>\n      <td>37.961505</td>\n      <td>13.180036</td>\n      <td>7050620827</td>\n    </tr>\n    <tr>\n      <th>1831</th>\n      <td>PA</td>\n      <td>PALERMO</td>\n      <td>PALERMO</td>\n      <td>90136</td>\n      <td>Via Alla Falconara, 50 b</td>\n      <td>Farmacia Baida srl</td>\n      <td>38.117315</td>\n      <td>13.292333</td>\n      <td>6996590821</td>\n    </tr>\n    <tr>\n      <th>1832</th>\n      <td>PA</td>\n      <td>PALERMO</td>\n      <td>CARINI</td>\n      <td>90044</td>\n      <td>Via Aldo Moro, 142</td>\n      <td>FARMACIA PONTICELLI</td>\n      <td>38.137584</td>\n      <td>13.169835</td>\n      <td>7091220827</td>\n    </tr>\n    <tr>\n      <th>1833</th>\n      <td>RG</td>\n      <td>RAGUSA</td>\n      <td>SANTA CROCE CAMERINA</td>\n      <td>97017</td>\n      <td>Corso OCEANO ATLANTICO, 43</td>\n      <td>FARMACIA DEL MARE S.N.C.</td>\n      <td>36.786363</td>\n      <td>14.522794</td>\n      <td>1800730887</td>\n    </tr>\n    <tr>\n      <th>1834</th>\n      <td>RG</td>\n      <td>RAGUSA</td>\n      <td>COMISO</td>\n      <td>97013</td>\n      <td>Via LEONARDO SCIASCIA, 9</td>\n      <td>FARMACIA SPATARO</td>\n      <td>36.968857</td>\n      <td>14.613545</td>\n      <td>1806260889</td>\n    </tr>\n  </tbody>\n</table>\n<p>1835 rows × 9 columns</p>\n</div>"
     },
     "execution_count": 1,
     "metadata": {},
     "output_type": "execute_result"
    }
   ],
   "source": [
    "import pandas as pd\n",
    "from pathlib import Path\n",
    "df_faracie = pd.read_csv(\"../datasets/completed/farmacie.csv\", sep=\";\")\n",
    "df = pd.read_csv(\"../datasets/out.csv\")\n",
    "df_finale = pd.concat([df_faracie,df], ignore_index=True)\n",
    "df_finale"
   ],
   "metadata": {
    "collapsed": false,
    "ExecuteTime": {
     "end_time": "2023-06-18T10:41:24.928087100Z",
     "start_time": "2023-06-18T10:41:24.499978700Z"
    }
   }
  },
  {
   "cell_type": "code",
   "execution_count": 2,
   "outputs": [],
   "source": [
    "filepath = Path('../datasets/out.csv')\n",
    "df_finale.to_csv(filepath, index=False)"
   ],
   "metadata": {
    "collapsed": false,
    "ExecuteTime": {
     "end_time": "2023-06-18T10:41:39.210174Z",
     "start_time": "2023-06-18T10:41:39.182678Z"
    }
   }
  },
  {
   "cell_type": "code",
   "execution_count": null,
   "outputs": [],
   "source": [],
   "metadata": {
    "collapsed": false
   }
  }
 ],
 "metadata": {
  "kernelspec": {
   "display_name": "Python 3",
   "language": "python",
   "name": "python3"
  },
  "language_info": {
   "codemirror_mode": {
    "name": "ipython",
    "version": 2
   },
   "file_extension": ".py",
   "mimetype": "text/x-python",
   "name": "python",
   "nbconvert_exporter": "python",
   "pygments_lexer": "ipython2",
   "version": "3.11.4"
  }
 },
 "nbformat": 4,
 "nbformat_minor": 0
}
