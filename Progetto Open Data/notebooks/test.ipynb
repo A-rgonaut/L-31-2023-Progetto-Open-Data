{
 "cells": [
  {
   "cell_type": "code",
   "execution_count": null,
   "metadata": {
    "ExecuteTime": {
     "end_time": "2023-06-18T11:30:32.798460300Z",
     "start_time": "2023-06-18T11:30:32.257191300Z"
    },
    "collapsed": false
   },
   "outputs": [],
   "source": [
    "from OSMPythonTools.nominatim import Nominatim\n",
    "from pathlib import Path\n",
    "import pandas as pd\n",
    "import re\n",
    "\n",
    "df = pd.read_csv(\"../datasets/Faramacie_temp.csv\", sep=\";\")\n",
    "nominatim = Nominatim()\n",
    "results = []\n",
    "\n",
    "LAT = []\n",
    "LON = []\n",
    "\n",
    "for via, citta in zip(df[\"INDIRIZZO\"], df[\"DESCRIZIONECOMUNE\"]):\n",
    "\n",
    "    via = str(via).lower().replace('a\\'', 'a').replace('e\\'', 'e').replace('i\\'', 'i').replace('o\\'', 'o').replace('u\\'', 'u')\n",
    "    citta = str(citta).lower().replace('a\\'', 'a').replace('e\\'', 'e').replace('i\\'', 'i').replace('o\\'', 'o').replace('u\\'', 'u')\n",
    "\n",
    "    res = nominatim.query(via + \",\" + citta)\n",
    "    results.append(res)\n",
    "\n",
    "for item in results:\n",
    "    tmp = item.toJSON()\n",
    "    if len(tmp) != 0:\n",
    "        LAT.append(tmp[0]['lat'])\n",
    "        LON.append(tmp[0]['lon'])\n",
    "    else:\n",
    "        LAT.append(0.0)\n",
    "        LON.append(0.0)\n",
    "\n",
    "df[\"LONGITUDINE\"] = pd.Series(LON)\n",
    "df[\"LATITUDINE\"] = pd.Series(LAT)\n",
    "#df.insert(loc=0, column='LONGITUDINE', value=pd.Series(LON))\n",
    "#df.insert(loc=0, column='LATITUDINE', value=pd.Series(LAT))\n",
    "\n",
    "filepath = Path('../datasets/out.csv')\n",
    "df.to_csv(filepath, index=False)"
   ]
  },
  {
   "cell_type": "code",
   "execution_count": null,
   "metadata": {
    "ExecuteTime": {
     "end_time": "2023-06-18T10:50:37.712492800Z",
     "start_time": "2023-06-18T10:50:37.284990600Z"
    },
    "collapsed": false
   },
   "outputs": [],
   "source": [
    "import pandas as pd\n",
    "from pathlib import Path\n",
    "farmacie = pd.read_csv(\"../datasets/pivoted/farmacie.csv\", sep=\";\")\n",
    "farmacie[\"LATITUDINE\"] = farmacie[\"LATITUDINE\"].apply(lambda x : float(x.replace(',', '.')) if x != '-' else 0.0)\n",
    "farmacie[\"LONGITUDINE\"] = farmacie[\"LONGITUDINE\"].apply(lambda x : float(x.replace(',', '.')) if x != '-' else 0.0)\n",
    "farmacie[\"PARTITAIVA\"] = farmacie[\"PARTITAIVA\"].apply(lambda x : x if x != \"-\" else 0)\n",
    "farmacie[\"INDIRIZZO\"] = farmacie[\"INDIRIZZO\"].apply(lambda x : x.replace('\"', ''))\n",
    "filepath = Path('../datasets/completed/farmacie.csv')\n",
    "farmacie.to_csv(filepath, index=False,sep=\";\")"
   ]
  },
  {
   "cell_type": "code",
   "execution_count": null,
   "metadata": {
    "ExecuteTime": {
     "end_time": "2023-06-18T11:30:48.865610400Z",
     "start_time": "2023-06-18T11:30:48.842315800Z"
    },
    "collapsed": false
   },
   "outputs": [],
   "source": [
    "import numpy as np\n",
    "import pandas as pd\n",
    "farmacie = pd.read_csv(\"../datasets/completed/farmacie.csv\", sep=\";\")\n",
    "farmacie.convert_dtypes()\n",
    "farmacie.dtypes"
   ]
  },
  {
   "cell_type": "code",
   "execution_count": null,
   "metadata": {
    "ExecuteTime": {
     "end_time": "2023-06-18T11:30:51.059386200Z",
     "start_time": "2023-06-18T11:30:51.024886600Z"
    },
    "collapsed": false
   },
   "outputs": [],
   "source": [
    "df = pd.read_csv(\"../datasets/out.csv\")\n",
    "df.dtypes\n",
    "print(df.head())"
   ]
  },
  {
   "cell_type": "code",
   "execution_count": null,
   "metadata": {
    "ExecuteTime": {
     "end_time": "2023-06-18T11:43:36.865708400Z",
     "start_time": "2023-06-18T11:43:36.820641Z"
    },
    "collapsed": false
   },
   "outputs": [],
   "source": [
    "import pandas as pd\n",
    "from pathlib import Path\n",
    "farmacie = pd.read_csv(\"../datasets/completed/farmacie.csv\", sep=\";\")\n",
    "farmacie = farmacie.drop(farmacie.loc[1484:].index)\n",
    "\n",
    "print(farmacie.head())\n",
    "df = pd.read_csv(\"../datasets/out.csv\")\n",
    "df_finale = pd.merge(farmacie,df,how=\"outer\")\n"
   ]
  },
  {
   "cell_type": "code",
   "execution_count": null,
   "metadata": {
    "ExecuteTime": {
     "end_time": "2023-06-18T11:44:58.871984500Z",
     "start_time": "2023-06-18T11:44:58.827484400Z"
    },
    "collapsed": false
   },
   "outputs": [],
   "source": [
    "filepath = Path('../datasets/farmacie_new.csv')\n",
    "df_finale.to_csv(filepath, index=False)"
   ]
  },
  {
   "cell_type": "code",
   "execution_count": null,
   "metadata": {},
   "outputs": [],
   "source": []
  },
  {
   "cell_type": "code",
   "execution_count": null,
   "metadata": {
    "collapsed": false
   },
   "outputs": [],
   "source": [
    "from OSMPythonTools.nominatim import Nominatim\n",
    "from pathlib import Path\n",
    "import pandas as pd\n",
    "import re\n",
    "\n",
    "farm = pd.read_csv(\"56.csv\", on_bad_lines=\"skip\", delimiter=\",\", encoding=\"utf-8\")\n",
    "farm.columns = farm.columns.str.strip()\n",
    "\n",
    "nominatim = Nominatim()\n",
    "results = []\n",
    "\n",
    "LAT = []\n",
    "LON = []\n",
    "\n",
    "for via, cap in zip(farm[\"INDIRIZZO\"], farm[\"CAP\"]):\n",
    "\n",
    "    via = str(via).lower().replace('a\\'', 'a').replace('e\\'', 'e').replace('i\\'', 'i').replace('o\\'', 'o').replace('u\\'', 'u')\n",
    "    cap = str(cap).lower().replace('a\\'', 'a').replace('e\\'', 'e').replace('i\\'', 'i').replace('o\\'', 'o').replace('u\\'', 'u')\n",
    "\n",
    "    res = nominatim.query(via + \" \" + cap)\n",
    "    results.append(res)\n",
    "\n",
    "for item in results:\n",
    "    tmp = item.toJSON()\n",
    "    if len(tmp) != 0:\n",
    "        LAT.append(tmp[0]['lat'])\n",
    "        LON.append(tmp[0]['lon'])\n",
    "    else:\n",
    "        LAT.append(0.0)\n",
    "        LON.append(0.0)\n",
    "            \n",
    "farm.insert(loc=0, column='lat', value=pd.Series(LAT))\n",
    "farm.insert(loc=0, column='long', value=pd.Series(LON))\n",
    "\n",
    "filepath = Path('farmacie2.csv')\n",
    "farm.to_csv(filepath, index=False)"
   ]
  }
 ],
 "metadata": {
  "kernelspec": {
   "display_name": "Python 3",
   "language": "python",
   "name": "python3"
  },
  "language_info": {
   "codemirror_mode": {
    "name": "ipython",
    "version": 3
   },
   "file_extension": ".py",
   "mimetype": "text/x-python",
   "name": "python",
   "nbconvert_exporter": "python",
   "pygments_lexer": "ipython3",
   "version": "3.11.4"
  }
 },
 "nbformat": 4,
 "nbformat_minor": 0
}
