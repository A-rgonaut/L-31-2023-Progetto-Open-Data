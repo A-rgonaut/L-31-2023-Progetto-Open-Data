{
 "cells": [
  {
   "cell_type": "code",
   "execution_count": 13,
   "metadata": {
    "ExecuteTime": {
     "end_time": "2023-06-18T11:30:32.798460300Z",
     "start_time": "2023-06-18T11:30:32.257191300Z"
    },
    "collapsed": false
   },
   "outputs": [
    {
     "name": "stderr",
     "output_type": "stream",
     "text": [
      "[nominatim] downloading data: search\n"
     ]
    }
   ],
   "source": [
    "from OSMPythonTools.nominatim import Nominatim\n",
    "from pathlib import Path\n",
    "import pandas as pd\n",
    "import re\n",
    "\n",
    "df = pd.read_csv(\"../datasets/Faramacie_temp.csv\", sep=\";\")\n",
    "nominatim = Nominatim()\n",
    "results = []\n",
    "\n",
    "LAT = []\n",
    "LON = []\n",
    "\n",
    "for via, citta in zip(df[\"INDIRIZZO\"], df[\"DESCRIZIONECOMUNE\"]):\n",
    "\n",
    "    via = str(via).lower().replace('a\\'', 'a').replace('e\\'', 'e').replace('i\\'', 'i').replace('o\\'', 'o').replace('u\\'', 'u')\n",
    "    citta = str(citta).lower().replace('a\\'', 'a').replace('e\\'', 'e').replace('i\\'', 'i').replace('o\\'', 'o').replace('u\\'', 'u')\n",
    "\n",
    "    res = nominatim.query(via + \",\" + citta)\n",
    "    results.append(res)\n",
    "\n",
    "for item in results:\n",
    "    tmp = item.toJSON()\n",
    "    if len(tmp) != 0:\n",
    "        LAT.append(tmp[0]['lat'])\n",
    "        LON.append(tmp[0]['lon'])\n",
    "    else:\n",
    "        LAT.append(0.0)\n",
    "        LON.append(0.0)\n",
    "\n",
    "df[\"LONGITUDINE\"] = pd.Series(LON)\n",
    "df[\"LATITUDINE\"] = pd.Series(LAT)\n",
    "#df.insert(loc=0, column='LONGITUDINE', value=pd.Series(LON))\n",
    "#df.insert(loc=0, column='LATITUDINE', value=pd.Series(LAT))\n",
    "\n",
    "filepath = Path('../datasets/out.csv')\n",
    "df.to_csv(filepath, index=False)"
   ]
  },
  {
   "cell_type": "code",
   "execution_count": 14,
   "metadata": {
    "ExecuteTime": {
     "end_time": "2023-06-18T10:50:37.712492800Z",
     "start_time": "2023-06-18T10:50:37.284990600Z"
    },
    "collapsed": false
   },
   "outputs": [],
   "source": [
    "import pandas as pd\n",
    "from pathlib import Path\n",
    "farmacie = pd.read_csv(\"../datasets/pivoted/farmacie.csv\", sep=\";\")\n",
    "farmacie[\"LATITUDINE\"] = farmacie[\"LATITUDINE\"].apply(lambda x : float(x.replace(',', '.')) if x != '-' else 0.0)\n",
    "farmacie[\"LONGITUDINE\"] = farmacie[\"LONGITUDINE\"].apply(lambda x : float(x.replace(',', '.')) if x != '-' else 0.0)\n",
    "farmacie[\"PARTITAIVA\"] = farmacie[\"PARTITAIVA\"].apply(lambda x : x if x != \"-\" else 0)\n",
    "farmacie[\"INDIRIZZO\"] = farmacie[\"INDIRIZZO\"].apply(lambda x : x.replace('\"', ''))\n",
    "filepath = Path('../datasets/completed/farmacie.csv')\n",
    "farmacie.to_csv(filepath, index=False,sep=\";\")"
   ]
  },
  {
   "cell_type": "code",
   "execution_count": 15,
   "metadata": {
    "ExecuteTime": {
     "end_time": "2023-06-18T11:30:48.865610400Z",
     "start_time": "2023-06-18T11:30:48.842315800Z"
    },
    "collapsed": false
   },
   "outputs": [
    {
     "data": {
      "text/plain": [
       "SIGLAPROVINCIA           object\n",
       "DESCRIZIONEPROVINCIA     object\n",
       "DESCRIZIONECOMUNE        object\n",
       "CAP                       int64\n",
       "INDIRIZZO                object\n",
       "DESCRIZIONEFARMACIA      object\n",
       "LATITUDINE              float64\n",
       "LONGITUDINE             float64\n",
       "PARTITAIVA                int64\n",
       "dtype: object"
      ]
     },
     "execution_count": 15,
     "metadata": {},
     "output_type": "execute_result"
    }
   ],
   "source": [
    "import numpy as np\n",
    "import pandas as pd\n",
    "farmacie = pd.read_csv(\"../datasets/completed/farmacie.csv\", sep=\";\")\n",
    "farmacie.convert_dtypes()\n",
    "farmacie.dtypes"
   ]
  },
  {
   "cell_type": "code",
   "execution_count": 19,
   "metadata": {
    "ExecuteTime": {
     "end_time": "2023-06-18T11:30:51.059386200Z",
     "start_time": "2023-06-18T11:30:51.024886600Z"
    },
    "collapsed": false
   },
   "outputs": [
    {
     "name": "stdout",
     "output_type": "stream",
     "text": [
      "  SIGLAPROVINCIA DESCRIZIONEPROVINCIA        DESCRIZIONECOMUNE    CAP  \\\n",
      "0             RG               RAGUSA                   RAGUSA  97010   \n",
      "1             TP              TRAPANI  CASTELLAMMARE DEL GOLFO  91014   \n",
      "2             RG               RAGUSA                 VITTORIA  97019   \n",
      "3             SR             SIRACUSA                 FLORIDIA  94014   \n",
      "4             CT              CATANIA                  SCORDIA  95048   \n",
      "\n",
      "                           INDIRIZZO  \\\n",
      "0                   Via Pozzallo, 99   \n",
      "1                 Corso Garibaldi 18   \n",
      "2             Stradale Scoglitti, 66   \n",
      "3           Viale Vittorio Veneto 15   \n",
      "4  Via Tenente De Cristofaro N.37/39   \n",
      "\n",
      "                                 DESCRIZIONEFARMACIA  LATITUDINE  LONGITUDINE  \\\n",
      "0  FARMACIE DOTT. SCHEMBARI GIORGIO E LUCIO RIUNI...   36.785224    14.555302   \n",
      "1                         Farmacia Del Centro S.r.l.   38.020555    12.881009   \n",
      "2                                  Farmacia Vittoria    0.000000     0.000000   \n",
      "3                               Farmacia Santa Lucia   37.080334    15.158429   \n",
      "4                             Farmacia San Rocco Snc    0.000000     0.000000   \n",
      "\n",
      "   PARTITAIVA  \n",
      "0  1447260884  \n",
      "1  2669190817  \n",
      "2  1674990880  \n",
      "3  4281130403  \n",
      "4  5491510870  \n"
     ]
    }
   ],
   "source": [
    "df = pd.read_csv(\"../datasets/out.csv\")\n",
    "df.dtypes\n",
    "print(df.head())"
   ]
  },
  {
   "cell_type": "code",
   "execution_count": 20,
   "metadata": {
    "ExecuteTime": {
     "end_time": "2023-06-18T11:43:36.865708400Z",
     "start_time": "2023-06-18T11:43:36.820641Z"
    },
    "collapsed": false
   },
   "outputs": [
    {
     "name": "stdout",
     "output_type": "stream",
     "text": [
      "  SIGLAPROVINCIA DESCRIZIONEPROVINCIA DESCRIZIONECOMUNE    CAP  \\\n",
      "0             PA              PALERMO           PALERMO  90135   \n",
      "1             AG            AGRIGENTO         AGRIGENTO  92100   \n",
      "2             AG            AGRIGENTO         AGRIGENTO  92100   \n",
      "3             AG            AGRIGENTO         AGRIGENTO  92100   \n",
      "4             AG            AGRIGENTO         AGRIGENTO  92100   \n",
      "\n",
      "                    INDIRIZZO  \\\n",
      "0  Via EUGENIO L'EMIRO, 34/36   \n",
      "1           Via Empedocle, 71   \n",
      "2   Via Leonardo Sciascia, 28   \n",
      "3  Via Alessandro Manzoni, 28   \n",
      "4             Via Gioeni, 159   \n",
      "\n",
      "                                 DESCRIZIONEFARMACIA  LATITUDINE  LONGITUDINE  \\\n",
      "0                                          VERGA SRL   45.758034     8.376776   \n",
      "1                                     AVERNA ANTONIO   37.310958    13.581285   \n",
      "2  CAMILLERI DELLE DR.SSE ANNACAMILLERI E DANIELA...   37.273686    13.617993   \n",
      "3                                     NUARA MARCELLA   37.308149    13.580227   \n",
      "4                                  ROMANO GIUSEPPINA   37.314372    13.581471   \n",
      "\n",
      "   PARTITAIVA  \n",
      "0  6654320826  \n",
      "1   141720847  \n",
      "2  2366000848  \n",
      "3  1528440843  \n",
      "4  1800710848  \n"
     ]
    }
   ],
   "source": [
    "import pandas as pd\n",
    "from pathlib import Path\n",
    "farmacie = pd.read_csv(\"../datasets/completed/farmacie.csv\", sep=\";\")\n",
    "farmacie = farmacie.drop(farmacie.loc[1484:].index)\n",
    "\n",
    "print(farmacie.head())\n",
    "df = pd.read_csv(\"../datasets/out.csv\")\n",
    "df_finale = pd.merge(farmacie,df,how=\"outer\")\n"
   ]
  },
  {
   "cell_type": "code",
   "execution_count": 21,
   "metadata": {
    "ExecuteTime": {
     "end_time": "2023-06-18T11:44:58.871984500Z",
     "start_time": "2023-06-18T11:44:58.827484400Z"
    },
    "collapsed": false
   },
   "outputs": [],
   "source": [
    "filepath = Path('../datasets/farmacie_new.csv')\n",
    "df_finale.to_csv(filepath, index=False)"
   ]
  },
  {
   "cell_type": "code",
   "execution_count": null,
   "metadata": {},
   "outputs": [],
   "source": []
  },
  {
   "cell_type": "code",
   "execution_count": null,
   "metadata": {
    "collapsed": false
   },
   "outputs": [],
   "source": []
  }
 ],
 "metadata": {
  "kernelspec": {
   "display_name": "Python 3",
   "language": "python",
   "name": "python3"
  },
  "language_info": {
   "codemirror_mode": {
    "name": "ipython",
    "version": 3
   },
   "file_extension": ".py",
   "mimetype": "text/x-python",
   "name": "python",
   "nbconvert_exporter": "python",
   "pygments_lexer": "ipython3",
   "version": "3.9.7"
  }
 },
 "nbformat": 4,
 "nbformat_minor": 0
}
