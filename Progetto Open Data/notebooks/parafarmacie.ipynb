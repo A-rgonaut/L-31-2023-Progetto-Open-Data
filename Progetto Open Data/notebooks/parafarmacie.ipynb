{
 "cells": [
  {
   "cell_type": "code",
   "execution_count": 1,
   "metadata": {},
   "outputs": [],
   "source": [
    "import urllib.parse\n",
    "from rdflib import Graph, Literal, Namespace, URIRef, BNode\n",
    "from rdflib.namespace import RDF, RDFS, FOAF, OWL, XSD, DC, DCTERMS \n",
    "import pandas as pd"
   ]
  },
  {
   "cell_type": "code",
   "execution_count": 2,
   "metadata": {},
   "outputs": [],
   "source": [
    "base_uri = \"http://www.sanitasicilia.it/resource/\"\n",
    "\n",
    "g = Graph()\n",
    "count = 0\n",
    "\n",
    "sso = Namespace(\"http://www.sanitasicilia.it/ontology/\")\n",
    "\n",
    "g.bind(\"sso\", sso)\n",
    "\n",
    "ssr = Namespace(\"http://www.sanitasicilia.it/resource/\")\n",
    "g.bind(\"ssr\", ssr)\n"
   ]
  },
  {
   "cell_type": "code",
   "execution_count": 3,
   "metadata": {},
   "outputs": [],
   "source": [
    "def urify(ns, testo):\n",
    "    testo=testo.replace(\" \",\"_\").replace(\"\\'\",\"\")\n",
    "    return ns+urllib.parse.quote(testo)"
   ]
  },
  {
   "cell_type": "code",
   "execution_count": 4,
   "metadata": {},
   "outputs": [
    {
     "data": {
      "text/plain": [
       "<Graph identifier=Nf926878fb0b74b3ab6ad615e58ceadec (<class 'rdflib.graph.Graph'>)>"
      ]
     },
     "execution_count": 4,
     "metadata": {},
     "output_type": "execute_result"
    }
   ],
   "source": [
    "#Parafarmacie\n",
    "count = 0\n",
    "row_prev = pd.Series()\n",
    "\n",
    "def addBNodes(res, row):\n",
    "    bn = BNode()\n",
    "\n",
    "    g.add([res, sso.hasSite, bn])\n",
    "    g.add([bn, sso.hasAddress, Literal(row[1], datatype=XSD.string) ])\n",
    "   \n",
    "    if(row[3] != 0):\n",
    "        g.add([bn, sso.hasCap, Literal(row[3], datatype=XSD.integer) ])\n",
    "    g.add([bn, sso.isIn, URIRef(urify(base_uri, row[4].title()))])\n",
    "\n",
    "    if(row[7] != 0 and row[8] != 0):\n",
    "        g.add([bn, sso.hasLatitude, Literal(row[7], datatype=XSD.decimal) ])\n",
    "        g.add([bn, sso.hasLongitude, Literal(row[8], datatype=XSD.decimal) ])\n",
    "\n",
    "def addTriples(row):\n",
    "    global count, row_prev\n",
    "\n",
    "    if not row_prev.empty:\n",
    "        if row_prev[0] == row[0]:\n",
    "            code = 'PF'+f'{count-1:04}'\n",
    "            addBNodes(URIRef(urify(base_uri, code)), row)\n",
    "            return\n",
    "    \n",
    "    code = 'PF'+f'{count:04}'\n",
    "\n",
    "    row_prev = pd.Series(row)\n",
    "\n",
    "    res = URIRef(urify(base_uri, code))\n",
    "    g.add([res, URIRef(RDF.type), URIRef(sso.Parafarmacia)])\n",
    "\n",
    "    g.add([res, sso.hasName, Literal(row[0], datatype=XSD.string) ])\n",
    "    g.add([res, sso.hasVatNumber, Literal(row[2], datatype=XSD.integer) ])\n",
    "\n",
    "    addBNodes(URIRef(urify(base_uri, code)), row)\n",
    "    count = count + 1\n",
    "\n",
    "parafarmacie_df = pd.read_csv(\"../datasets/csv/completed/parafarmacie.csv\")\n",
    "parafarmacie_df[\"LATITUDINE\"] = parafarmacie_df[\"LATITUDINE\"].apply(lambda x : float(x.replace(',', '.')) if x != '-' else 0.0)\n",
    "parafarmacie_df[\"LONGITUDINE\"] = parafarmacie_df[\"LONGITUDINE\"].apply(lambda x : float(x.replace(',', '.')) if x != '-' else 0.0)\n",
    "parafarmacie_df[\"PARTITAIVA\"] = parafarmacie_df[\"PARTITAIVA\"].apply(lambda x : x if x != '-' else 0)\n",
    "\n",
    "\n",
    "parafarmacie_df.apply(lambda row : addTriples(row), axis=1)\n",
    "\n",
    "g.serialize(destination=\"../datasets/rdf/parafarmacie.ttl\", format=\"turtle\")"
   ]
  },
  {
   "cell_type": "code",
   "execution_count": 22,
   "metadata": {},
   "outputs": [
    {
     "name": "stdout",
     "output_type": "stream",
     "text": [
      "{'pfname': rdflib.term.Literal('farmarisparmio', datatype=rdflib.term.URIRef('http://www.w3.org/2001/XMLSchema#string')), 'pfAddress': rdflib.term.Literal('via V. Emanuele', datatype=rdflib.term.URIRef('http://www.w3.org/2001/XMLSchema#string'))}\n",
      "{'pfname': rdflib.term.Literal('farmarisparmio', datatype=rdflib.term.URIRef('http://www.w3.org/2001/XMLSchema#string')), 'pfAddress': rdflib.term.Literal('via garibaldi', datatype=rdflib.term.URIRef('http://www.w3.org/2001/XMLSchema#string'))}\n",
      "{'pfname': rdflib.term.Literal('farmarisparmio', datatype=rdflib.term.URIRef('http://www.w3.org/2001/XMLSchema#string')), 'pfAddress': rdflib.term.Literal('via palermo', datatype=rdflib.term.URIRef('http://www.w3.org/2001/XMLSchema#string'))}\n",
      "{'pfname': rdflib.term.Literal('farmarisparmio', datatype=rdflib.term.URIRef('http://www.w3.org/2001/XMLSchema#string')), 'pfAddress': rdflib.term.Literal('via garibaldi', datatype=rdflib.term.URIRef('http://www.w3.org/2001/XMLSchema#string'))}\n",
      "{'pfname': rdflib.term.Literal('farmarisparmio', datatype=rdflib.term.URIRef('http://www.w3.org/2001/XMLSchema#string')), 'pfAddress': rdflib.term.Literal('corso delle province', datatype=rdflib.term.URIRef('http://www.w3.org/2001/XMLSchema#string'))}\n"
     ]
    }
   ],
   "source": [
    "res = g.query('''\n",
    "                SELECT ?pfname ?pfAddress\n",
    "                WHERE {\n",
    "                    ?pf rdf:type sso:Parafarmacia . \n",
    "                    ?pf sso:hasName ?pfname .\n",
    "                    ?pf sso:hasSite ?pfSite .\n",
    "                    ?pfSite sso:hasAddress ?pfAddress .\n",
    "                    FILTER REGEX(?pfname, 'farmarisparmio') .\n",
    "                }''')\n",
    "\n",
    "for i in res:\n",
    "    print(i.asdict())"
   ]
  }
 ],
 "metadata": {
  "kernelspec": {
   "display_name": "Python 3",
   "language": "python",
   "name": "python3"
  },
  "language_info": {
   "codemirror_mode": {
    "name": "ipython",
    "version": 3
   },
   "file_extension": ".py",
   "mimetype": "text/x-python",
   "name": "python",
   "nbconvert_exporter": "python",
   "pygments_lexer": "ipython3",
   "version": "3.9.7"
  },
  "orig_nbformat": 4
 },
 "nbformat": 4,
 "nbformat_minor": 2
}
