{
 "cells": [
  {
   "cell_type": "code",
   "execution_count": 64,
   "metadata": {},
   "outputs": [],
   "source": [
    "import pandas as pd\n",
    "import re\n",
    "comuni = pd.read_csv(\"../datasets/popolazione_sicilia.csv\", sep=',', skiprows=[1])\n",
    "farmacie = pd.read_csv('../datasets/synthesized_&_clenaned/farmacie.csv', sep=';')\n",
    "\n",
    "comuni['Territorio'] = comuni['Territorio'].apply(lambda x : x.title().replace('à', 'a\\'').replace('è', 'e\\'').replace('ì', 'i\\'').replace('ò', 'o\\'').replace('ù', 'u\\''))\n",
    "farmacie['DESCRIZIONECOMUNE'] = farmacie['DESCRIZIONECOMUNE'].apply(lambda x : x.title())\n",
    "joined = comuni.merge(farmacie, left_on='Territorio', right_on='DESCRIZIONECOMUNE')\n",
    "\n",
    "df2=joined.drop_duplicates(subset=['Territorio'], keep='first')\n",
    "\n",
    "df3=df2.rename(columns={\"Territorio\": \"Comune\", \"Value\": \"PopolazioneTotale\", \"DESCRIZIONEPROVINCIA\" : \"Provincia\", \"SIGLAPROVINCIA\":\"SiglaProvincia\"})\n",
    "df3.to_csv('comuni_sicilia.csv', columns=['Comune', 'PopolazioneTotale', 'Provincia', 'SiglaProvincia'], index=False)"
   ]
  }
 ],
 "metadata": {
  "kernelspec": {
   "display_name": "Python 3",
   "language": "python",
   "name": "python3"
  },
  "language_info": {
   "codemirror_mode": {
    "name": "ipython",
    "version": 3
   },
   "file_extension": ".py",
   "mimetype": "text/x-python",
   "name": "python",
   "nbconvert_exporter": "python",
   "pygments_lexer": "ipython3",
   "version": "3.9.7"
  },
  "orig_nbformat": 4
 },
 "nbformat": 4,
 "nbformat_minor": 2
}
